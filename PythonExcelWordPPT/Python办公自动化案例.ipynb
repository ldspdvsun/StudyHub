{
 "cells": [
  {
   "cell_type": "markdown",
   "id": "650f6da2-3b1c-4575-8d85-b1925e8a4ebd",
   "metadata": {},
   "source": [
    "学习网站\n",
    "\n",
    "> https://www.bilibili.com/video/BV1JT411w7Ea/?spm_id_from=333.337.search-card.all.click&vd_source=2387a5b3445681e0441a448a2597b375"
   ]
  },
  {
   "cell_type": "markdown",
   "id": "aacde7ef-fef0-4b17-8b91-52a7cacb5311",
   "metadata": {},
   "source": [
    "# xlwt 写入数据"
   ]
  },
  {
   "cell_type": "code",
   "execution_count": 1,
   "id": "85dfbb28-f87e-4c86-9070-172e2be97817",
   "metadata": {
    "execution": {
     "iopub.execute_input": "2023-03-14T00:46:50.914972Z",
     "iopub.status.busy": "2023-03-14T00:46:50.914693Z",
     "iopub.status.idle": "2023-03-14T00:46:50.923343Z",
     "shell.execute_reply": "2023-03-14T00:46:50.922210Z",
     "shell.execute_reply.started": "2023-03-14T00:46:50.914937Z"
    },
    "tags": []
   },
   "outputs": [],
   "source": [
    "# pip install xlrd"
   ]
  },
  {
   "cell_type": "code",
   "execution_count": 2,
   "id": "e8f44b88-286f-4d9f-8a00-b7b75f0cdb61",
   "metadata": {
    "execution": {
     "iopub.execute_input": "2023-03-14T00:46:50.925657Z",
     "iopub.status.busy": "2023-03-14T00:46:50.925292Z",
     "iopub.status.idle": "2023-03-14T00:46:51.037474Z",
     "shell.execute_reply": "2023-03-14T00:46:51.036642Z",
     "shell.execute_reply.started": "2023-03-14T00:46:50.925623Z"
    },
    "tags": []
   },
   "outputs": [],
   "source": [
    "import xlwt\n",
    "\n",
    "# 1. 创建一个excel\n",
    "wb1 = xlwt.Workbook()\n",
    "# 2. 创建一个工作簿\n",
    "sheet1 = wb1.add_sheet(\"电影\")\n",
    "\n",
    "title = [\"影片\", \"综合票房\", \"票房占比\", \"排片场次\"]\n",
    "# 影片\n",
    "movies = [\"如果声音不记得\", \"赤狐先生\", \"除暴\", \"疯狂原始人\"]\n",
    "# 综合票房\n",
    "money = [32413, 23141, 6123, 3458]\n",
    "# 票房占比\n",
    "proportion = [33.1, 22.3, 13.4, 6.9]\n",
    "# 排片场次\n",
    "number = [32451, 5625, 6731, 919]\n",
    "\n",
    "# 3. 写入数据到单元格\n",
    "# sheet1.write(0, 0, \"复仇者联盟\")\n",
    "# for i in range(10):\n",
    "#     for j in range(10):\n",
    "#         sheet1.write(i, j, i * 10 + j)\n",
    "# 添加表头\n",
    "for i in range(len(title)):\n",
    "    sheet1.write(0, i, title[i])\n",
    "# 添加具体数据\n",
    "for i in range(1, len(movies) + 1):\n",
    "    sheet1.write(i, 0, movies[i - 1])\n",
    "    sheet1.write(i, 1, money[i - 1])\n",
    "    sheet1.write(i, 2, proportion[i - 1])\n",
    "    sheet1.write(i, 3, number[i - 1])\n",
    "# 4. 保存excel\n",
    "wb1.save(\"./data/电影数据.xlsx\")"
   ]
  },
  {
   "cell_type": "markdown",
   "id": "f8c4963a-2f06-40ea-a491-c3802ed1349d",
   "metadata": {},
   "source": [
    "# xlrd 读取数据"
   ]
  },
  {
   "cell_type": "code",
   "execution_count": 3,
   "id": "a8950e62-44dc-44fb-94a2-92653536f98e",
   "metadata": {
    "execution": {
     "iopub.execute_input": "2023-03-14T00:46:51.039212Z",
     "iopub.status.busy": "2023-03-14T00:46:51.038902Z",
     "iopub.status.idle": "2023-03-14T00:46:51.042707Z",
     "shell.execute_reply": "2023-03-14T00:46:51.041899Z",
     "shell.execute_reply.started": "2023-03-14T00:46:51.039181Z"
    },
    "tags": []
   },
   "outputs": [],
   "source": [
    "# 为方便读取xlsx文件，xlrd选择1.2.0版本\n",
    "# pip install xlrd==1.2.0"
   ]
  },
  {
   "cell_type": "code",
   "execution_count": 4,
   "id": "cfc7bcaf-b463-4f30-8af1-9e69656b9f4b",
   "metadata": {
    "execution": {
     "iopub.execute_input": "2023-03-14T00:46:51.044580Z",
     "iopub.status.busy": "2023-03-14T00:46:51.044015Z",
     "iopub.status.idle": "2023-03-14T00:46:51.066118Z",
     "shell.execute_reply": "2023-03-14T00:46:51.065189Z",
     "shell.execute_reply.started": "2023-03-14T00:46:51.044536Z"
    },
    "tags": []
   },
   "outputs": [
    {
     "name": "stdout",
     "output_type": "stream",
     "text": [
      "excel中有：1个工作簿\n",
      "excel中sheet的名字：['电影']\n",
      "sheet里面一共有5行，4列\n"
     ]
    }
   ],
   "source": [
    "import xlrd\n",
    "\n",
    "# 打开excel\n",
    "wb2 = xlrd.open_workbook(\"./data/电影数据.xlsx\")\n",
    "\n",
    "print(f\"excel中有：{wb2.nsheets}个工作簿\")\n",
    "print(f\"excel中sheet的名字：{wb2.sheet_names()}\")\n",
    "# 打开工作簿\n",
    "sheet21 = wb2.sheet_by_index(0)\n",
    "sheet22 = wb2.sheet_by_name(\"电影\")\n",
    "\n",
    "# print(sheet11)\n",
    "# print(sheet12)\n",
    "# 获取行数还有列数\n",
    "print(f\"sheet里面一共有{sheet21.nrows}行，{sheet21.ncols}列\")"
   ]
  },
  {
   "cell_type": "code",
   "execution_count": 5,
   "id": "30f49e6f-bbf9-4caf-9800-0097e96c30ae",
   "metadata": {
    "execution": {
     "iopub.execute_input": "2023-03-14T00:46:51.069800Z",
     "iopub.status.busy": "2023-03-14T00:46:51.069049Z",
     "iopub.status.idle": "2023-03-14T00:46:51.075655Z",
     "shell.execute_reply": "2023-03-14T00:46:51.074718Z",
     "shell.execute_reply.started": "2023-03-14T00:46:51.069766Z"
    },
    "tags": []
   },
   "outputs": [
    {
     "name": "stdout",
     "output_type": "stream",
     "text": [
      "影片 综合票房 票房占比 排片场次 \n",
      "如果声音不记得 32413.0 33.1 32451.0 \n",
      "赤狐先生 23141.0 22.3 5625.0 \n",
      "除暴 6123.0 13.4 6731.0 \n",
      "疯狂原始人 3458.0 6.9 919.0 \n"
     ]
    }
   ],
   "source": [
    "# 获取单元格数据\n",
    "for i in range(sheet21.nrows):\n",
    "    for j in range(sheet21.ncols):\n",
    "        print(sheet21.cell_value(i, j), end=\" \")\n",
    "    print()"
   ]
  },
  {
   "cell_type": "code",
   "execution_count": 6,
   "id": "aa906a0d-7a42-4c92-b8df-40b3cb9156b6",
   "metadata": {
    "execution": {
     "iopub.execute_input": "2023-03-14T00:46:51.077794Z",
     "iopub.status.busy": "2023-03-14T00:46:51.077254Z",
     "iopub.status.idle": "2023-03-14T00:46:51.092659Z",
     "shell.execute_reply": "2023-03-14T00:46:51.091911Z",
     "shell.execute_reply.started": "2023-03-14T00:46:51.077762Z"
    },
    "tags": []
   },
   "outputs": [
    {
     "name": "stdout",
     "output_type": "stream",
     "text": [
      "['影片', '综合票房', '票房占比', '排片场次']\n",
      "['影片', '如果声音不记得', '赤狐先生', '除暴', '疯狂原始人']\n"
     ]
    }
   ],
   "source": [
    "# 获取整行整列数据\n",
    "print(sheet21.row_values(0))\n",
    "print(sheet21.col_values(0))"
   ]
  },
  {
   "cell_type": "markdown",
   "id": "0d5c6e6a-c1b0-4259-ba1b-20bfe7d92802",
   "metadata": {},
   "source": [
    "# xlutils修改Excel数据"
   ]
  },
  {
   "cell_type": "code",
   "execution_count": 7,
   "id": "1cf4d6c4-b268-43de-babf-119a565e98ed",
   "metadata": {
    "execution": {
     "iopub.execute_input": "2023-03-14T00:46:51.094879Z",
     "iopub.status.busy": "2023-03-14T00:46:51.094115Z",
     "iopub.status.idle": "2023-03-14T00:46:51.099257Z",
     "shell.execute_reply": "2023-03-14T00:46:51.098263Z",
     "shell.execute_reply.started": "2023-03-14T00:46:51.094847Z"
    },
    "tags": []
   },
   "outputs": [],
   "source": [
    "# pip install xlutils"
   ]
  },
  {
   "cell_type": "code",
   "execution_count": 8,
   "id": "d673b7ea-8ad7-471b-890e-ca0ce3b03228",
   "metadata": {
    "execution": {
     "iopub.execute_input": "2023-03-14T00:46:51.101220Z",
     "iopub.status.busy": "2023-03-14T00:46:51.100588Z",
     "iopub.status.idle": "2023-03-14T00:46:51.114877Z",
     "shell.execute_reply": "2023-03-14T00:46:51.114072Z",
     "shell.execute_reply.started": "2023-03-14T00:46:51.101188Z"
    },
    "tags": []
   },
   "outputs": [
    {
     "name": "stdout",
     "output_type": "stream",
     "text": [
      "{}\n"
     ]
    }
   ],
   "source": [
    "import xlrd\n",
    "from xlutils.copy import copy\n",
    "\n",
    "# 打开excel\n",
    "read_book = xlrd.open_workbook(\"./data/电影数据.xlsx\")\n",
    "\n",
    "# 复制数据\n",
    "wb3 = copy(read_book)\n",
    "\n",
    "# 选择工作簿\n",
    "sheet31 = wb3.get_sheet(0)\n",
    "print(sheet31.cols)"
   ]
  },
  {
   "cell_type": "code",
   "execution_count": 9,
   "id": "4d65b52f-784f-4555-a5f3-ba24c2c6c3ad",
   "metadata": {
    "execution": {
     "iopub.execute_input": "2023-03-14T00:46:51.116638Z",
     "iopub.status.busy": "2023-03-14T00:46:51.116135Z",
     "iopub.status.idle": "2023-03-14T00:46:51.121973Z",
     "shell.execute_reply": "2023-03-14T00:46:51.121143Z",
     "shell.execute_reply.started": "2023-03-14T00:46:51.116606Z"
    },
    "tags": []
   },
   "outputs": [],
   "source": [
    "# 写入数据\n",
    "sheet31.write(read_book.sheet_by_index(0).nrows, 0, \"保家卫国\")\n",
    "sheet31.write(read_book.sheet_by_index(0).nrows, 1, 333)\n",
    "sheet31.write(read_book.sheet_by_index(0).nrows, 2, 5.1)\n",
    "sheet31.write(read_book.sheet_by_index(0).nrows, 3, 450)\n",
    "\n",
    "# 增加sheet\n",
    "sheet32 = wb3.add_sheet(\"汇总数据\")"
   ]
  },
  {
   "cell_type": "code",
   "execution_count": 10,
   "id": "ed1be06c-1a8e-4cc2-8c9c-8a4ef3fbb70b",
   "metadata": {
    "execution": {
     "iopub.execute_input": "2023-03-14T00:46:51.123945Z",
     "iopub.status.busy": "2023-03-14T00:46:51.123429Z",
     "iopub.status.idle": "2023-03-14T00:46:51.134485Z",
     "shell.execute_reply": "2023-03-14T00:46:51.133763Z",
     "shell.execute_reply.started": "2023-03-14T00:46:51.123912Z"
    },
    "tags": []
   },
   "outputs": [],
   "source": [
    "# 读取并计算数据(获取第一个工作簿中 总票房 的 和，并保存到新增的sheet中)\n",
    "sum = 0\n",
    "sheet311 = read_book.sheet_by_index(0)\n",
    "for i in range(1, sheet311.nrows):\n",
    "    sum += sheet311.cell_value(i, 1)\n",
    "sheet32.write(0, 0, \"总票房\")\n",
    "sheet32.write(0, 1, sum)\n",
    "wb3.save(\"./data/电影数据2.xlsx\")"
   ]
  },
  {
   "cell_type": "markdown",
   "id": "9dd3df5a-649e-450c-b45f-0486fe09d2ca",
   "metadata": {},
   "source": [
    "# xlwt设置内容样式 "
   ]
  },
  {
   "cell_type": "code",
   "execution_count": 11,
   "id": "dafc6a27-1973-492e-8ee7-0b2bcb2bb651",
   "metadata": {
    "execution": {
     "iopub.execute_input": "2023-03-14T00:46:51.136202Z",
     "iopub.status.busy": "2023-03-14T00:46:51.135908Z",
     "iopub.status.idle": "2023-03-14T00:46:51.149756Z",
     "shell.execute_reply": "2023-03-14T00:46:51.149033Z",
     "shell.execute_reply.started": "2023-03-14T00:46:51.136172Z"
    },
    "tags": []
   },
   "outputs": [],
   "source": [
    "import xlwt\n",
    "\n",
    "# 打开excel\n",
    "wb4 = xlwt.Workbook()\n",
    "# 创建sheet\n",
    "sheet41 = wb4.add_sheet(\"数据\")\n",
    "\n",
    "ft = xlwt.Font()\n",
    "# 设置字体\n",
    "ft.name = \"微软雅黑\"\n",
    "\n",
    "# 设置颜色\n",
    "ft.colour_index = 2\n",
    "\n",
    "# 设置字体大小(单位 * 20)\n",
    "ft.height = 11 * 20\n",
    "\n",
    "# 设置加粗\n",
    "ft.bold = True\n",
    "# 设置下划线\n",
    "ft.underline = True\n",
    "# 设置斜体\n",
    "ft.italic = True\n",
    "\n",
    "# 设置对齐位置\n",
    "alg = xlwt.Alignment()\n",
    "# 1左对齐 2中对齐 3右对齐\n",
    "alg.horz = 2\n",
    "# 0左对齐 1中对齐 2右对齐\n",
    "alg.vert = 1\n",
    "# 设置单元格宽度（居中、靠左、靠右对齐）\n",
    "sheet41.col(2).width = 10 * 256\n",
    "# 设置单元格高度（靠上、靠中、靠下）\n",
    "sheet41.row(2).height_mismatch = True\n",
    "sheet41.row(2).height = 10 * 256\n",
    "# 设置单元格宽度（居中、靠左、靠右对齐）\n",
    "sheet41.col(3).width = 20 * 256\n",
    "# 设置单元格高度（靠上、靠中、靠下）\n",
    "sheet41.row(3).height_mismatch = True\n",
    "sheet41.row(3).height = 20 * 256\n",
    "\n",
    "\n",
    "# 设置边框\n",
    "bornder = xlwt.Borders()\n",
    "# 细实线:1，小粗实线:2，细虚线:3，中细虚线:4，大粗实线:5，双线:6，细点虚线:7，\n",
    "# 大粗虚线:8，细点划线:9，粗点划线:10，细双点划线:11，粗双点划线:12，斜点划线:13\n",
    "bornder.left = 1\n",
    "bornder.right = 1\n",
    "bornder.top = 1\n",
    "bornder.bottom = 1\n",
    "\n",
    "# 白色：1，红色：2，绿色：3，蓝色：4，黄色：5，水红色：6\n",
    "bornder.left_colour = 1\n",
    "bornder.right_colour = 2\n",
    "bornder.top_colour = 3\n",
    "bornder.bottom_colour = 4\n",
    "\n",
    "# 背景颜色\n",
    "pattern = xlwt.Pattern()\n",
    "# 填实\n",
    "pattern.pattern = xlwt.Pattern.SOLID_PATTERN\n",
    "# 颜色\n",
    "pattern.pattern_fore_colour = 5\n",
    "\n",
    "# 设置字体样式\n",
    "style = xlwt.XFStyle()\n",
    "style.font = ft\n",
    "\n",
    "# 设置对齐位置\n",
    "style2 = xlwt.XFStyle()\n",
    "style2.alignment = alg\n",
    "\n",
    "# 设置字体样式 + 对齐位置\n",
    "style3 = xlwt.XFStyle()\n",
    "style3.alignment = alg\n",
    "style3.font = ft\n",
    "\n",
    "# 设置边框样式\n",
    "style4 = xlwt.XFStyle()\n",
    "style4.borders = bornder\n",
    "\n",
    "# 设置背景颜色\n",
    "style5 = xlwt.XFStyle()\n",
    "style5.pattern = pattern\n",
    "\n",
    "style6 = xlwt.easyxf(\"font:bold on,color_index 6;align:vert center,horiz center\")\n",
    "\n",
    "# 正常情况，什么也不设置\n",
    "sheet41.write(0, 0, \"吕小布\")\n",
    "# 设置字体样式\n",
    "sheet41.write(1, 1, \"吕小布\", style)\n",
    "# 设置单元格内容对齐位置\n",
    "sheet41.write(2, 2, \"吕小布\", style2)\n",
    "# 设置字体样式 + 单元格对齐位置\n",
    "sheet41.write(3, 3, \"吕小布\", style3)\n",
    "# 设置边框样式\n",
    "sheet41.write(4, 4, \"吕小布\", style4)\n",
    "# 设置背景颜色\n",
    "sheet41.write(5, 5, \"吕小布\", style5)\n",
    "# 简写样式\n",
    "sheet41.write(6, 6, \"吕小布\", style6)\n",
    "\n",
    "\n",
    "wb4.save(\"./data/04_excel_style.xls\")"
   ]
  },
  {
   "cell_type": "markdown",
   "id": "2157422a-e787-421d-8e86-e5da90a9251a",
   "metadata": {},
   "source": [
    "# 数据的汇总案例"
   ]
  },
  {
   "cell_type": "code",
   "execution_count": 12,
   "id": "03ac0023-f004-4eb5-9031-da5fc6dc0d14",
   "metadata": {
    "execution": {
     "iopub.execute_input": "2023-03-14T00:46:51.151620Z",
     "iopub.status.busy": "2023-03-14T00:46:51.151110Z",
     "iopub.status.idle": "2023-03-14T00:46:51.185315Z",
     "shell.execute_reply": "2023-03-14T00:46:51.184353Z",
     "shell.execute_reply.started": "2023-03-14T00:46:51.151575Z"
    },
    "tags": []
   },
   "outputs": [],
   "source": [
    "import xlrd\n",
    "from xlutils.copy import copy\n",
    "\n",
    "file_path = \"./data/data01.xlsx\"\n",
    "\n",
    "# 读取数据\n",
    "def read_data(file_path):\n",
    "    wb5 = xlrd.open_workbook(file_path)\n",
    "    sheet51 = wb5.sheet_by_index(0)\n",
    "    # 分类价格 {a:110,b:200}\n",
    "    fen_type = {}\n",
    "    # 总价 [1,2,3,4...]\n",
    "    count_price = []\n",
    "\n",
    "    # 从0行开始计算价格\n",
    "    for r in range(sheet51.nrows):\n",
    "        count = sheet51.cell_value(r, 3) * sheet51.cell_value(r, 4)\n",
    "        count_price.append(count)\n",
    "        # 将计算好后的价格添加到字典中\n",
    "        key = sheet51.cell_value(r, 0)\n",
    "        if fen_type.get(key):\n",
    "            fen_type[key] += count\n",
    "        else:\n",
    "            fen_type[key] = count\n",
    "    # 各分类的总价格，每个单品的价格\n",
    "    return fen_type, count_price\n",
    "\n",
    "\n",
    "def save(fen, count):\n",
    "    wb5 = xlrd.open_workbook(file_path)\n",
    "    sheet51 = wb5.sheet_by_index(0)\n",
    "    wb5_copy = copy(wb5)\n",
    "    sheet52 = wb5_copy.get_sheet(0)\n",
    "\n",
    "    for r in range(sheet51.nrows):\n",
    "        sheet52.write(r, sheet51.ncols, count[r])\n",
    "\n",
    "    sheet_new = wb5_copy.add_sheet(\"汇总\")\n",
    "    for i, key in enumerate(fen.keys()):\n",
    "        sheet_new.write(i, 0, key)\n",
    "        sheet_new.write(i, 1, fen.get(key))\n",
    "\n",
    "    wb5_copy.save(\"./data/data02.xlsx\")\n",
    "\n",
    "\n",
    "fen, count = read_data(file_path)\n",
    "save(fen, count)"
   ]
  },
  {
   "cell_type": "markdown",
   "id": "d5834301-dc7b-4b4e-bdf7-514c032b21fc",
   "metadata": {},
   "source": [
    "# 表格的拆分"
   ]
  },
  {
   "cell_type": "code",
   "execution_count": 13,
   "id": "911a3988-736c-484e-b09d-4df3793e9799",
   "metadata": {
    "execution": {
     "iopub.execute_input": "2023-03-14T00:46:51.187117Z",
     "iopub.status.busy": "2023-03-14T00:46:51.186801Z",
     "iopub.status.idle": "2023-03-14T00:46:51.205041Z",
     "shell.execute_reply": "2023-03-14T00:46:51.204216Z",
     "shell.execute_reply.started": "2023-03-14T00:46:51.187084Z"
    }
   },
   "outputs": [],
   "source": [
    "import xlrd\n",
    "from xlutils.copy import copy\n",
    "\n",
    "source_file = \"./data/data01.xlsx\"\n",
    "# 获取表格数据\n",
    "def get_data(source_file):\n",
    "    wb6 = xlrd.open_workbook(source_file)\n",
    "\n",
    "    sheet61 = wb6.sheet_by_index(0)\n",
    "    all_data = {}\n",
    "    for r in range(sheet61.nrows):\n",
    "        d = {\n",
    "            \"type\": sheet61.cell_value(r, 1),\n",
    "            \"name\": sheet61.cell_value(r, 2),\n",
    "            \"count\": sheet61.cell_value(r, 3),\n",
    "            \"price\": sheet61.cell_value(r, 4),\n",
    "        }\n",
    "        key = sheet61.cell_value(r, 0)\n",
    "        if all_data.get(key):\n",
    "            all_data[key].append(d)\n",
    "        else:\n",
    "            all_data[key] = [d]\n",
    "    return all_data\n",
    "\n",
    "\n",
    "# 保存\n",
    "def save(data):\n",
    "    wb6 = xlrd.open_workbook(source_file)\n",
    "    wb6_copy = copy(wb6)\n",
    "    for key in data.keys():\n",
    "        tmp_sheet = wb6_copy.add_sheet(key)\n",
    "        for r, d in enumerate(data.get(key)):\n",
    "            tmp_sheet.write(r, 0, d.get(\"type\"))\n",
    "            tmp_sheet.write(r, 1, d.get(\"name\"))\n",
    "            tmp_sheet.write(r, 2, d.get(\"count\"))\n",
    "            tmp_sheet.write(r, 3, d.get(\"price\"))\n",
    "    wb6_copy.save(\"./data/data01_6.xlsx\")\n",
    "\n",
    "\n",
    "all_data = get_data(source_file)\n",
    "save(all_data)"
   ]
  },
  {
   "cell_type": "markdown",
   "id": "fdcf1ad0-54a8-4de5-836f-df8ff5c2c309",
   "metadata": {},
   "source": [
    "# openpyxl读取数据"
   ]
  },
  {
   "cell_type": "code",
   "execution_count": 14,
   "id": "898adfc7-19b5-4fa0-b4be-f5780ca57b2b",
   "metadata": {
    "execution": {
     "iopub.execute_input": "2023-03-14T00:46:51.209737Z",
     "iopub.status.busy": "2023-03-14T00:46:51.209482Z",
     "iopub.status.idle": "2023-03-14T00:46:51.775631Z",
     "shell.execute_reply": "2023-03-14T00:46:51.774304Z",
     "shell.execute_reply.started": "2023-03-14T00:46:51.209712Z"
    },
    "tags": []
   },
   "outputs": [
    {
     "name": "stdout",
     "output_type": "stream",
     "text": [
      "True\n",
      "['Sheet1']\n"
     ]
    },
    {
     "name": "stderr",
     "output_type": "stream",
     "text": [
      "/tmp/ipykernel_9037/3323595446.py:10: DeprecationWarning: Call to deprecated function get_sheet_by_name (Use wb[sheetname]).\n",
      "  sheet73 = wb7.get_sheet_by_name(\"Sheet1\")\n"
     ]
    }
   ],
   "source": [
    "from openpyxl import load_workbook\n",
    "\n",
    "\n",
    "def open():\n",
    "\n",
    "    wb7 = load_workbook(\"./data/data01.xlsx\")\n",
    "\n",
    "    sheet71 = wb7.active\n",
    "    sheet72 = wb7[\"Sheet1\"]\n",
    "    sheet73 = wb7.get_sheet_by_name(\"Sheet1\")\n",
    "\n",
    "    print(sheet71 is sheet72 is sheet73)\n",
    "\n",
    "\n",
    "def show_sheets():\n",
    "    wb7 = load_workbook(\"./data/data01.xlsx\")\n",
    "    print(wb7.sheetnames)\n",
    "\n",
    "\n",
    "open()\n",
    "show_sheets()"
   ]
  },
  {
   "cell_type": "markdown",
   "id": "257ddc1a-7ee6-46bc-9178-671491dcb925",
   "metadata": {},
   "source": [
    "# word的基本操作"
   ]
  },
  {
   "cell_type": "code",
   "execution_count": 15,
   "id": "f482b090-8575-49d9-a47e-a9245a76c82b",
   "metadata": {
    "execution": {
     "iopub.execute_input": "2023-03-14T00:46:51.779177Z",
     "iopub.status.busy": "2023-03-14T00:46:51.778781Z",
     "iopub.status.idle": "2023-03-14T00:46:51.878514Z",
     "shell.execute_reply": "2023-03-14T00:46:51.877674Z",
     "shell.execute_reply.started": "2023-03-14T00:46:51.779147Z"
    },
    "tags": []
   },
   "outputs": [],
   "source": [
    "from docx import Document\n",
    "from docx.shared import Inches"
   ]
  },
  {
   "cell_type": "markdown",
   "id": "e999f8ae-a1cf-41d0-b50c-3ae756ea4a54",
   "metadata": {},
   "source": [
    "## 设置标题级别\n",
    "\n",
    ">可以直接写数字代表级别，也可以通过level=x，默认0级"
   ]
  },
  {
   "cell_type": "code",
   "execution_count": 16,
   "id": "cb7e8f70-bb2c-4f20-ab9f-ee2e86e7719d",
   "metadata": {
    "execution": {
     "iopub.execute_input": "2023-03-14T00:46:51.879799Z",
     "iopub.status.busy": "2023-03-14T00:46:51.879499Z",
     "iopub.status.idle": "2023-03-14T00:46:51.911156Z",
     "shell.execute_reply": "2023-03-14T00:46:51.910190Z",
     "shell.execute_reply.started": "2023-03-14T00:46:51.879767Z"
    }
   },
   "outputs": [
    {
     "data": {
      "text/plain": [
       "<docx.text.paragraph.Paragraph at 0x7f4bb87b03a0>"
      ]
     },
     "execution_count": 16,
     "metadata": {},
     "output_type": "execute_result"
    }
   ],
   "source": [
    "doc1 = Document()\n",
    "\n",
    "doc1.add_heading(\"如何使用 Python 创建和操作 Word\", 0)\n",
    "doc1.add_heading(\"1级标题\", level=1)\n",
    "doc1.add_heading(\"2级标题\", level=2)\n",
    "doc1.add_heading(\"3级标题\", level=3)\n",
    "doc1.add_heading(\"4级标题\", level=4)"
   ]
  },
  {
   "cell_type": "markdown",
   "id": "8359a0d9-aaf9-4eb2-b598-67c462026acd",
   "metadata": {},
   "source": [
    "## add_paragraph 增加段落\n",
    "\n",
    ">段落与段落之间是分开的"
   ]
  },
  {
   "cell_type": "code",
   "execution_count": 17,
   "id": "c6cc9b11-53dc-46cb-a408-47fef5ef4cba",
   "metadata": {
    "execution": {
     "iopub.execute_input": "2023-03-14T00:46:51.913079Z",
     "iopub.status.busy": "2023-03-14T00:46:51.912676Z",
     "iopub.status.idle": "2023-03-14T00:46:51.919763Z",
     "shell.execute_reply": "2023-03-14T00:46:51.918904Z",
     "shell.execute_reply.started": "2023-03-14T00:46:51.913045Z"
    }
   },
   "outputs": [],
   "source": [
    "doc1.add_paragraph(\"这个是段落内容1\")\n",
    "# 'Title'相当于heading中的0级标题\n",
    "doc1.add_paragraph(\"这个是段落内容2\", \"Title\")\n",
    "paragraph = doc1.add_paragraph(\n",
    "    \"python环境搭建在线下载,一次下载长期使用;全系列版本都有,选择性下载,免费安装好.致力用户高效开发,支持远程协助安装,支持\"\n",
    ")"
   ]
  },
  {
   "cell_type": "markdown",
   "id": "69790720-935f-4420-b504-d0fb65d1733e",
   "metadata": {},
   "source": [
    "## add_run 段落后追加内容"
   ]
  },
  {
   "cell_type": "code",
   "execution_count": 18,
   "id": "12a3440f-532f-475d-a2f9-5322c6d18dc3",
   "metadata": {
    "execution": {
     "iopub.execute_input": "2023-03-14T00:46:51.921921Z",
     "iopub.status.busy": "2023-03-14T00:46:51.921236Z",
     "iopub.status.idle": "2023-03-14T00:46:51.930460Z",
     "shell.execute_reply": "2023-03-14T00:46:51.929499Z",
     "shell.execute_reply.started": "2023-03-14T00:46:51.921885Z"
    }
   },
   "outputs": [
    {
     "data": {
      "text/plain": [
       "<docx.text.run.Run at 0x7f4b90d85c70>"
      ]
     },
     "execution_count": 18,
     "metadata": {},
     "output_type": "execute_result"
    }
   ],
   "source": [
    "paragraph.add_run(\"这是段落追加的内容\")"
   ]
  },
  {
   "cell_type": "markdown",
   "id": "bfbaf73a-af57-421b-9623-21f5f85d2142",
   "metadata": {},
   "source": [
    "## 增加无序列表"
   ]
  },
  {
   "cell_type": "code",
   "execution_count": 19,
   "id": "39363305-ac50-4f51-bbcc-30fc5f659609",
   "metadata": {
    "execution": {
     "iopub.execute_input": "2023-03-14T00:46:51.932049Z",
     "iopub.status.busy": "2023-03-14T00:46:51.931732Z",
     "iopub.status.idle": "2023-03-14T00:46:51.943653Z",
     "shell.execute_reply": "2023-03-14T00:46:51.942945Z",
     "shell.execute_reply.started": "2023-03-14T00:46:51.932017Z"
    }
   },
   "outputs": [
    {
     "data": {
      "text/plain": [
       "<docx.text.paragraph.Paragraph at 0x7f4b90dee6d0>"
      ]
     },
     "execution_count": 19,
     "metadata": {},
     "output_type": "execute_result"
    }
   ],
   "source": [
    "doc1.add_paragraph(\"哪个不是动物：\")\n",
    "doc1.add_paragraph(\"喜洋洋：\", style=\"List Bullet\")\n",
    "doc1.add_paragraph(\"懒洋洋：\", style=\"List Bullet\")\n",
    "doc1.add_paragraph(\"苹果：\", style=\"List Bullet\")"
   ]
  },
  {
   "cell_type": "markdown",
   "id": "22070616-7c34-4f07-8792-2c84fe948d40",
   "metadata": {},
   "source": [
    "## 增加有序列表"
   ]
  },
  {
   "cell_type": "code",
   "execution_count": 20,
   "id": "af8f0200-5d4f-47e7-9daf-f75e17afd369",
   "metadata": {
    "execution": {
     "iopub.execute_input": "2023-03-14T00:46:51.946264Z",
     "iopub.status.busy": "2023-03-14T00:46:51.945724Z",
     "iopub.status.idle": "2023-03-14T00:46:51.956095Z",
     "shell.execute_reply": "2023-03-14T00:46:51.955272Z",
     "shell.execute_reply.started": "2023-03-14T00:46:51.946229Z"
    }
   },
   "outputs": [
    {
     "data": {
      "text/plain": [
       "<docx.text.paragraph.Paragraph at 0x7f4b90deec10>"
      ]
     },
     "execution_count": 20,
     "metadata": {},
     "output_type": "execute_result"
    }
   ],
   "source": [
    "doc1.add_paragraph(\"编程语言：\")\n",
    "doc1.add_paragraph(\"Python：\", style=\"List Number\")\n",
    "doc1.add_paragraph(\"Java：\", style=\"List Number\")\n",
    "doc1.add_paragraph(\"C：\", style=\"List Number\")"
   ]
  },
  {
   "cell_type": "markdown",
   "id": "171570a4-a3c4-4e7d-a66a-d6e7171fbfb2",
   "metadata": {},
   "source": [
    "## 增加引用"
   ]
  },
  {
   "cell_type": "code",
   "execution_count": 21,
   "id": "f1241f61-51f4-42b3-ba00-0f7bb051d6e7",
   "metadata": {
    "execution": {
     "iopub.execute_input": "2023-03-14T00:46:51.957989Z",
     "iopub.status.busy": "2023-03-14T00:46:51.957629Z",
     "iopub.status.idle": "2023-03-14T00:46:51.964962Z",
     "shell.execute_reply": "2023-03-14T00:46:51.964145Z",
     "shell.execute_reply.started": "2023-03-14T00:46:51.957957Z"
    }
   },
   "outputs": [
    {
     "data": {
      "text/plain": [
       "<docx.text.paragraph.Paragraph at 0x7f4b90deea30>"
      ]
     },
     "execution_count": 21,
     "metadata": {},
     "output_type": "execute_result"
    }
   ],
   "source": [
    "doc1.add_paragraph(\"这是一个引用\", style=\"Intense Quote\")"
   ]
  },
  {
   "cell_type": "markdown",
   "id": "17d46d79-d94b-4fab-afff-057ddbd63586",
   "metadata": {},
   "source": [
    "## 增加图片"
   ]
  },
  {
   "cell_type": "code",
   "execution_count": 22,
   "id": "bb2034de-da56-4bff-b5cb-fda194d511a2",
   "metadata": {
    "execution": {
     "iopub.execute_input": "2023-03-14T00:46:51.967031Z",
     "iopub.status.busy": "2023-03-14T00:46:51.966653Z",
     "iopub.status.idle": "2023-03-14T00:46:51.975668Z",
     "shell.execute_reply": "2023-03-14T00:46:51.974866Z",
     "shell.execute_reply.started": "2023-03-14T00:46:51.967001Z"
    }
   },
   "outputs": [],
   "source": [
    "pic = doc1.add_picture(\"./data/01.jpg\")\n",
    "# 简单的设置英寸\n",
    "# pic = doc1.add_picture(\"./data/01.jpg\",width=Inches(5))\n",
    "\n",
    "# 获取图片实际高度，宽度\n",
    "height = pic.height\n",
    "width = pic.width\n",
    "\n",
    "# 获取文档（包括左右空白）的宽度\n",
    "doc_page_width = doc1.sections[0].page_width\n",
    "# 获取文档左边距\n",
    "doc_margin = doc1.sections[0].left_margin\n",
    "# 文档宽度和图片宽度比例\n",
    "sc = (doc_page_width / 10 - doc_margin / 10 * 2) / (width / 10)\n",
    "\n",
    "# 实际(经比例调整之后)图片宽度，高度\n",
    "pic_height = int(height * sc)\n",
    "pic_width = int(width * sc)\n",
    "pic.height = pic_height\n",
    "pic.width = pic_width"
   ]
  },
  {
   "cell_type": "markdown",
   "id": "ada3ee00-c114-4647-a9e7-89b090b4e58f",
   "metadata": {},
   "source": [
    "## 增加表格"
   ]
  },
  {
   "cell_type": "code",
   "execution_count": 23,
   "id": "46a1a9e3-f89d-45ae-9017-459e9728f64f",
   "metadata": {
    "execution": {
     "iopub.execute_input": "2023-03-14T00:46:51.977332Z",
     "iopub.status.busy": "2023-03-14T00:46:51.977024Z",
     "iopub.status.idle": "2023-03-14T00:46:51.992153Z",
     "shell.execute_reply": "2023-03-14T00:46:51.991433Z",
     "shell.execute_reply.started": "2023-03-14T00:46:51.977301Z"
    }
   },
   "outputs": [],
   "source": [
    "table = doc1.add_table(rows=1, cols=3)\n",
    "cells = table.rows[0].cells\n",
    "cells[0].text = \"编号\"\n",
    "cells[1].text = \"姓名\"\n",
    "cells[2].text = \"职业\"\n",
    "\n",
    "data = [[1, \"吕小布\", \"将军\"], [2, \"诸葛亮\", \"军师\"], [3, \"刘备\", \"主公\"]]\n",
    "\n",
    "for i, n, w in data:\n",
    "    cells = rows = table.add_row().cells\n",
    "    # 不可以写数字，需要转换\n",
    "    cells[0].text = str(i)\n",
    "    cells[1].text = n\n",
    "    cells[2].text = w"
   ]
  },
  {
   "cell_type": "markdown",
   "id": "4596ca07-73e6-4136-88d7-c894bcfbb619",
   "metadata": {},
   "source": [
    "## 保存"
   ]
  },
  {
   "cell_type": "code",
   "execution_count": 24,
   "id": "b96fd61c-f45b-447f-9bcf-96040a1b84cb",
   "metadata": {
    "execution": {
     "iopub.execute_input": "2023-03-14T00:46:51.995439Z",
     "iopub.status.busy": "2023-03-14T00:46:51.995067Z",
     "iopub.status.idle": "2023-03-14T00:46:52.017840Z",
     "shell.execute_reply": "2023-03-14T00:46:52.017054Z",
     "shell.execute_reply.started": "2023-03-14T00:46:51.995414Z"
    }
   },
   "outputs": [],
   "source": [
    "doc1.save(\"./data/word01.docx\")"
   ]
  },
  {
   "cell_type": "markdown",
   "id": "efbb838a-b715-473d-a37a-6c1c0e152ef6",
   "metadata": {},
   "source": [
    "# 设置word样式 "
   ]
  },
  {
   "cell_type": "code",
   "execution_count": 25,
   "id": "fba260d5-4e28-48ac-b4bc-7f8e7264fe81",
   "metadata": {
    "execution": {
     "iopub.execute_input": "2023-03-14T00:46:52.019406Z",
     "iopub.status.busy": "2023-03-14T00:46:52.019100Z",
     "iopub.status.idle": "2023-03-14T00:46:52.040399Z",
     "shell.execute_reply": "2023-03-14T00:46:52.039603Z",
     "shell.execute_reply.started": "2023-03-14T00:46:52.019373Z"
    },
    "tags": []
   },
   "outputs": [],
   "source": [
    "from docx import Document\n",
    "\n",
    "# 字体对齐位置\n",
    "from docx.enum.text import WD_ALIGN_PARAGRAPH\n",
    "\n",
    "# 中文字体样式\n",
    "from docx.oxml.ns import qn\n",
    "\n",
    "# 字体大小衡量单位\n",
    "from docx.shared import Inches, Pt, RGBColor\n",
    "\n",
    "doc2 = Document()"
   ]
  },
  {
   "cell_type": "markdown",
   "id": "95d53a96-27a5-4c56-bbb7-2f3cb1d04a86",
   "metadata": {},
   "source": [
    "## 加粗"
   ]
  },
  {
   "cell_type": "code",
   "execution_count": 26,
   "id": "0e5da3cb-22d0-46e9-aef2-58ed51ee9e0e",
   "metadata": {
    "execution": {
     "iopub.execute_input": "2023-03-14T00:46:52.042164Z",
     "iopub.status.busy": "2023-03-14T00:46:52.041836Z",
     "iopub.status.idle": "2023-03-14T00:46:52.047440Z",
     "shell.execute_reply": "2023-03-14T00:46:52.046645Z",
     "shell.execute_reply.started": "2023-03-14T00:46:52.042130Z"
    },
    "tags": []
   },
   "outputs": [],
   "source": [
    "p1 = doc2.add_paragraph(\"这是段落1：\\n\")\n",
    "\n",
    "run1 = p1.add_run(\"这是内容1.1\\n\")\n",
    "run1.bold = True"
   ]
  },
  {
   "cell_type": "markdown",
   "id": "12cba623-df82-4188-a6c5-b53386c3ca23",
   "metadata": {},
   "source": [
    "## 斜体"
   ]
  },
  {
   "cell_type": "code",
   "execution_count": 27,
   "id": "752be17a-07ac-4dca-84be-01361bbdecce",
   "metadata": {
    "execution": {
     "iopub.execute_input": "2023-03-14T00:46:52.049221Z",
     "iopub.status.busy": "2023-03-14T00:46:52.048910Z",
     "iopub.status.idle": "2023-03-14T00:46:52.055242Z",
     "shell.execute_reply": "2023-03-14T00:46:52.054443Z",
     "shell.execute_reply.started": "2023-03-14T00:46:52.049189Z"
    }
   },
   "outputs": [],
   "source": [
    "p1.add_run(\"这是内容1.2\\n\").italic = True"
   ]
  },
  {
   "cell_type": "markdown",
   "id": "6d6e5767-a1ed-453a-b2af-3a47ed5c779b",
   "metadata": {},
   "source": [
    "## 字体大小（衡量单位Pt：像素）"
   ]
  },
  {
   "cell_type": "code",
   "execution_count": 28,
   "id": "8f8f6382-a8b5-41e7-9977-f97dad2b0e84",
   "metadata": {
    "execution": {
     "iopub.execute_input": "2023-03-14T00:46:52.057132Z",
     "iopub.status.busy": "2023-03-14T00:46:52.056787Z",
     "iopub.status.idle": "2023-03-14T00:46:52.064062Z",
     "shell.execute_reply": "2023-03-14T00:46:52.063241Z",
     "shell.execute_reply.started": "2023-03-14T00:46:52.057100Z"
    }
   },
   "outputs": [],
   "source": [
    "p1.add_run(\"这是内容1.3\\n\").font.size = Pt(26)"
   ]
  },
  {
   "cell_type": "markdown",
   "id": "995e6624-f9f7-4adc-8854-d8f0e36b66c1",
   "metadata": {},
   "source": [
    "## 字体中划线"
   ]
  },
  {
   "cell_type": "code",
   "execution_count": 29,
   "id": "0e140df8-998e-4ed2-ba08-672ec8ea7caf",
   "metadata": {
    "execution": {
     "iopub.execute_input": "2023-03-14T00:46:52.066067Z",
     "iopub.status.busy": "2023-03-14T00:46:52.065711Z",
     "iopub.status.idle": "2023-03-14T00:46:52.070675Z",
     "shell.execute_reply": "2023-03-14T00:46:52.069844Z",
     "shell.execute_reply.started": "2023-03-14T00:46:52.066034Z"
    }
   },
   "outputs": [],
   "source": [
    "p1.add_run(\"这是内容1.4\\n\").font.strike = True"
   ]
  },
  {
   "cell_type": "markdown",
   "id": "c416a2d3-7bda-4621-a339-e5e548f702ac",
   "metadata": {},
   "source": [
    "## 字体阴影"
   ]
  },
  {
   "cell_type": "code",
   "execution_count": 30,
   "id": "625017cb-aea9-4735-a311-fbd606b4502b",
   "metadata": {
    "execution": {
     "iopub.execute_input": "2023-03-14T00:46:52.072802Z",
     "iopub.status.busy": "2023-03-14T00:46:52.072405Z",
     "iopub.status.idle": "2023-03-14T00:46:52.077605Z",
     "shell.execute_reply": "2023-03-14T00:46:52.076817Z",
     "shell.execute_reply.started": "2023-03-14T00:46:52.072742Z"
    }
   },
   "outputs": [],
   "source": [
    "p1.add_run(\"这是内容1.5\\n\").font.shadow = True"
   ]
  },
  {
   "cell_type": "markdown",
   "id": "d851f68c-c945-4dd3-a0a9-5bfa678c37e0",
   "metadata": {},
   "source": [
    "## 字体颜色"
   ]
  },
  {
   "cell_type": "code",
   "execution_count": 31,
   "id": "778a3783-7024-4737-97d5-c993d589baae",
   "metadata": {
    "execution": {
     "iopub.execute_input": "2023-03-14T00:46:52.079446Z",
     "iopub.status.busy": "2023-03-14T00:46:52.079146Z",
     "iopub.status.idle": "2023-03-14T00:46:52.084629Z",
     "shell.execute_reply": "2023-03-14T00:46:52.083736Z",
     "shell.execute_reply.started": "2023-03-14T00:46:52.079416Z"
    }
   },
   "outputs": [],
   "source": [
    "p1.add_run(\"这是内容1.6\\n\").font.color.rgb = RGBColor(255, 65, 36)"
   ]
  },
  {
   "cell_type": "markdown",
   "id": "32d57405-98ba-481b-8ecc-594939681c58",
   "metadata": {},
   "source": [
    "## 英文设置字体样式"
   ]
  },
  {
   "cell_type": "code",
   "execution_count": 32,
   "id": "56e1b517-259d-4c91-9e73-7bfc0fe7a9ab",
   "metadata": {
    "execution": {
     "iopub.execute_input": "2023-03-14T00:46:52.086496Z",
     "iopub.status.busy": "2023-03-14T00:46:52.086190Z",
     "iopub.status.idle": "2023-03-14T00:46:52.097676Z",
     "shell.execute_reply": "2023-03-14T00:46:52.096717Z",
     "shell.execute_reply.started": "2023-03-14T00:46:52.086465Z"
    }
   },
   "outputs": [],
   "source": [
    "p1.add_run(\"Test font style 1.7\\n\").font.name = \"微软雅黑\""
   ]
  },
  {
   "cell_type": "markdown",
   "id": "4ffadf06-4437-4f77-89e6-1a5ceed80dd3",
   "metadata": {},
   "source": [
    "## 中文设置字体样式"
   ]
  },
  {
   "cell_type": "code",
   "execution_count": 33,
   "id": "5182f744-bbc3-4067-9d63-3f492a4d156a",
   "metadata": {
    "execution": {
     "iopub.execute_input": "2023-03-14T00:46:52.099925Z",
     "iopub.status.busy": "2023-03-14T00:46:52.099205Z",
     "iopub.status.idle": "2023-03-14T00:46:52.112444Z",
     "shell.execute_reply": "2023-03-14T00:46:52.111469Z",
     "shell.execute_reply.started": "2023-03-14T00:46:52.099891Z"
    }
   },
   "outputs": [],
   "source": [
    "run8 = p1.add_run(\"测试字体 1.8\\n\")\n",
    "run8.font.name = \"\"\n",
    "run8._element.rPr.rFonts.set(qn(\"w:eastAsia\"), \"微软雅黑\")"
   ]
  },
  {
   "cell_type": "markdown",
   "id": "d179a70b-6de8-4435-878c-74263ffc54d3",
   "metadata": {},
   "source": [
    "## 段落居中对齐"
   ]
  },
  {
   "cell_type": "code",
   "execution_count": 34,
   "id": "a419bb6a-5d48-40da-b65d-4da9e9787eed",
   "metadata": {
    "execution": {
     "iopub.execute_input": "2023-03-14T00:46:52.114799Z",
     "iopub.status.busy": "2023-03-14T00:46:52.114153Z",
     "iopub.status.idle": "2023-03-14T00:46:52.119800Z",
     "shell.execute_reply": "2023-03-14T00:46:52.118973Z",
     "shell.execute_reply.started": "2023-03-14T00:46:52.114764Z"
    }
   },
   "outputs": [],
   "source": [
    "doc2.add_paragraph(\"这是段落2\\n\").paragraph_format.alignment = WD_ALIGN_PARAGRAPH.CENTER"
   ]
  },
  {
   "cell_type": "markdown",
   "id": "25118bb9-1c27-4f86-b5af-26a4b77b50b7",
   "metadata": {},
   "source": [
    "## 设置整段缩进"
   ]
  },
  {
   "cell_type": "code",
   "execution_count": 35,
   "id": "c132b0af-54eb-457f-811b-18e96c66e367",
   "metadata": {
    "execution": {
     "iopub.execute_input": "2023-03-14T00:46:52.122075Z",
     "iopub.status.busy": "2023-03-14T00:46:52.121441Z",
     "iopub.status.idle": "2023-03-14T00:46:52.127215Z",
     "shell.execute_reply": "2023-03-14T00:46:52.126347Z",
     "shell.execute_reply.started": "2023-03-14T00:46:52.122035Z"
    }
   },
   "outputs": [],
   "source": [
    "doc2.add_paragraph(\n",
    "    \"python环境搭建在线下载,一次下载长期使用;全系列版本都有,选择性下载,免费安装好.致力用户高效开发,支持远程协助安装,支持\\n\"\n",
    ").paragraph_format.left_indent = Inches(0.5)"
   ]
  },
  {
   "cell_type": "markdown",
   "id": "603cd5fd-ffa0-4d16-8c5f-bf5b1d3b32c0",
   "metadata": {},
   "source": [
    "## 设置首行缩进"
   ]
  },
  {
   "cell_type": "code",
   "execution_count": 36,
   "id": "c285770e-f467-45f1-a9c0-fac3e7039b82",
   "metadata": {
    "execution": {
     "iopub.execute_input": "2023-03-14T00:46:52.129265Z",
     "iopub.status.busy": "2023-03-14T00:46:52.128590Z",
     "iopub.status.idle": "2023-03-14T00:46:52.136939Z",
     "shell.execute_reply": "2023-03-14T00:46:52.136146Z",
     "shell.execute_reply.started": "2023-03-14T00:46:52.129233Z"
    }
   },
   "outputs": [],
   "source": [
    "doc2.add_paragraph(\n",
    "    \"python环境搭建在线下载,一次下载长期使用;全系列版本都有,选择性下载,免费安装好.致力用户高效开发,支持远程协助安装,支持\\n\"\n",
    ").paragraph_format.first_line_indent = Inches(0.5)"
   ]
  },
  {
   "cell_type": "markdown",
   "id": "df4fd6f8-bf00-44d0-9598-e107a3e1d56f",
   "metadata": {},
   "source": [
    "## 设置段落间距问题"
   ]
  },
  {
   "cell_type": "code",
   "execution_count": 37,
   "id": "b3c1e181-666a-424c-98a0-168882a83c1f",
   "metadata": {
    "execution": {
     "iopub.execute_input": "2023-03-14T00:46:52.138731Z",
     "iopub.status.busy": "2023-03-14T00:46:52.138080Z",
     "iopub.status.idle": "2023-03-14T00:46:52.146527Z",
     "shell.execute_reply": "2023-03-14T00:46:52.145669Z",
     "shell.execute_reply.started": "2023-03-14T00:46:52.138697Z"
    }
   },
   "outputs": [
    {
     "data": {
      "text/plain": [
       "<docx.text.paragraph.Paragraph at 0x7f4b90d701c0>"
      ]
     },
     "execution_count": 37,
     "metadata": {},
     "output_type": "execute_result"
    }
   ],
   "source": [
    "doc2.add_paragraph(\"这是段落3\\n\").paragraph_format.space_before = Pt(10)\n",
    "doc2.add_paragraph(\"这是段落4\\n\").paragraph_format.space_after = Pt(10)\n",
    "doc2.add_paragraph(\"这是段落5\\n\")"
   ]
  },
  {
   "cell_type": "markdown",
   "id": "e7e01149-e79d-4658-99f6-f3fc8289817a",
   "metadata": {},
   "source": [
    "## 设置行间距"
   ]
  },
  {
   "cell_type": "code",
   "execution_count": 38,
   "id": "6e69114a-0668-4eef-a4fa-b69b5d39199c",
   "metadata": {
    "execution": {
     "iopub.execute_input": "2023-03-14T00:46:52.148253Z",
     "iopub.status.busy": "2023-03-14T00:46:52.147737Z",
     "iopub.status.idle": "2023-03-14T00:46:52.153176Z",
     "shell.execute_reply": "2023-03-14T00:46:52.152266Z",
     "shell.execute_reply.started": "2023-03-14T00:46:52.148221Z"
    }
   },
   "outputs": [],
   "source": [
    "doc2.add_paragraph(\n",
    "    \"python环境搭建在线下载,一次下载长期使用;全系列版本都有,选择性下载,免费安装好.致力用户高效开发,支持远程协助安装,支持\\n\"\n",
    ").paragraph_format.line_spacing = 3"
   ]
  },
  {
   "cell_type": "code",
   "execution_count": 39,
   "id": "ac25b92e-4e54-448d-8ac7-9d20b8655801",
   "metadata": {
    "execution": {
     "iopub.execute_input": "2023-03-14T00:46:52.155135Z",
     "iopub.status.busy": "2023-03-14T00:46:52.154298Z",
     "iopub.status.idle": "2023-03-14T00:46:52.176186Z",
     "shell.execute_reply": "2023-03-14T00:46:52.175453Z",
     "shell.execute_reply.started": "2023-03-14T00:46:52.155105Z"
    },
    "tags": []
   },
   "outputs": [],
   "source": [
    "doc2.save(\"./data/word02.docx\")"
   ]
  },
  {
   "cell_type": "markdown",
   "id": "81642f2f-79a9-4215-9a9a-73fb9da855f5",
   "metadata": {},
   "source": [
    "# 生成通知书 "
   ]
  },
  {
   "cell_type": "code",
   "execution_count": 30,
   "id": "b0926f50-7cec-4f98-9101-cb159181af74",
   "metadata": {
    "execution": {
     "iopub.execute_input": "2023-03-14T05:41:21.369143Z",
     "iopub.status.busy": "2023-03-14T05:41:21.368184Z",
     "iopub.status.idle": "2023-03-14T05:41:21.377466Z",
     "shell.execute_reply": "2023-03-14T05:41:21.376424Z",
     "shell.execute_reply.started": "2023-03-14T05:41:21.369088Z"
    },
    "tags": []
   },
   "outputs": [],
   "source": [
    "from docx import Document\n",
    "from docx.enum.text import WD_ALIGN_PARAGRAPH\n",
    "from docx.oxml.ns import qn\n",
    "from docx.shared import Inches, Pt, RGBColor"
   ]
  },
  {
   "cell_type": "code",
   "execution_count": 33,
   "id": "2e41a18a-4ef5-4eb3-8f05-6bacbb2dfa2e",
   "metadata": {
    "execution": {
     "iopub.execute_input": "2023-03-14T05:42:08.284175Z",
     "iopub.status.busy": "2023-03-14T05:42:08.283259Z",
     "iopub.status.idle": "2023-03-14T05:42:08.295083Z",
     "shell.execute_reply": "2023-03-14T05:42:08.293845Z",
     "shell.execute_reply.started": "2023-03-14T05:42:08.284117Z"
    },
    "tags": []
   },
   "outputs": [],
   "source": [
    "def create_doc(car_no, year, month, day, hour, minute, type_info):\n",
    "    doc1 = Document()\n",
    "    # 设置标题\n",
    "    title = doc1.add_paragraph()\n",
    "    p = title.add_run(\"车辆违章处罚通知书\")\n",
    "    # 设置字体大小\n",
    "    p.font.size = Pt(30)\n",
    "    p.font.color.rgb = RGBColor(255, 0, 0)\n",
    "    p.font.name = \"\"\n",
    "    p._element.rPr.rFonts.set(qn(\"w:eastAsia\"), \"黑体\")\n",
    "    title.paragraph_format.alignment = WD_ALIGN_PARAGRAPH.CENTER\n",
    "\n",
    "    info = f\"\"\"京{car_no}车于{year}年{month}月{day}日，{hour}时{minute}分，在营运过程中，出现{type_info}违规行为，按照公司相关规定，予以进行相关处罚。\n",
    "                                                                                                驾驶员签字                    年     月    日\"\"\"\n",
    "    content = doc1.add_paragraph()\n",
    "    p2 = content.add_run(info)\n",
    "    content.paragraph_format.first_line_indent = Inches(0.25)\n",
    "    p2.font.name = \"\"\n",
    "    p2._element.rPr.rFonts.set(qn(\"w:eastAsia\"), \"黑体\")\n",
    "    doc1.save(\"./data/10_通知书.docx\")"
   ]
  },
  {
   "cell_type": "code",
   "execution_count": 34,
   "id": "005e771e-0d9d-455e-89d0-f99b6c27efd1",
   "metadata": {
    "execution": {
     "iopub.execute_input": "2023-03-14T05:42:09.393652Z",
     "iopub.status.busy": "2023-03-14T05:42:09.393102Z",
     "iopub.status.idle": "2023-03-14T05:42:09.432726Z",
     "shell.execute_reply": "2023-03-14T05:42:09.431703Z",
     "shell.execute_reply.started": "2023-03-14T05:42:09.393597Z"
    },
    "tags": []
   },
   "outputs": [],
   "source": [
    "car_no = \"A1234567\"\n",
    "year = 2023\n",
    "month = 2\n",
    "day = 12\n",
    "hour = 13\n",
    "minute = 14\n",
    "type_info = \"接打手机\"\n",
    "create_doc(car_no, year, month, day, hour, minute, type_info)"
   ]
  },
  {
   "cell_type": "markdown",
   "id": "20e1da60-9429-4642-b9d3-edf41c22a309",
   "metadata": {},
   "source": [
    "## 生成通知书模板"
   ]
  },
  {
   "cell_type": "code",
   "execution_count": 40,
   "id": "c30bdfe2-c93c-49ae-b6d7-c76a400a56a1",
   "metadata": {
    "execution": {
     "iopub.execute_input": "2023-03-14T05:49:40.509318Z",
     "iopub.status.busy": "2023-03-14T05:49:40.508778Z",
     "iopub.status.idle": "2023-03-14T05:49:40.524431Z",
     "shell.execute_reply": "2023-03-14T05:49:40.522628Z",
     "shell.execute_reply.started": "2023-03-14T05:49:40.509265Z"
    },
    "tags": []
   },
   "outputs": [
    {
     "ename": "SyntaxError",
     "evalue": "f-string expression part cannot include a backslash (775751696.py, line 19)",
     "output_type": "error",
     "traceback": [
      "\u001b[0;36m  Cell \u001b[0;32mIn[40], line 19\u001b[0;36m\u001b[0m\n\u001b[0;31m    info = f\"\"\"\u001b[0m\n\u001b[0m           ^\u001b[0m\n\u001b[0;31mSyntaxError\u001b[0m\u001b[0;31m:\u001b[0m f-string expression part cannot include a backslash\n"
     ]
    }
   ],
   "source": [
    "from docx import Document\n",
    "from docx.enum.text import WD_ALIGN_PARAGRAPH\n",
    "from docx.oxml.ns import qn\n",
    "from docx.shared import Inches, Pt, RGBColor\n",
    "\n",
    "\n",
    "def create_doc():\n",
    "    doc1 = Document()\n",
    "    # 设置标题\n",
    "    title = doc1.add_paragraph()\n",
    "    p = title.add_run(\"车辆违章处罚通知书\")\n",
    "    # 设置字体大小\n",
    "    p.font.size = Pt(30)\n",
    "    p.font.color.rgb = RGBColor(255, 0, 0)\n",
    "    p.font.name = \"\"\n",
    "    p._element.rPr.rFonts.set(qn(\"w:eastAsia\"), \"黑体\")\n",
    "    title.paragraph_format.alignment = WD_ALIGN_PARAGRAPH.CENTER\n",
    "\n",
    "    info = f\"\"\"\n",
    "    京{0}车于\\{1\\}年\\{2\\}月\\{3\\}日，\\{4\\}时\\{5\\}分，在营运过程中，出现\\{6\\}违规行为，按照公司相关规定，予以进行\\{7\\}元现金处罚。\n",
    "                                                                                                驾驶员签字                    年     月    日\n",
    "                                                                                                \"\"\"\n",
    "    content = doc1.add_paragraph()\n",
    "    p2 = content.add_run(info)\n",
    "    content.paragraph_format.first_line_indent = Inches(0.25)\n",
    "    p2.font.name = \"\"\n",
    "    p2._element.rPr.rFonts.set(qn(\"w:eastAsia\"), \"黑体\")\n",
    "    doc1.save(\"./data/10_通知书_模板.docx\")\n",
    "\n",
    "\n",
    "create_doc()"
   ]
  },
  {
   "cell_type": "markdown",
   "id": "f49e2e92-28e4-424c-993a-6358ce688a09",
   "metadata": {},
   "source": [
    "# 读取word文档"
   ]
  },
  {
   "cell_type": "code",
   "execution_count": 43,
   "id": "7adbf55d-b62c-4231-82cb-059565ebe9d8",
   "metadata": {
    "execution": {
     "iopub.execute_input": "2023-03-14T00:46:52.238517Z",
     "iopub.status.busy": "2023-03-14T00:46:52.238185Z",
     "iopub.status.idle": "2023-03-14T00:46:52.242644Z",
     "shell.execute_reply": "2023-03-14T00:46:52.241800Z",
     "shell.execute_reply.started": "2023-03-14T00:46:52.238482Z"
    }
   },
   "outputs": [],
   "source": [
    "import docx"
   ]
  },
  {
   "cell_type": "code",
   "execution_count": 44,
   "id": "34881e20-715d-4f46-b540-fb12eeab6d30",
   "metadata": {
    "execution": {
     "iopub.execute_input": "2023-03-14T00:46:52.244488Z",
     "iopub.status.busy": "2023-03-14T00:46:52.244177Z",
     "iopub.status.idle": "2023-03-14T00:46:52.264949Z",
     "shell.execute_reply": "2023-03-14T00:46:52.264135Z",
     "shell.execute_reply.started": "2023-03-14T00:46:52.244457Z"
    },
    "tags": []
   },
   "outputs": [],
   "source": [
    "source_file = \"./data/word01.docx\"\n",
    "doc1 = docx.Document(source_file)"
   ]
  },
  {
   "cell_type": "markdown",
   "id": "bf0d5512-1f50-4a2e-b2f5-bbdfdcd9dedb",
   "metadata": {},
   "source": [
    "## 获取所有段落"
   ]
  },
  {
   "cell_type": "code",
   "execution_count": 45,
   "id": "c7a78cb9-6011-477d-aa7e-11637b4c698d",
   "metadata": {
    "execution": {
     "iopub.execute_input": "2023-03-14T00:46:52.266727Z",
     "iopub.status.busy": "2023-03-14T00:46:52.266338Z",
     "iopub.status.idle": "2023-03-14T00:46:52.272051Z",
     "shell.execute_reply": "2023-03-14T00:46:52.271084Z",
     "shell.execute_reply.started": "2023-03-14T00:46:52.266694Z"
    }
   },
   "outputs": [
    {
     "name": "stdout",
     "output_type": "stream",
     "text": [
      "如何使用 Python 创建和操作 Word\n",
      "1级标题\n",
      "2级标题\n",
      "3级标题\n",
      "4级标题\n",
      "这个是段落内容1\n",
      "这个是段落内容2\n",
      "python环境搭建在线下载,一次下载长期使用;全系列版本都有,选择性下载,免费安装好.致力用户高效开发,支持远程协助安装,支持这是段落追加的内容\n",
      "哪个不是动物：\n",
      "喜洋洋：\n",
      "懒洋洋：\n",
      "苹果：\n",
      "编程语言：\n",
      "Python：\n",
      "Java：\n",
      "C：\n",
      "这是一个引用\n",
      "\n"
     ]
    }
   ],
   "source": [
    "for p in doc1.paragraphs:\n",
    "    print(p.text)"
   ]
  },
  {
   "cell_type": "markdown",
   "id": "d27796cb-333d-493f-b3c0-717f9466478f",
   "metadata": {},
   "source": [
    "## 获取表格数据"
   ]
  },
  {
   "cell_type": "code",
   "execution_count": 46,
   "id": "a5d297c3-3293-43ec-ab4e-e941a32a1ba0",
   "metadata": {
    "execution": {
     "iopub.execute_input": "2023-03-14T00:46:52.274214Z",
     "iopub.status.busy": "2023-03-14T00:46:52.273565Z",
     "iopub.status.idle": "2023-03-14T00:46:52.282590Z",
     "shell.execute_reply": "2023-03-14T00:46:52.281666Z",
     "shell.execute_reply.started": "2023-03-14T00:46:52.274182Z"
    },
    "tags": []
   },
   "outputs": [
    {
     "name": "stdout",
     "output_type": "stream",
     "text": [
      "None\n",
      "编号 姓名 职业 \n",
      "1 吕小布 将军 \n",
      "2 诸葛亮 军师 \n",
      "3 刘备 主公 \n"
     ]
    }
   ],
   "source": [
    "for t in doc1.tables:\n",
    "    print(t.table_direction)\n",
    "    for row in t.rows:\n",
    "        for cell in row.cells:\n",
    "            print(cell.text, end=\" \")\n",
    "        print()"
   ]
  },
  {
   "cell_type": "markdown",
   "id": "586ca834-85a2-46e3-a3ae-0916f1d99c0e",
   "metadata": {},
   "source": [
    "# 通过模板生成文档 "
   ]
  },
  {
   "cell_type": "code",
   "execution_count": 49,
   "id": "6c2fc5e0-bcc4-4fbb-b7a4-9f71578167a7",
   "metadata": {
    "execution": {
     "iopub.execute_input": "2023-03-14T05:55:33.639916Z",
     "iopub.status.busy": "2023-03-14T05:55:33.639142Z",
     "iopub.status.idle": "2023-03-14T05:55:33.644728Z",
     "shell.execute_reply": "2023-03-14T05:55:33.643588Z",
     "shell.execute_reply.started": "2023-03-14T05:55:33.639862Z"
    },
    "tags": []
   },
   "outputs": [],
   "source": [
    "import os\n",
    "\n",
    "from docx import Document"
   ]
  },
  {
   "cell_type": "code",
   "execution_count": 50,
   "id": "a57f3f7d-371d-4b12-af06-c3140f25c7d4",
   "metadata": {
    "execution": {
     "iopub.execute_input": "2023-03-14T05:55:34.251728Z",
     "iopub.status.busy": "2023-03-14T05:55:34.250753Z",
     "iopub.status.idle": "2023-03-14T05:55:34.376008Z",
     "shell.execute_reply": "2023-03-14T05:55:34.374761Z",
     "shell.execute_reply.started": "2023-03-14T05:55:34.251666Z"
    },
    "tags": []
   },
   "outputs": [
    {
     "name": "stdout",
     "output_type": "stream",
     "text": [
      "车辆违章处罚通知书\n",
      "京A00001车于2023年1月2日，12时13分，在营运过程中，出现闯红灯违规行为，按照公司相关规定，予以进行200元现金处罚。\n",
      "                                                                                                驾驶员签字                    年     月    日\n",
      "车辆违章处罚通知书\n",
      "京B00002车于2023年1月2日，12时13分，在营运过程中，出现超速违规行为，按照公司相关规定，予以进行300元现金处罚。\n",
      "                                                                                                驾驶员签字                    年     月    日\n",
      "车辆违章处罚通知书\n",
      "京C00003车于2023年1月2日，12时13分，在营运过程中，出现接打电话违规行为，按照公司相关规定，予以进行100元现金处罚。\n",
      "                                                                                                驾驶员签字                    年     月    日\n"
     ]
    }
   ],
   "source": [
    "infos = [\n",
    "    [\"A00001\", 2023, 1, 2, 12, 13, \"闯红灯\", 200],\n",
    "    [\"B00002\", 2023, 1, 2, 12, 13, \"超速\", 300],\n",
    "    [\"C00003\", 2023, 1, 2, 12, 13, \"接打电话\", 100],\n",
    "]\n",
    "\n",
    "for info in infos:\n",
    "    doc1 = Document(\"./data/10_通知书_模板.docx\")\n",
    "    for p in doc1.paragraphs:\n",
    "        for run in p.runs:\n",
    "            run.text = run.text.replace(\"{0}\", info[0])\n",
    "            run.text = run.text.replace(\"{1}\", str(info[1]))\n",
    "            run.text = run.text.replace(\"{2}\", str(info[2]))\n",
    "            run.text = run.text.replace(\"{3}\", str(info[3]))\n",
    "            run.text = run.text.replace(\"{4}\", str(info[4]))\n",
    "            run.text = run.text.replace(\"{5}\", str(info[5]))\n",
    "            run.text = run.text.replace(\"{6}\", info[6])\n",
    "            run.text = run.text.replace(\"{7}\", str(info[7]))\n",
    "        print(p.text)\n",
    "    if not os.path.exists(\"./data/生成word\"):\n",
    "        os.mkdir(\"./data/生成word\")\n",
    "    doc1.save(f\"./data/生成word/通知书{info[0]}.docx\")"
   ]
  },
  {
   "cell_type": "code",
   "execution_count": null,
   "id": "de9bf686-945f-4025-9101-720c87882387",
   "metadata": {},
   "outputs": [],
   "source": []
  }
 ],
 "metadata": {
  "kernelspec": {
   "display_name": "Python 3 (ipykernel)",
   "language": "python",
   "name": "python3"
  },
  "language_info": {
   "codemirror_mode": {
    "name": "ipython",
    "version": 3
   },
   "file_extension": ".py",
   "mimetype": "text/x-python",
   "name": "python",
   "nbconvert_exporter": "python",
   "pygments_lexer": "ipython3",
   "version": "3.8.10"
  },
  "toc-autonumbering": true
 },
 "nbformat": 4,
 "nbformat_minor": 5
}
