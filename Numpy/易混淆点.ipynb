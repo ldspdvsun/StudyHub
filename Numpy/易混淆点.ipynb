{
 "cells": [
  {
   "cell_type": "markdown",
   "id": "c7457699",
   "metadata": {},
   "source": [
    "# range()和np.arange()的区别"
   ]
  },
  {
   "cell_type": "markdown",
   "id": "62568552",
   "metadata": {},
   "source": [
    "## 相同点\n",
    "1. range(start,stop[,step])和np.arange(start,stop[,step])格式都是相同的，都有3个参数，第1个参数为起点，第3个参数为步长，截止到**不包括第2个参数减去步长**的数据序列\n",
    "2. range()和np.arange()都可用于迭代"
   ]
  },
  {
   "cell_type": "markdown",
   "id": "2d95948f",
   "metadata": {},
   "source": [
    "## 不同点\n",
    "1. 返回类型不同，range()返回的是range类型，np.arange()返回的是ndarray类型\n",
    "2. 返回值不同，range()返回的是range()对象，np.arange()返回的列表\n",
    "3. range()不支持步长为小数，而np.arange()支持步长为小数"
   ]
  },
  {
   "cell_type": "code",
   "execution_count": 1,
   "id": "b421cbc6",
   "metadata": {
    "ExecuteTime": {
     "end_time": "2022-10-16T00:54:52.493057Z",
     "start_time": "2022-10-16T00:54:52.489187Z"
    }
   },
   "outputs": [
    {
     "name": "stdout",
     "output_type": "stream",
     "text": [
      "range(0, 10)\n",
      "<class 'range'>\n",
      "<class 'int'>\n"
     ]
    }
   ],
   "source": [
    "a=range(10)\n",
    "print(a)\n",
    "print(type(a))\n",
    "print(type(a[0]))"
   ]
  },
  {
   "cell_type": "code",
   "execution_count": 2,
   "id": "999d25da",
   "metadata": {
    "ExecuteTime": {
     "end_time": "2022-10-16T00:54:52.566802Z",
     "start_time": "2022-10-16T00:54:52.494645Z"
    }
   },
   "outputs": [
    {
     "name": "stdout",
     "output_type": "stream",
     "text": [
      "[0 1 2 3 4 5 6 7 8 9]\n",
      "<class 'numpy.ndarray'>\n",
      "<class 'numpy.int64'>\n"
     ]
    }
   ],
   "source": [
    "import numpy as np\n",
    "b=np.arange(10)\n",
    "print(b)\n",
    "print(type(b))\n",
    "print(type(b[0]))"
   ]
  },
  {
   "cell_type": "markdown",
   "id": "34d25163",
   "metadata": {},
   "source": [
    "步长"
   ]
  },
  {
   "cell_type": "markdown",
   "id": "dc9e790a",
   "metadata": {},
   "source": []
  },
  {
   "cell_type": "code",
   "execution_count": 3,
   "id": "71854792",
   "metadata": {
    "ExecuteTime": {
     "end_time": "2022-10-16T00:54:52.957863Z",
     "start_time": "2022-10-16T00:54:52.569396Z"
    }
   },
   "outputs": [
    {
     "ename": "TypeError",
     "evalue": "'float' object cannot be interpreted as an integer",
     "output_type": "error",
     "traceback": [
      "\u001b[0;31m---------------------------------------------------------------------------\u001b[0m",
      "\u001b[0;31mTypeError\u001b[0m                                 Traceback (most recent call last)",
      "Input \u001b[0;32mIn [3]\u001b[0m, in \u001b[0;36m<cell line: 1>\u001b[0;34m()\u001b[0m\n\u001b[0;32m----> 1\u001b[0m a\u001b[38;5;241m=\u001b[39m\u001b[38;5;28;43mrange\u001b[39;49m\u001b[43m(\u001b[49m\u001b[38;5;241;43m1\u001b[39;49m\u001b[43m,\u001b[49m\u001b[38;5;241;43m10\u001b[39;49m\u001b[43m,\u001b[49m\u001b[38;5;241;43m0.5\u001b[39;49m\u001b[43m)\u001b[49m\n\u001b[1;32m      2\u001b[0m \u001b[38;5;28mprint\u001b[39m(a)\n",
      "\u001b[0;31mTypeError\u001b[0m: 'float' object cannot be interpreted as an integer"
     ]
    }
   ],
   "source": [
    "a=range(1,10,0.5)\n",
    "print(a)"
   ]
  },
  {
   "cell_type": "code",
   "execution_count": null,
   "id": "e714023b",
   "metadata": {
    "ExecuteTime": {
     "end_time": "2022-10-16T00:54:52.960177Z",
     "start_time": "2022-10-16T00:54:52.960151Z"
    }
   },
   "outputs": [],
   "source": [
    "b=np.arange(1,10,0.5)\n",
    "print(b)"
   ]
  },
  {
   "cell_type": "code",
   "execution_count": null,
   "id": "d76f3d46",
   "metadata": {},
   "outputs": [],
   "source": []
  }
 ],
 "metadata": {
  "kernelspec": {
   "display_name": "Python 3 (ipykernel)",
   "language": "python",
   "name": "python3"
  },
  "language_info": {
   "codemirror_mode": {
    "name": "ipython",
    "version": 3
   },
   "file_extension": ".py",
   "mimetype": "text/x-python",
   "name": "python",
   "nbconvert_exporter": "python",
   "pygments_lexer": "ipython3",
   "version": "3.10.6"
  },
  "toc": {
   "base_numbering": 1,
   "nav_menu": {},
   "number_sections": true,
   "sideBar": true,
   "skip_h1_title": false,
   "title_cell": "Table of Contents",
   "title_sidebar": "Contents",
   "toc_cell": false,
   "toc_position": {},
   "toc_section_display": true,
   "toc_window_display": true
  },
  "varInspector": {
   "cols": {
    "lenName": 16,
    "lenType": 16,
    "lenVar": 40
   },
   "kernels_config": {
    "python": {
     "delete_cmd_postfix": "",
     "delete_cmd_prefix": "del ",
     "library": "var_list.py",
     "varRefreshCmd": "print(var_dic_list())"
    },
    "r": {
     "delete_cmd_postfix": ") ",
     "delete_cmd_prefix": "rm(",
     "library": "var_list.r",
     "varRefreshCmd": "cat(var_dic_list()) "
    }
   },
   "types_to_exclude": [
    "module",
    "function",
    "builtin_function_or_method",
    "instance",
    "_Feature"
   ],
   "window_display": false
  }
 },
 "nbformat": 4,
 "nbformat_minor": 5
}
