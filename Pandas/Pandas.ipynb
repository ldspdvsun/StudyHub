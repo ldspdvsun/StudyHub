{
 "cells": [
  {
   "cell_type": "markdown",
   "id": "33089e94-6a1d-4f4b-8ede-5ebd01434425",
   "metadata": {},
   "source": [
    "# Pandas安装"
   ]
  },
  {
   "cell_type": "code",
   "execution_count": 1,
   "id": "4265cf2e-0b05-47cc-b766-686f71b521ff",
   "metadata": {
    "execution": {
     "iopub.execute_input": "2023-03-01T00:39:46.854223Z",
     "iopub.status.busy": "2023-03-01T00:39:46.853928Z",
     "iopub.status.idle": "2023-03-01T00:39:46.858962Z",
     "shell.execute_reply": "2023-03-01T00:39:46.858098Z",
     "shell.execute_reply.started": "2023-03-01T00:39:46.854190Z"
    }
   },
   "outputs": [],
   "source": [
    "# pandas安装\n",
    "# pip show pandas"
   ]
  },
  {
   "cell_type": "code",
   "execution_count": 2,
   "id": "d11d6069-38c3-40d6-a6dc-7e98f29a233a",
   "metadata": {
    "execution": {
     "iopub.execute_input": "2023-03-01T00:39:46.861984Z",
     "iopub.status.busy": "2023-03-01T00:39:46.861395Z",
     "iopub.status.idle": "2023-03-01T00:39:47.189350Z",
     "shell.execute_reply": "2023-03-01T00:39:47.188520Z",
     "shell.execute_reply.started": "2023-03-01T00:39:46.861953Z"
    }
   },
   "outputs": [
    {
     "data": {
      "text/plain": [
       "'1.5.3'"
      ]
     },
     "execution_count": 2,
     "metadata": {},
     "output_type": "execute_result"
    }
   ],
   "source": [
    "# 查看版本\n",
    "import pandas as pd\n",
    "\n",
    "pd.__version__"
   ]
  },
  {
   "cell_type": "code",
   "execution_count": 3,
   "id": "2168c235-b073-43c8-b03e-df03d5ee8536",
   "metadata": {
    "execution": {
     "iopub.execute_input": "2023-03-01T00:39:47.191142Z",
     "iopub.status.busy": "2023-03-01T00:39:47.190603Z",
     "iopub.status.idle": "2023-03-01T00:39:47.200687Z",
     "shell.execute_reply": "2023-03-01T00:39:47.199801Z",
     "shell.execute_reply.started": "2023-03-01T00:39:47.191109Z"
    }
   },
   "outputs": [
    {
     "name": "stdout",
     "output_type": "stream",
     "text": [
      "  sites  nums\n",
      "0     a     1\n",
      "1     b     2\n",
      "2     c     3\n"
     ]
    }
   ],
   "source": [
    "# 实例\n",
    "mydataset = {\"sites\": [\"a\", \"b\", \"c\"], \"nums\": [1, 2, 3]}\n",
    "myvar = pd.DataFrame(mydataset)\n",
    "print(myvar)"
   ]
  },
  {
   "cell_type": "markdown",
   "id": "3775352e-19e1-41aa-aac9-1097d8e2aa22",
   "metadata": {},
   "source": [
    "# Pandas数据结构-Series"
   ]
  },
  {
   "cell_type": "markdown",
   "id": "07cd168f-5af7-474a-9811-a9fddda72028",
   "metadata": {},
   "source": [
    "Pandas Series类似变革中的一个列（column），类似于一维数组可以保存任何数据类型。\n",
    "\n",
    "Series由索引（index)和列组成\n",
    "\n",
    "参数说明：\n",
    "\n",
    "+ data: 一组数据（ndarray）类型\n",
    "+ index: 数据索引标签，如果不指定，默认从0开始\n",
    "+ dtype: 数据类型，默认会自己判断\n",
    "+ name: 设置名称\n",
    "+ copy: 拷贝数据，默认为False\n"
   ]
  },
  {
   "cell_type": "code",
   "execution_count": 4,
   "id": "25368791-3c64-49e2-911a-68ff44ded947",
   "metadata": {
    "execution": {
     "iopub.execute_input": "2023-03-01T00:39:47.202446Z",
     "iopub.status.busy": "2023-03-01T00:39:47.202002Z",
     "iopub.status.idle": "2023-03-01T00:39:47.208096Z",
     "shell.execute_reply": "2023-03-01T00:39:47.207373Z",
     "shell.execute_reply.started": "2023-03-01T00:39:47.202414Z"
    },
    "tags": []
   },
   "outputs": [
    {
     "name": "stdout",
     "output_type": "stream",
     "text": [
      "0    1\n",
      "1    2\n",
      "2    3\n",
      "dtype: int64\n",
      "2\n"
     ]
    }
   ],
   "source": [
    "# 下面的代码可以看到第一列为索引，默认为从0开始；第二列为数据；下面是数据类型\n",
    "a = [1, 2, 3]\n",
    "myvar = pd.Series(a)\n",
    "print(myvar)\n",
    "print(myvar[1])"
   ]
  },
  {
   "cell_type": "code",
   "execution_count": 5,
   "id": "1e8a7fde-2736-4de3-af81-79159a76dab1",
   "metadata": {
    "execution": {
     "iopub.execute_input": "2023-03-01T00:39:47.209909Z",
     "iopub.status.busy": "2023-03-01T00:39:47.209333Z",
     "iopub.status.idle": "2023-03-01T00:39:47.215970Z",
     "shell.execute_reply": "2023-03-01T00:39:47.215169Z",
     "shell.execute_reply.started": "2023-03-01T00:39:47.209875Z"
    },
    "tags": []
   },
   "outputs": [
    {
     "name": "stdout",
     "output_type": "stream",
     "text": [
      "a    1\n",
      "b    2\n",
      "c    3\n",
      "dtype: int64\n",
      "3\n"
     ]
    }
   ],
   "source": [
    "# 指定索引\n",
    "a = [1, 2, 3]\n",
    "b = [\"a\", \"b\", \"c\"]\n",
    "myvar = pd.Series(a, index=b)\n",
    "print(myvar)\n",
    "print(myvar[\"c\"])"
   ]
  },
  {
   "cell_type": "code",
   "execution_count": 6,
   "id": "a9d2830b-c7e1-4319-ad2b-cd2d516b2911",
   "metadata": {
    "execution": {
     "iopub.execute_input": "2023-03-01T00:39:47.217814Z",
     "iopub.status.busy": "2023-03-01T00:39:47.217223Z",
     "iopub.status.idle": "2023-03-01T00:39:47.250954Z",
     "shell.execute_reply": "2023-03-01T00:39:47.250109Z",
     "shell.execute_reply.started": "2023-03-01T00:39:47.217783Z"
    },
    "tags": []
   },
   "outputs": [
    {
     "name": "stdout",
     "output_type": "stream",
     "text": [
      "1    Q\n",
      "2    W\n",
      "3    E\n",
      "dtype: object\n",
      "1    Q\n",
      "3    E\n",
      "dtype: object\n"
     ]
    }
   ],
   "source": [
    "# 使用key/value，类似字典创建\n",
    "\n",
    "dict1 = {1: \"Q\", 2: \"W\", 3: \"E\"}\n",
    "myvar = pd.Series(dict1)\n",
    "print(myvar)\n",
    "\n",
    "# 输出指定数据\n",
    "myvar = pd.Series(dict1, index=[1, 3])\n",
    "print(myvar)"
   ]
  },
  {
   "cell_type": "markdown",
   "id": "de1a7885-5373-45fa-bcc2-3925267ea5f8",
   "metadata": {},
   "source": [
    "# Pandas数据结构-DataFrame"
   ]
  },
  {
   "cell_type": "markdown",
   "id": "d16646b8-af62-40b6-9296-b0144ad0e392",
   "metadata": {},
   "source": [
    "DataFrame是一个表格型的数据结构，它含有一组有序的数据，每列可以是不同的值类型（数值，字符串，布尔型值）。DateFrame既有行索引也有列索引，它可以被看作由Series组成的序列（共用同一个索引）\n",
    "\n",
    "[![image.png](https://i.postimg.cc/jdMkDmyv/image.png)](https://postimg.cc/QHWqP64W)\n",
    "\n",
    "DateFrame构造方法如下：\n",
    "\n",
    "pandas.DateFrame(data,index,colums,dtype,copy)\n",
    "\n",
    "参数说明：\n",
    "\n",
    "+ data: 一组数据（ndarray）类型\n",
    "+ index: 索引值，可以称为行标签\n",
    "+ columns: 列标签，默认为RangeIndex(0,1,2...)\n",
    "+ dtype: 数据类型，默认会自己判断\n",
    "+ copy: 拷贝数据，默认为False\n",
    "\n",
    "PandasDataFrame是一个二维的数组结构，类似二维数组。\n"
   ]
  },
  {
   "cell_type": "code",
   "execution_count": 7,
   "id": "5ae880c1-dcfb-4785-ae6c-8a7a785ebdea",
   "metadata": {
    "execution": {
     "iopub.execute_input": "2023-03-01T00:39:47.254847Z",
     "iopub.status.busy": "2023-03-01T00:39:47.254577Z",
     "iopub.status.idle": "2023-03-01T00:39:47.261948Z",
     "shell.execute_reply": "2023-03-01T00:39:47.261141Z",
     "shell.execute_reply.started": "2023-03-01T00:39:47.254824Z"
    },
    "tags": []
   },
   "outputs": [
    {
     "name": "stdout",
     "output_type": "stream",
     "text": [
      "     Site   Age\n",
      "0  Google  10.0\n",
      "1  Runoob  12.0\n",
      "2    Wiki  30.0\n"
     ]
    },
    {
     "name": "stderr",
     "output_type": "stream",
     "text": [
      "/tmp/ipykernel_7110/904735516.py:5: FutureWarning: Could not cast to float64, falling back to object. This behavior is deprecated. In a future version, when a dtype is passed to 'DataFrame', either all columns will be cast to that dtype, or a TypeError will be raised.\n",
      "  df = pd.DataFrame(data, columns=[\"Site\", \"Age\"], dtype=float)\n"
     ]
    }
   ],
   "source": [
    "# 使用列表创建\n",
    "import pandas as pd\n",
    "\n",
    "data = [[\"Google\", 10], [\"Runoob\", 12], [\"Wiki\", 30]]\n",
    "df = pd.DataFrame(data, columns=[\"Site\", \"Age\"], dtype=float)\n",
    "print(df)"
   ]
  },
  {
   "cell_type": "code",
   "execution_count": 8,
   "id": "9eeb2441-0431-4857-ba43-f85f1e6f8a46",
   "metadata": {
    "execution": {
     "iopub.execute_input": "2023-03-01T00:39:47.263889Z",
     "iopub.status.busy": "2023-03-01T00:39:47.263589Z",
     "iopub.status.idle": "2023-03-01T00:39:47.271304Z",
     "shell.execute_reply": "2023-03-01T00:39:47.270472Z",
     "shell.execute_reply.started": "2023-03-01T00:39:47.263858Z"
    }
   },
   "outputs": [
    {
     "name": "stdout",
     "output_type": "stream",
     "text": [
      "     site   Age\n",
      "0  Google  12.3\n",
      "1  Runboo  23.1\n",
      "2    Wiki  34.2\n"
     ]
    }
   ],
   "source": [
    "# 使用ndarrays创建\n",
    "data = {\"site\": [\"Google\", \"Runboo\", \"Wiki\"], \"Age\": [12.3, 23.1, 34.2]}\n",
    "df = pd.DataFrame(data)\n",
    "print(df)"
   ]
  },
  {
   "cell_type": "code",
   "execution_count": 9,
   "id": "39d4e200-0c8d-4848-bcdc-84afc628edff",
   "metadata": {
    "execution": {
     "iopub.execute_input": "2023-03-01T00:39:47.273193Z",
     "iopub.status.busy": "2023-03-01T00:39:47.272738Z",
     "iopub.status.idle": "2023-03-01T00:39:47.280752Z",
     "shell.execute_reply": "2023-03-01T00:39:47.279961Z",
     "shell.execute_reply.started": "2023-03-01T00:39:47.273162Z"
    }
   },
   "outputs": [
    {
     "name": "stdout",
     "output_type": "stream",
     "text": [
      "    a   b     c\n",
      "0   1   2   NaN\n",
      "1  11  12  13.0\n"
     ]
    }
   ],
   "source": [
    "# 使用字典创建(没有对应的数据位Nan)\n",
    "data = [{\"a\": 1, \"b\": 2}, {\"a\": 11, \"b\": 12, \"c\": 13}]\n",
    "df = pd.DataFrame(data)\n",
    "print(df)"
   ]
  },
  {
   "cell_type": "code",
   "execution_count": 10,
   "id": "4162c695-2c19-4de9-afd7-641ef36808db",
   "metadata": {
    "execution": {
     "iopub.execute_input": "2023-03-01T00:39:47.282635Z",
     "iopub.status.busy": "2023-03-01T00:39:47.282266Z",
     "iopub.status.idle": "2023-03-01T00:39:47.289558Z",
     "shell.execute_reply": "2023-03-01T00:39:47.288661Z",
     "shell.execute_reply.started": "2023-03-01T00:39:47.282605Z"
    },
    "tags": []
   },
   "outputs": [
    {
     "name": "stdout",
     "output_type": "stream",
     "text": [
      "   calories duration\n",
      "0        12        q\n",
      "1        23        w\n",
      "2        45        e\n",
      "3        67        r\n"
     ]
    }
   ],
   "source": [
    "# 返回指定行的数据\n",
    "data = {\"calories\": [12, 23, 45, 67], \"duration\": [\"q\", \"w\", \"e\", \"r\"]}\n",
    "\n",
    "df = pd.DataFrame(data)\n",
    "print(df)"
   ]
  },
  {
   "cell_type": "code",
   "execution_count": 11,
   "id": "b8c78199-9d0b-4215-a1fc-748ae2b7f3f2",
   "metadata": {
    "execution": {
     "iopub.execute_input": "2023-03-01T00:39:47.291504Z",
     "iopub.status.busy": "2023-03-01T00:39:47.291215Z",
     "iopub.status.idle": "2023-03-01T00:39:47.296498Z",
     "shell.execute_reply": "2023-03-01T00:39:47.295741Z",
     "shell.execute_reply.started": "2023-03-01T00:39:47.291475Z"
    }
   },
   "outputs": [
    {
     "name": "stdout",
     "output_type": "stream",
     "text": [
      "calories    12\n",
      "duration     q\n",
      "Name: 0, dtype: object\n"
     ]
    }
   ],
   "source": [
    "# 返回结果其实就是一个Pandas Series数据\n",
    "print(df.loc[0])"
   ]
  },
  {
   "cell_type": "code",
   "execution_count": 12,
   "id": "7e9e7600-ecaa-40a7-a132-17da64b82403",
   "metadata": {
    "execution": {
     "iopub.execute_input": "2023-03-01T00:39:47.298317Z",
     "iopub.status.busy": "2023-03-01T00:39:47.297943Z",
     "iopub.status.idle": "2023-03-01T00:39:47.303845Z",
     "shell.execute_reply": "2023-03-01T00:39:47.302997Z",
     "shell.execute_reply.started": "2023-03-01T00:39:47.298288Z"
    }
   },
   "outputs": [
    {
     "name": "stdout",
     "output_type": "stream",
     "text": [
      "calories    45\n",
      "duration     e\n",
      "Name: 2, dtype: object\n"
     ]
    }
   ],
   "source": [
    "print(df.loc[2])"
   ]
  },
  {
   "cell_type": "code",
   "execution_count": 13,
   "id": "0feb4f44-9155-443e-992a-26da1a023fc8",
   "metadata": {
    "execution": {
     "iopub.execute_input": "2023-03-01T00:39:47.305757Z",
     "iopub.status.busy": "2023-03-01T00:39:47.305101Z",
     "iopub.status.idle": "2023-03-01T00:39:47.312473Z",
     "shell.execute_reply": "2023-03-01T00:39:47.311633Z",
     "shell.execute_reply.started": "2023-03-01T00:39:47.305714Z"
    },
    "tags": []
   },
   "outputs": [
    {
     "name": "stdout",
     "output_type": "stream",
     "text": [
      "   calories duration\n",
      "0        12        q\n",
      "2        45        e\n"
     ]
    }
   ],
   "source": [
    "# 也可以返回多行数据\n",
    "print(df.loc[[0, 2]])"
   ]
  },
  {
   "cell_type": "code",
   "execution_count": 14,
   "id": "23b56e34-0178-4359-8195-b4abe1fa4079",
   "metadata": {
    "execution": {
     "iopub.execute_input": "2023-03-01T00:39:47.314302Z",
     "iopub.status.busy": "2023-03-01T00:39:47.313738Z",
     "iopub.status.idle": "2023-03-01T00:39:47.320927Z",
     "shell.execute_reply": "2023-03-01T00:39:47.320124Z",
     "shell.execute_reply.started": "2023-03-01T00:39:47.314272Z"
    }
   },
   "outputs": [
    {
     "name": "stdout",
     "output_type": "stream",
     "text": [
      "      calories duration\n",
      "day1        12        q\n",
      "day2        23        w\n",
      "day3        45        e\n",
      "day4        67        r\n"
     ]
    }
   ],
   "source": [
    "# 指定索引指\n",
    "df = pd.DataFrame(data, index=[\"day1\", \"day2\", \"day3\", \"day4\"])\n",
    "print(df)"
   ]
  },
  {
   "cell_type": "code",
   "execution_count": 15,
   "id": "6a7fa3b4-baf7-43c5-9da5-272db7c3c419",
   "metadata": {
    "execution": {
     "iopub.execute_input": "2023-03-01T00:39:47.322973Z",
     "iopub.status.busy": "2023-03-01T00:39:47.322308Z",
     "iopub.status.idle": "2023-03-01T00:39:47.327981Z",
     "shell.execute_reply": "2023-03-01T00:39:47.327138Z",
     "shell.execute_reply.started": "2023-03-01T00:39:47.322941Z"
    }
   },
   "outputs": [
    {
     "name": "stdout",
     "output_type": "stream",
     "text": [
      "calories    45\n",
      "duration     e\n",
      "Name: day3, dtype: object\n"
     ]
    }
   ],
   "source": [
    "# 返回指定索引对应的某一行\n",
    "print(df.loc[\"day3\"])"
   ]
  },
  {
   "cell_type": "markdown",
   "id": "6571ae48-8da9-4436-acab-e053ad68ad65",
   "metadata": {},
   "source": [
    "# Pandas CSV文件"
   ]
  },
  {
   "cell_type": "markdown",
   "id": "5a24ae91-aa0b-4c27-b938-5161e689ad76",
   "metadata": {},
   "source": [
    "CSV(Comma-Separated Values，逗号分割值，有时也称字符分割值，因为分割字符也可以不是逗号)，其文件以纯文本形式存储表格数据（数字和文本）。\n",
    "\n",
    "CSV是一种通用的、相对简单地文件格式、被用户、商业和科学广泛应用"
   ]
  },
  {
   "cell_type": "code",
   "execution_count": 16,
   "id": "eabb326d-bd9d-4dd1-938f-1b5b3868a8f0",
   "metadata": {
    "execution": {
     "iopub.execute_input": "2023-03-01T00:39:47.329833Z",
     "iopub.status.busy": "2023-03-01T00:39:47.329289Z",
     "iopub.status.idle": "2023-03-01T00:39:47.415141Z",
     "shell.execute_reply": "2023-03-01T00:39:47.414283Z",
     "shell.execute_reply.started": "2023-03-01T00:39:47.329802Z"
    },
    "scrolled": true,
    "tags": []
   },
   "outputs": [
    {
     "name": "stdout",
     "output_type": "stream",
     "text": [
      "                         Name                    Team  Number Position   Age Height  Weight                College      Salary\n",
      "0               Avery Bradley          Boston Celtics     0.0       PG  25.0    6-2   180.0                  Texas   7730337.0\n",
      "1                 Jae Crowder          Boston Celtics    99.0       SF  25.0    6-6   235.0              Marquette   6796117.0\n",
      "2                John Holland          Boston Celtics    30.0       SG  27.0    6-5   205.0      Boston University         NaN\n",
      "3                 R.J. Hunter          Boston Celtics    28.0       SG  22.0    6-5   185.0          Georgia State   1148640.0\n",
      "4               Jonas Jerebko          Boston Celtics     8.0       PF  29.0   6-10   231.0                    NaN   5000000.0\n",
      "5                Amir Johnson          Boston Celtics    90.0       PF  29.0    6-9   240.0                    NaN  12000000.0\n",
      "6               Jordan Mickey          Boston Celtics    55.0       PF  21.0    6-8   235.0                    LSU   1170960.0\n",
      "7                Kelly Olynyk          Boston Celtics    41.0        C  25.0    7-0   238.0                Gonzaga   2165160.0\n",
      "8                Terry Rozier          Boston Celtics    12.0       PG  22.0    6-2   190.0             Louisville   1824360.0\n",
      "9                Marcus Smart          Boston Celtics    36.0       PG  22.0    6-4   220.0         Oklahoma State   3431040.0\n",
      "10            Jared Sullinger          Boston Celtics     7.0        C  24.0    6-9   260.0             Ohio State   2569260.0\n",
      "11              Isaiah Thomas          Boston Celtics     4.0       PG  27.0    5-9   185.0             Washington   6912869.0\n",
      "12                Evan Turner          Boston Celtics    11.0       SG  27.0    6-7   220.0             Ohio State   3425510.0\n",
      "13                James Young          Boston Celtics    13.0       SG  20.0    6-6   215.0               Kentucky   1749840.0\n",
      "14               Tyler Zeller          Boston Celtics    44.0        C  26.0    7-0   253.0         North Carolina   2616975.0\n",
      "15           Bojan Bogdanovic           Brooklyn Nets    44.0       SG  27.0    6-8   216.0                    NaN   3425510.0\n",
      "16               Markel Brown           Brooklyn Nets    22.0       SG  24.0    6-3   190.0         Oklahoma State    845059.0\n",
      "17            Wayne Ellington           Brooklyn Nets    21.0       SG  28.0    6-4   200.0         North Carolina   1500000.0\n",
      "18    Rondae Hollis-Jefferson           Brooklyn Nets    24.0       SG  21.0    6-7   220.0                Arizona   1335480.0\n",
      "19               Jarrett Jack           Brooklyn Nets     2.0       PG  32.0    6-3   200.0           Georgia Tech   6300000.0\n",
      "20             Sergey Karasev           Brooklyn Nets    10.0       SG  22.0    6-7   208.0                    NaN   1599840.0\n",
      "21            Sean Kilpatrick           Brooklyn Nets     6.0       SG  26.0    6-4   219.0             Cincinnati    134215.0\n",
      "22               Shane Larkin           Brooklyn Nets     0.0       PG  23.0   5-11   175.0             Miami (FL)   1500000.0\n",
      "23                Brook Lopez           Brooklyn Nets    11.0        C  28.0    7-0   275.0               Stanford  19689000.0\n",
      "24           Chris McCullough           Brooklyn Nets     1.0       PF  21.0   6-11   200.0               Syracuse   1140240.0\n",
      "25                Willie Reed           Brooklyn Nets    33.0       PF  26.0   6-10   220.0            Saint Louis    947276.0\n",
      "26            Thomas Robinson           Brooklyn Nets    41.0       PF  25.0   6-10   237.0                 Kansas    981348.0\n",
      "27                 Henry Sims           Brooklyn Nets    14.0        C  26.0   6-10   248.0             Georgetown    947276.0\n",
      "28               Donald Sloan           Brooklyn Nets    15.0       PG  28.0    6-3   205.0              Texas A&M    947276.0\n",
      "29             Thaddeus Young           Brooklyn Nets    30.0       PF  27.0    6-8   221.0           Georgia Tech  11235955.0\n",
      "30              Arron Afflalo         New York Knicks     4.0       SG  30.0    6-5   210.0                   UCLA   8000000.0\n",
      "31               Lou Amundson         New York Knicks    17.0       PF  33.0    6-9   220.0                   UNLV   1635476.0\n",
      "32     Thanasis Antetokounmpo         New York Knicks    43.0       SF  23.0    6-7   205.0                    NaN     30888.0\n",
      "33            Carmelo Anthony         New York Knicks     7.0       SF  32.0    6-8   240.0               Syracuse  22875000.0\n",
      "34              Jose Calderon         New York Knicks     3.0       PG  34.0    6-3   200.0                    NaN   7402812.0\n",
      "35           Cleanthony Early         New York Knicks    11.0       SF  25.0    6-8   210.0          Wichita State    845059.0\n",
      "36          Langston Galloway         New York Knicks     2.0       SG  24.0    6-2   200.0         Saint Joseph's    845059.0\n",
      "37               Jerian Grant         New York Knicks    13.0       PG  23.0    6-4   195.0             Notre Dame   1572360.0\n",
      "38                Robin Lopez         New York Knicks     8.0        C  28.0    7-0   255.0               Stanford  12650000.0\n",
      "39               Kyle O'Quinn         New York Knicks     9.0       PF  26.0   6-10   250.0          Norfolk State   3750000.0\n",
      "40         Kristaps Porzingis         New York Knicks     6.0       PF  20.0    7-3   240.0                    NaN   4131720.0\n",
      "41             Kevin Seraphin         New York Knicks     1.0        C  26.0   6-10   278.0                    NaN   2814000.0\n",
      "42               Lance Thomas         New York Knicks    42.0       SF  28.0    6-8   235.0                   Duke   1636842.0\n",
      "43              Sasha Vujacic         New York Knicks    18.0       SG  32.0    6-7   195.0                    NaN    947276.0\n",
      "44           Derrick Williams         New York Knicks    23.0       PF  25.0    6-8   240.0                Arizona   4000000.0\n",
      "45                Tony Wroten         New York Knicks     5.0       SG  23.0    6-6   205.0             Washington    167406.0\n",
      "46                Elton Brand      Philadelphia 76ers    42.0       PF  37.0    6-9   254.0                   Duke         NaN\n",
      "47              Isaiah Canaan      Philadelphia 76ers     0.0       PG  25.0    6-0   201.0           Murray State    947276.0\n",
      "48           Robert Covington      Philadelphia 76ers    33.0       SF  25.0    6-9   215.0        Tennessee State   1000000.0\n",
      "49                Joel Embiid      Philadelphia 76ers    21.0        C  22.0    7-0   250.0                 Kansas   4626960.0\n",
      "50               Jerami Grant      Philadelphia 76ers    39.0       SF  22.0    6-8   210.0               Syracuse    845059.0\n",
      "51             Richaun Holmes      Philadelphia 76ers    22.0       PF  22.0   6-10   245.0          Bowling Green   1074169.0\n",
      "52                Carl Landry      Philadelphia 76ers     7.0       PF  32.0    6-9   248.0                 Purdue   6500000.0\n",
      "53           Kendall Marshall      Philadelphia 76ers     5.0       PG  24.0    6-4   200.0         North Carolina   2144772.0\n",
      "54             T.J. McConnell      Philadelphia 76ers    12.0       PG  24.0    6-2   200.0                Arizona    525093.0\n",
      "55               Nerlens Noel      Philadelphia 76ers     4.0       PF  22.0   6-11   228.0               Kentucky   3457800.0\n",
      "56              Jahlil Okafor      Philadelphia 76ers     8.0        C  20.0   6-11   275.0                   Duke   4582680.0\n",
      "57                  Ish Smith      Philadelphia 76ers     1.0       PG  27.0    6-0   175.0            Wake Forest    947276.0\n",
      "58               Nik Stauskas      Philadelphia 76ers    11.0       SG  22.0    6-6   205.0               Michigan   2869440.0\n",
      "59            Hollis Thompson      Philadelphia 76ers    31.0       SG  25.0    6-8   206.0             Georgetown    947276.0\n",
      "60             Christian Wood      Philadelphia 76ers    35.0       PF  20.0   6-11   220.0                   UNLV    525093.0\n",
      "61            Bismack Biyombo         Toronto Raptors     8.0        C  23.0    6-9   245.0                    NaN   2814000.0\n",
      "62              Bruno Caboclo         Toronto Raptors    20.0       SF  20.0    6-9   205.0                    NaN   1524000.0\n",
      "63            DeMarre Carroll         Toronto Raptors     5.0       SF  29.0    6-8   212.0               Missouri  13600000.0\n",
      "64              DeMar DeRozan         Toronto Raptors    10.0       SG  26.0    6-7   220.0                    USC  10050000.0\n",
      "65              James Johnson         Toronto Raptors     3.0       PF  29.0    6-9   250.0            Wake Forest   2500000.0\n",
      "66                Cory Joseph         Toronto Raptors     6.0       PG  24.0    6-3   190.0                  Texas   7000000.0\n",
      "67                 Kyle Lowry         Toronto Raptors     7.0       PG  30.0    6-0   205.0              Villanova  12000000.0\n",
      "68             Lucas Nogueira         Toronto Raptors    92.0        C  23.0    7-0   220.0                    NaN   1842000.0\n",
      "69          Patrick Patterson         Toronto Raptors    54.0       PF  27.0    6-9   235.0               Kentucky   6268675.0\n",
      "70              Norman Powell         Toronto Raptors    24.0       SG  23.0    6-4   215.0                   UCLA    650000.0\n",
      "71              Terrence Ross         Toronto Raptors    31.0       SF  25.0    6-7   195.0             Washington   3553917.0\n",
      "72                 Luis Scola         Toronto Raptors     4.0       PF  36.0    6-9   240.0                    NaN   2900000.0\n",
      "73             Jason Thompson         Toronto Raptors     1.0       PF  29.0   6-11   250.0                  Rider    245177.0\n",
      "74          Jonas Valanciunas         Toronto Raptors    17.0        C  24.0    7-0   255.0                    NaN   4660482.0\n",
      "75               Delon Wright         Toronto Raptors    55.0       PG  24.0    6-5   190.0                   Utah   1509360.0\n",
      "76            Leandro Barbosa   Golden State Warriors    19.0       SG  33.0    6-3   194.0                    NaN   2500000.0\n",
      "77            Harrison Barnes   Golden State Warriors    40.0       SF  24.0    6-8   225.0         North Carolina   3873398.0\n",
      "78               Andrew Bogut   Golden State Warriors    12.0        C  31.0    7-0   260.0                   Utah  13800000.0\n",
      "79                  Ian Clark   Golden State Warriors    21.0       SG  25.0    6-3   175.0                Belmont    947276.0\n",
      "80              Stephen Curry   Golden State Warriors    30.0       PG  28.0    6-3   190.0               Davidson  11370786.0\n",
      "81               Festus Ezeli   Golden State Warriors    31.0        C  26.0   6-11   265.0             Vanderbilt   2008748.0\n",
      "82             Draymond Green   Golden State Warriors    23.0       PF  26.0    6-7   230.0         Michigan State  14260870.0\n",
      "83             Andre Iguodala   Golden State Warriors     9.0       SF  32.0    6-6   215.0                Arizona  11710456.0\n",
      "84           Shaun Livingston   Golden State Warriors    34.0       PG  30.0    6-7   192.0                    NaN   5543725.0\n",
      "85               Kevon Looney   Golden State Warriors    36.0       SF  20.0    6-9   220.0                   UCLA   1131960.0\n",
      "86       James Michael McAdoo   Golden State Warriors    20.0       SF  23.0    6-9   240.0         North Carolina    845059.0\n",
      "87               Brandon Rush   Golden State Warriors     4.0       SF  30.0    6-6   220.0                 Kansas   1270964.0\n",
      "88          Marreese Speights   Golden State Warriors     5.0        C  28.0   6-10   255.0                Florida   3815000.0\n",
      "89              Klay Thompson   Golden State Warriors    11.0       SG  26.0    6-7   215.0       Washington State  15501000.0\n",
      "90           Anderson Varejao   Golden State Warriors    18.0       PF  33.0   6-11   273.0                    NaN    289755.0\n",
      "91               Cole Aldrich    Los Angeles Clippers    45.0        C  27.0   6-11   250.0                 Kansas   1100602.0\n",
      "92                 Jeff Ayres    Los Angeles Clippers    19.0       PF  29.0    6-9   250.0          Arizona State    111444.0\n",
      "93             Jamal Crawford    Los Angeles Clippers    11.0       SG  36.0    6-5   195.0               Michigan   5675000.0\n",
      "94             Branden Dawson    Los Angeles Clippers    22.0       SF  23.0    6-6   225.0         Michigan State    525093.0\n",
      "95                 Jeff Green    Los Angeles Clippers     8.0       SF  29.0    6-9   235.0             Georgetown   9650000.0\n",
      "96              Blake Griffin    Los Angeles Clippers    32.0       PF  27.0   6-10   251.0               Oklahoma  18907726.0\n",
      "97             Wesley Johnson    Los Angeles Clippers    33.0       SF  28.0    6-7   215.0               Syracuse   1100602.0\n",
      "98             DeAndre Jordan    Los Angeles Clippers     6.0        C  27.0   6-11   265.0              Texas A&M  19689000.0\n",
      "99   Luc Richard Mbah a Moute    Los Angeles Clippers    12.0       PF  29.0    6-8   230.0                   UCLA    947276.0\n",
      "100                Chris Paul    Los Angeles Clippers     3.0       PG  31.0    6-0   175.0            Wake Forest  21468695.0\n",
      "101               Paul Pierce    Los Angeles Clippers    34.0       SF  38.0    6-7   235.0                 Kansas   3376000.0\n",
      "102            Pablo Prigioni    Los Angeles Clippers     9.0       PG  39.0    6-3   185.0                    NaN    947726.0\n",
      "103                 JJ Redick    Los Angeles Clippers     4.0       SG  31.0    6-4   190.0                   Duke   7085000.0\n",
      "104             Austin Rivers    Los Angeles Clippers    25.0       PG  23.0    6-4   200.0                   Duke   3110796.0\n",
      "105               C.J. Wilcox    Los Angeles Clippers    30.0       SG  25.0    6-5   195.0             Washington   1159680.0\n",
      "106              Brandon Bass      Los Angeles Lakers     2.0       PF  31.0    6-8   250.0                    LSU   3000000.0\n",
      "107               Tarik Black      Los Angeles Lakers    28.0        C  24.0    6-9   250.0                 Kansas    845059.0\n",
      "108             Anthony Brown      Los Angeles Lakers     3.0       SF  23.0    6-7   210.0               Stanford    700000.0\n",
      "109               Kobe Bryant      Los Angeles Lakers    24.0       SF  37.0    6-6   212.0                    NaN  25000000.0\n",
      "110           Jordan Clarkson      Los Angeles Lakers     6.0       PG  24.0    6-5   194.0               Missouri    845059.0\n",
      "111               Roy Hibbert      Los Angeles Lakers    17.0        C  29.0    7-2   270.0             Georgetown  15592217.0\n",
      "112           Marcelo Huertas      Los Angeles Lakers     9.0       PG  33.0    6-3   200.0                    NaN    525093.0\n",
      "113                Ryan Kelly      Los Angeles Lakers     4.0       PF  25.0   6-11   230.0                   Duke   1724250.0\n",
      "114           Larry Nance Jr.      Los Angeles Lakers     7.0       PF  23.0    6-9   230.0                Wyoming   1155600.0\n",
      "115             Julius Randle      Los Angeles Lakers    30.0       PF  21.0    6-9   250.0               Kentucky   3132240.0\n",
      "116          D'Angelo Russell      Los Angeles Lakers     1.0       PG  20.0    6-5   195.0             Ohio State   5103120.0\n",
      "117              Robert Sacre      Los Angeles Lakers    50.0        C  27.0    7-0   270.0                Gonzaga    981348.0\n",
      "118            Louis Williams      Los Angeles Lakers    23.0       SG  29.0    6-1   175.0                    NaN   7000000.0\n",
      "119         Metta World Peace      Los Angeles Lakers    37.0       SF  36.0    6-7   260.0             St. John's    947276.0\n",
      "120                Nick Young      Los Angeles Lakers     0.0       SF  31.0    6-7   210.0                    USC   5219169.0\n",
      "121              Eric Bledsoe            Phoenix Suns     2.0       PG  26.0    6-1   190.0               Kentucky  13500000.0\n",
      "122              Devin Booker            Phoenix Suns     1.0       SG  19.0    6-6   206.0               Kentucky   2127840.0\n",
      "123            Chase Budinger            Phoenix Suns    10.0       SF  28.0    6-7   209.0                Arizona    206192.0\n",
      "124            Tyson Chandler            Phoenix Suns     4.0        C  33.0    7-1   240.0                    NaN  13000000.0\n",
      "125            Archie Goodwin            Phoenix Suns    20.0       SG  21.0    6-5   200.0               Kentucky   1160160.0\n",
      "126              John Jenkins            Phoenix Suns    23.0       SG  25.0    6-4   215.0             Vanderbilt    981348.0\n",
      "127            Brandon Knight            Phoenix Suns     3.0       PG  24.0    6-3   189.0               Kentucky  13500000.0\n",
      "128                  Alex Len            Phoenix Suns    21.0        C  22.0    7-1   260.0               Maryland   3807120.0\n",
      "129                 Jon Leuer            Phoenix Suns    30.0       PF  27.0   6-10   228.0              Wisconsin   1035000.0\n",
      "130              Phil Pressey            Phoenix Suns    25.0       PG  25.0   5-11   175.0               Missouri     55722.0\n",
      "131              Ronnie Price            Phoenix Suns    14.0       PG  32.0    6-2   190.0            Utah Valley    947276.0\n",
      "132           Mirza Teletovic            Phoenix Suns    35.0       PF  30.0    6-9   242.0                    NaN   5500000.0\n",
      "133               P.J. Tucker            Phoenix Suns    17.0       SF  31.0    6-6   245.0                  Texas   5500000.0\n",
      "134               T.J. Warren            Phoenix Suns    12.0       SF  22.0    6-8   230.0   North Carolina State   2041080.0\n",
      "135             Alan Williams            Phoenix Suns    15.0        C  23.0    6-8   260.0       UC Santa Barbara     83397.0\n",
      "136                Quincy Acy        Sacramento Kings    13.0       SF  25.0    6-7   240.0                 Baylor    981348.0\n",
      "137            James Anderson        Sacramento Kings     5.0       SG  27.0    6-6   213.0         Oklahoma State   1015421.0\n",
      "138           Marco Belinelli        Sacramento Kings     3.0       SG  30.0    6-5   210.0                    NaN   6060606.0\n",
      "139              Caron Butler        Sacramento Kings    31.0       SF  36.0    6-7   228.0            Connecticut   1449187.0\n",
      "140               Omri Casspi        Sacramento Kings    18.0       SF  27.0    6-9   225.0                    NaN   2836186.0\n",
      "141       Willie Cauley-Stein        Sacramento Kings     0.0        C  22.0    7-0   240.0               Kentucky   3398280.0\n",
      "142           Darren Collison        Sacramento Kings     7.0       PG  28.0    6-0   175.0                   UCLA   5013559.0\n",
      "143          DeMarcus Cousins        Sacramento Kings    15.0        C  25.0   6-11   270.0               Kentucky  15851950.0\n",
      "144                Seth Curry        Sacramento Kings    30.0       SG  25.0    6-2   185.0                   Duke    947276.0\n",
      "145                Duje Dukan        Sacramento Kings    26.0       PF  24.0    6-9   220.0              Wisconsin    525093.0\n",
      "146                  Rudy Gay        Sacramento Kings     8.0       SF  29.0    6-8   230.0            Connecticut  12403101.0\n",
      "147              Kosta Koufos        Sacramento Kings    41.0        C  27.0    7-0   265.0             Ohio State   7700000.0\n",
      "148              Ben McLemore        Sacramento Kings    23.0       SG  23.0    6-5   195.0                 Kansas   3156600.0\n",
      "149             Eric Moreland        Sacramento Kings    25.0       PF  24.0   6-10   238.0           Oregon State    845059.0\n",
      "150               Rajon Rondo        Sacramento Kings     9.0       PG  30.0    6-1   186.0               Kentucky   9500000.0\n",
      "151          Cameron Bairstow           Chicago Bulls    41.0       PF  25.0    6-9   250.0             New Mexico    845059.0\n",
      "152              Aaron Brooks           Chicago Bulls     0.0       PG  31.0    6-0   161.0                 Oregon   2250000.0\n",
      "153              Jimmy Butler           Chicago Bulls    21.0       SG  26.0    6-7   220.0              Marquette  16407500.0\n",
      "154             Mike Dunleavy           Chicago Bulls    34.0       SG  35.0    6-9   230.0                   Duke   4500000.0\n",
      "155         Cristiano Felicio           Chicago Bulls     6.0       PF  23.0   6-10   275.0                    NaN    525093.0\n",
      "156                 Pau Gasol           Chicago Bulls    16.0        C  35.0    7-0   250.0                    NaN   7448760.0\n",
      "157                Taj Gibson           Chicago Bulls    22.0       PF  30.0    6-9   225.0                    USC   8500000.0\n",
      "158            Justin Holiday           Chicago Bulls     7.0       SG  27.0    6-6   185.0             Washington    947276.0\n",
      "159            Doug McDermott           Chicago Bulls     3.0       SF  24.0    6-8   225.0              Creighton   2380440.0\n",
      "160            Nikola Mirotic           Chicago Bulls    44.0       PF  25.0   6-10   220.0                    NaN   5543725.0\n",
      "161             E'Twaun Moore           Chicago Bulls    55.0       SG  27.0    6-4   191.0                 Purdue   1015421.0\n",
      "162               Joakim Noah           Chicago Bulls    13.0        C  31.0   6-11   232.0                Florida  13400000.0\n",
      "163              Bobby Portis           Chicago Bulls     5.0       PF  21.0   6-11   230.0               Arkansas   1391160.0\n",
      "164              Derrick Rose           Chicago Bulls     1.0       PG  27.0    6-3   190.0                Memphis  20093064.0\n",
      "165                Tony Snell           Chicago Bulls    20.0       SF  24.0    6-7   200.0             New Mexico   1535880.0\n",
      "166       Matthew Dellavedova     Cleveland Cavaliers     8.0       PG  25.0    6-4   198.0           Saint Mary's   1147276.0\n",
      "167             Channing Frye     Cleveland Cavaliers     9.0       PF  33.0   6-11   255.0                Arizona   8193029.0\n",
      "168              Kyrie Irving     Cleveland Cavaliers     2.0       PG  24.0    6-3   193.0                   Duke  16407501.0\n",
      "169              LeBron James     Cleveland Cavaliers    23.0       SF  31.0    6-8   250.0                    NaN  22970500.0\n",
      "170         Richard Jefferson     Cleveland Cavaliers    24.0       SF  35.0    6-7   233.0                Arizona    947276.0\n",
      "171             Dahntay Jones     Cleveland Cavaliers    30.0       SG  35.0    6-6   225.0                   Duke         NaN\n",
      "172               James Jones     Cleveland Cavaliers     1.0       SG  35.0    6-8   218.0             Miami (FL)    947276.0\n",
      "173                Sasha Kaun     Cleveland Cavaliers    14.0        C  31.0   6-11   260.0                 Kansas   1276000.0\n",
      "174                Kevin Love     Cleveland Cavaliers     0.0       PF  27.0   6-10   251.0                   UCLA  19689000.0\n",
      "175              Jordan McRae     Cleveland Cavaliers    12.0       SG  25.0    6-5   179.0              Tennessee    111196.0\n",
      "176            Timofey Mozgov     Cleveland Cavaliers    20.0        C  29.0    7-1   275.0                    NaN   4950000.0\n",
      "177             Iman Shumpert     Cleveland Cavaliers     4.0       SG  25.0    6-5   220.0           Georgia Tech   8988765.0\n",
      "178                J.R. Smith     Cleveland Cavaliers     5.0       SG  30.0    6-6   225.0                    NaN   5000000.0\n",
      "179          Tristan Thompson     Cleveland Cavaliers    13.0        C  25.0    6-9   238.0                  Texas  14260870.0\n",
      "180               Mo Williams     Cleveland Cavaliers    52.0       PG  33.0    6-1   198.0                Alabama   2100000.0\n",
      "181              Joel Anthony         Detroit Pistons    50.0        C  33.0    6-9   245.0                   UNLV   2500000.0\n",
      "182               Aron Baynes         Detroit Pistons    12.0        C  29.0   6-10   260.0       Washington State   6500000.0\n",
      "183               Steve Blake         Detroit Pistons    22.0       PG  36.0    6-3   172.0               Maryland   2170465.0\n",
      "184             Lorenzo Brown         Detroit Pistons    17.0       PG  25.0    6-5   189.0   North Carolina State    111444.0\n",
      "185            Reggie Bullock         Detroit Pistons    25.0       SF  25.0    6-7   205.0         North Carolina   1252440.0\n",
      "186  Kentavious Caldwell-Pope         Detroit Pistons     5.0       SG  23.0    6-5   205.0                Georgia   2891760.0\n",
      "187         Spencer Dinwiddie         Detroit Pistons     8.0       PG  23.0    6-6   200.0               Colorado    845059.0\n",
      "188            Andre Drummond         Detroit Pistons     0.0        C  22.0   6-11   279.0            Connecticut   3272091.0\n",
      "189             Tobias Harris         Detroit Pistons    34.0       SF  23.0    6-9   235.0              Tennessee  16000000.0\n",
      "190           Darrun Hilliard         Detroit Pistons     6.0       SF  23.0    6-6   205.0              Villanova    600000.0\n",
      "191            Reggie Jackson         Detroit Pistons     1.0       PG  26.0    6-3   208.0         Boston College  13913044.0\n",
      "192           Stanley Johnson         Detroit Pistons     3.0       SF  20.0    6-7   245.0                Arizona   2841960.0\n",
      "193               Jodie Meeks         Detroit Pistons    20.0       SG  28.0    6-4   210.0               Kentucky   6270000.0\n",
      "194             Marcus Morris         Detroit Pistons    13.0       PF  26.0    6-9   235.0                 Kansas   5000000.0\n",
      "195          Anthony Tolliver         Detroit Pistons    43.0       PF  31.0    6-8   240.0              Creighton   3000000.0\n",
      "196               Lavoy Allen          Indiana Pacers     5.0       PF  27.0    6-9   255.0                 Temple   4050000.0\n",
      "197          Rakeem Christmas          Indiana Pacers    25.0       PF  24.0    6-9   250.0               Syracuse   1007026.0\n",
      "198               Monta Ellis          Indiana Pacers    11.0       SG  30.0    6-3   185.0                    NaN  10300000.0\n",
      "199               Paul George          Indiana Pacers    13.0       SF  26.0    6-9   220.0           Fresno State  17120106.0\n",
      "200               George Hill          Indiana Pacers     3.0       PG  30.0    6-3   188.0                  IUPUI   8000000.0\n",
      "201               Jordan Hill          Indiana Pacers    27.0        C  28.0   6-10   235.0                Arizona   4000000.0\n",
      "202              Solomon Hill          Indiana Pacers    44.0       SF  25.0    6-7   225.0                Arizona   1358880.0\n",
      "203                 Ty Lawson          Indiana Pacers    10.0       PG  28.0   5-11   195.0         North Carolina    211744.0\n",
      "204               Ian Mahinmi          Indiana Pacers    28.0        C  29.0   6-11   250.0                    NaN   4000000.0\n",
      "205                C.J. Miles          Indiana Pacers     0.0       SF  29.0    6-6   231.0                    NaN   4394225.0\n",
      "206        Glenn Robinson III          Indiana Pacers    40.0       SG  22.0    6-7   222.0               Michigan   1100000.0\n",
      "207            Rodney Stuckey          Indiana Pacers     2.0       PG  30.0    6-5   205.0     Eastern Washington   7000000.0\n",
      "208              Myles Turner          Indiana Pacers    33.0       PF  20.0   6-11   243.0                  Texas   2357760.0\n",
      "209        Shayne Whittington          Indiana Pacers    42.0       PF  25.0   6-11   250.0       Western Michigan    845059.0\n",
      "210                 Joe Young          Indiana Pacers     1.0       PG  23.0    6-2   180.0                 Oregon   1007026.0\n",
      "211     Giannis Antetokounmpo         Milwaukee Bucks    34.0       SF  21.0   6-11   222.0                    NaN   1953960.0\n",
      "212            Jerryd Bayless         Milwaukee Bucks    19.0       PG  27.0    6-3   200.0                Arizona   3000000.0\n",
      "213   Michael Carter-Williams         Milwaukee Bucks     5.0       PG  24.0    6-6   190.0               Syracuse   2399040.0\n",
      "214          Jared Cunningham         Milwaukee Bucks     9.0       SG  25.0    6-4   195.0           Oregon State    947276.0\n",
      "215               Tyler Ennis         Milwaukee Bucks    11.0       PG  21.0    6-3   194.0               Syracuse   1662360.0\n",
      "216               John Henson         Milwaukee Bucks    31.0       PF  25.0   6-11   229.0         North Carolina   2943221.0\n",
      "217             Damien Inglis         Milwaukee Bucks    17.0       SF  21.0    6-8   246.0                    NaN    855000.0\n",
      "218                 O.J. Mayo         Milwaukee Bucks     3.0       SG  28.0    6-5   210.0                    USC   8000000.0\n",
      "219           Khris Middleton         Milwaukee Bucks    22.0       SG  24.0    6-8   234.0              Texas A&M  14700000.0\n",
      "220               Greg Monroe         Milwaukee Bucks    15.0        C  26.0   6-11   265.0             Georgetown  16407500.0\n",
      "221               Steve Novak         Milwaukee Bucks     6.0       SF  32.0   6-10   225.0              Marquette    295327.0\n",
      "222       Johnny O'Bryant III         Milwaukee Bucks    77.0       PF  23.0    6-9   257.0                    LSU    845059.0\n",
      "223             Jabari Parker         Milwaukee Bucks    12.0       PF  21.0    6-8   250.0                   Duke   5152440.0\n",
      "224             Miles Plumlee         Milwaukee Bucks    18.0        C  27.0   6-11   249.0                   Duke   2109294.0\n",
      "225           Greivis Vasquez         Milwaukee Bucks    21.0       PG  29.0    6-6   217.0               Maryland   6600000.0\n",
      "226             Rashad Vaughn         Milwaukee Bucks    20.0       SG  19.0    6-6   202.0                   UNLV   1733040.0\n",
      "227           Justin Anderson        Dallas Mavericks     1.0       SG  22.0    6-6   228.0               Virginia   1449000.0\n",
      "228                J.J. Barea        Dallas Mavericks     5.0       PG  31.0    6-0   185.0           Northeastern   4290000.0\n",
      "229              Jeremy Evans        Dallas Mavericks    21.0       SF  28.0    6-9   200.0       Western Kentucky   1100602.0\n",
      "230            Raymond Felton        Dallas Mavericks     2.0       PG  31.0    6-1   205.0         North Carolina   3950313.0\n",
      "231              Devin Harris        Dallas Mavericks    34.0       PG  33.0    6-3   185.0              Wisconsin   4053446.0\n",
      "232                 David Lee        Dallas Mavericks    42.0       PF  33.0    6-9   245.0                Florida   2085671.0\n",
      "233           Wesley Matthews        Dallas Mavericks    23.0       SG  29.0    6-5   220.0              Marquette  16407500.0\n",
      "234              JaVale McGee        Dallas Mavericks    11.0        C  28.0    7-0   270.0                 Nevada   1270964.0\n",
      "235               Salah Mejri        Dallas Mavericks    50.0        C  29.0    7-2   245.0                    NaN    525093.0\n",
      "236             Dirk Nowitzki        Dallas Mavericks    41.0       PF  37.0    7-0   245.0                    NaN   8333334.0\n",
      "237             Zaza Pachulia        Dallas Mavericks    27.0        C  32.0   6-11   275.0                    NaN   5200000.0\n",
      "238          Chandler Parsons        Dallas Mavericks    25.0       SF  27.0   6-10   230.0                Florida  15361500.0\n",
      "239             Dwight Powell        Dallas Mavericks     7.0       PF  24.0   6-11   240.0               Stanford    845059.0\n",
      "240        Charlie Villanueva        Dallas Mavericks     3.0       PF  31.0   6-11   232.0            Connecticut    947276.0\n",
      "241            Deron Williams        Dallas Mavericks     8.0       PG  31.0    6-3   200.0               Illinois   5378974.0\n",
      "242              Trevor Ariza         Houston Rockets     1.0       SF  30.0    6-8   215.0                   UCLA   8193030.0\n",
      "243           Michael Beasley         Houston Rockets     8.0       SF  27.0   6-10   235.0           Kansas State    306527.0\n",
      "244          Patrick Beverley         Houston Rockets     2.0       PG  27.0    6-1   185.0               Arkansas   6486486.0\n",
      "245              Corey Brewer         Houston Rockets    33.0       SG  30.0    6-9   186.0                Florida   8229375.0\n",
      "246              Clint Capela         Houston Rockets    15.0       PF  22.0   6-10   240.0                    NaN   1242720.0\n",
      "247                Sam Dekker         Houston Rockets     7.0       SF  22.0    6-9   230.0              Wisconsin   1646400.0\n",
      "248          Andrew Goudelock         Houston Rockets     0.0       PG  27.0    6-3   200.0             Charleston    200600.0\n",
      "249              James Harden         Houston Rockets    13.0       SG  26.0    6-5   220.0          Arizona State  15756438.0\n",
      "250          Montrezl Harrell         Houston Rockets    35.0       PF  22.0    6-8   240.0             Louisville   1000000.0\n",
      "251             Dwight Howard         Houston Rockets    12.0        C  30.0   6-11   265.0                    NaN  22359364.0\n",
      "252            Terrence Jones         Houston Rockets     6.0       PF  24.0    6-9   252.0               Kentucky   2489530.0\n",
      "253            K.J. McDaniels         Houston Rockets    32.0       SG  23.0    6-6   205.0                Clemson   3189794.0\n",
      "254        Donatas Motiejunas         Houston Rockets    20.0       PF  25.0    7-0   222.0                    NaN   2288205.0\n",
      "255                Josh Smith         Houston Rockets     5.0        C  30.0    6-9   225.0                    NaN    947276.0\n",
      "256               Jason Terry         Houston Rockets    31.0       SG  38.0    6-2   185.0                Arizona    947276.0\n",
      "257              Jordan Adams       Memphis Grizzlies     3.0       SG  21.0    6-5   209.0                   UCLA   1404600.0\n",
      "258                Tony Allen       Memphis Grizzlies     9.0       SG  34.0    6-4   213.0         Oklahoma State   5158539.0\n",
      "259            Chris Andersen       Memphis Grizzlies     7.0       PF  37.0   6-10   245.0          Blinn College   5000000.0\n",
      "260               Matt Barnes       Memphis Grizzlies    22.0       SF  36.0    6-7   226.0                   UCLA   3542500.0\n",
      "261              Vince Carter       Memphis Grizzlies    15.0       SG  39.0    6-6   220.0         North Carolina   4088019.0\n",
      "262               Mike Conley       Memphis Grizzlies    11.0       PG  28.0    6-1   175.0             Ohio State   9588426.0\n",
      "263              Bryce Cotton       Memphis Grizzlies     8.0       PG  23.0    6-1   165.0             Providence    700902.0\n",
      "264             Jordan Farmar       Memphis Grizzlies     4.0       PG  29.0    6-2   180.0                   UCLA         NaN\n",
      "265                Marc Gasol       Memphis Grizzlies    33.0        C  31.0    7-1   255.0                    NaN  19688000.0\n",
      "266            JaMychal Green       Memphis Grizzlies     0.0       PF  25.0    6-9   227.0                Alabama    845059.0\n",
      "267             P.J. Hairston       Memphis Grizzlies    19.0       SF  23.0    6-6   230.0         North Carolina   1201440.0\n",
      "268             Jarell Martin       Memphis Grizzlies    10.0       PF  22.0   6-10   239.0                    LSU   1230840.0\n",
      "269              Ray McCallum       Memphis Grizzlies     5.0       PG  24.0    6-3   190.0                Detroit         NaN\n",
      "270            Xavier Munford       Memphis Grizzlies    14.0       PG  24.0    6-3   180.0           Rhode Island         NaN\n",
      "271             Zach Randolph       Memphis Grizzlies    50.0       PF  34.0    6-9   260.0         Michigan State   9638555.0\n",
      "272          Lance Stephenson       Memphis Grizzlies     1.0       SF  25.0    6-5   230.0             Cincinnati   9000000.0\n",
      "273            Alex Stepheson       Memphis Grizzlies    35.0       PF  28.0   6-10   270.0                    USC         NaN\n",
      "274            Brandan Wright       Memphis Grizzlies    34.0       PF  28.0   6-10   210.0         North Carolina   5464000.0\n",
      "275             Alexis Ajinca    New Orleans Pelicans    42.0        C  28.0    7-2   248.0                    NaN   4389607.0\n",
      "276             Ryan Anderson    New Orleans Pelicans    33.0       PF  28.0   6-10   240.0             California   8500000.0\n",
      "277                 Omer Asik    New Orleans Pelicans     3.0        C  29.0    7-0   255.0                    NaN   9213483.0\n",
      "278              Luke Babbitt    New Orleans Pelicans     8.0       SF  26.0    6-9   225.0                 Nevada   1100602.0\n",
      "279               Norris Cole    New Orleans Pelicans    30.0       PG  27.0    6-2   175.0        Cleveland State   3036927.0\n",
      "280          Dante Cunningham    New Orleans Pelicans    44.0       PF  29.0    6-8   230.0              Villanova   2850000.0\n",
      "281             Anthony Davis    New Orleans Pelicans    23.0       PF  23.0   6-10   253.0               Kentucky   7070730.0\n",
      "282        Bryce Dejean-Jones    New Orleans Pelicans    31.0       SG  23.0    6-6   203.0             Iowa State    169883.0\n",
      "283             Toney Douglas    New Orleans Pelicans    16.0       PG  30.0    6-2   195.0          Florida State   1164858.0\n",
      "284               James Ennis    New Orleans Pelicans     4.0       SF  25.0    6-7   210.0       Long Beach State    845059.0\n",
      "285              Tyreke Evans    New Orleans Pelicans     1.0       SG  26.0    6-6   220.0                Memphis  10734586.0\n",
      "286               Tim Frazier    New Orleans Pelicans     2.0       PG  25.0    6-1   170.0             Penn State    845059.0\n",
      "287                Alonzo Gee    New Orleans Pelicans    15.0       SF  29.0    6-6   225.0                Alabama   1320000.0\n",
      "288               Eric Gordon    New Orleans Pelicans    10.0       SG  27.0    6-4   215.0                Indiana  15514031.0\n",
      "289           Jordan Hamilton    New Orleans Pelicans    25.0       SG  25.0    6-7   220.0                  Texas   1015421.0\n",
      "290              Jrue Holiday    New Orleans Pelicans    11.0       PG  25.0    6-4   205.0                   UCLA  10595507.0\n",
      "291           Orlando Johnson    New Orleans Pelicans     0.0       SG  27.0    6-5   220.0       UC Santa Barbara     55722.0\n",
      "292          Kendrick Perkins    New Orleans Pelicans     5.0        C  31.0   6-10   270.0                    NaN    947276.0\n",
      "293          Quincy Pondexter    New Orleans Pelicans    20.0       SF  28.0    6-7   220.0             Washington   3382023.0\n",
      "294         LaMarcus Aldridge       San Antonio Spurs    12.0       PF  30.0   6-11   240.0                  Texas  19689000.0\n",
      "295             Kyle Anderson       San Antonio Spurs     1.0       SF  22.0    6-9   230.0                   UCLA   1142880.0\n",
      "296               Matt Bonner       San Antonio Spurs    15.0        C  36.0   6-10   235.0                Florida    947276.0\n",
      "297                Boris Diaw       San Antonio Spurs    33.0        C  34.0    6-8   250.0                    NaN   7500000.0\n",
      "298                Tim Duncan       San Antonio Spurs    21.0        C  40.0   6-11   250.0            Wake Forest   5250000.0\n",
      "299             Manu Ginobili       San Antonio Spurs    20.0       SG  38.0    6-6   205.0                    NaN   2814000.0\n",
      "300               Danny Green       San Antonio Spurs    14.0       SG  28.0    6-6   215.0         North Carolina  10000000.0\n",
      "301             Kawhi Leonard       San Antonio Spurs     2.0       SF  24.0    6-7   230.0        San Diego State  16407500.0\n",
      "302          Boban Marjanovic       San Antonio Spurs    40.0        C  27.0    7-3   290.0                    NaN   1200000.0\n",
      "303              Kevin Martin       San Antonio Spurs    23.0       SG  33.0    6-7   199.0       Western Carolina    200600.0\n",
      "304              Andre Miller       San Antonio Spurs    24.0       PG  40.0    6-3   200.0                   Utah    250750.0\n",
      "305               Patty Mills       San Antonio Spurs     8.0       PG  27.0    6-0   185.0           Saint Mary's   3578947.0\n",
      "306               Tony Parker       San Antonio Spurs     9.0       PG  34.0    6-2   185.0                    NaN  13437500.0\n",
      "307          Jonathon Simmons       San Antonio Spurs    17.0       SG  26.0    6-6   195.0                Houston    525093.0\n",
      "308                David West       San Antonio Spurs    30.0       PF  35.0    6-9   250.0                 Xavier   1499187.0\n",
      "309             Kent Bazemore           Atlanta Hawks    24.0       SF  26.0    6-5   201.0           Old Dominion   2000000.0\n",
      "310          Tim Hardaway Jr.           Atlanta Hawks    10.0       SG  24.0    6-6   205.0               Michigan   1304520.0\n",
      "311              Kirk Hinrich           Atlanta Hawks    12.0       SG  35.0    6-4   190.0                 Kansas   2854940.0\n",
      "312                Al Horford           Atlanta Hawks    15.0        C  30.0   6-10   245.0                Florida  12000000.0\n",
      "313            Kris Humphries           Atlanta Hawks    43.0       PF  31.0    6-9   235.0              Minnesota   1000000.0\n",
      "314               Kyle Korver           Atlanta Hawks    26.0       SG  35.0    6-7   212.0              Creighton   5746479.0\n",
      "315              Paul Millsap           Atlanta Hawks     4.0       PF  31.0    6-8   246.0         Louisiana Tech  18671659.0\n",
      "316              Mike Muscala           Atlanta Hawks    31.0       PF  24.0   6-11   240.0               Bucknell    947276.0\n",
      "317           Lamar Patterson           Atlanta Hawks    13.0       SG  24.0    6-5   225.0             Pittsburgh    525093.0\n",
      "318           Dennis Schroder           Atlanta Hawks    17.0       PG  22.0    6-1   172.0                    NaN   1763400.0\n",
      "319                Mike Scott           Atlanta Hawks    32.0       PF  27.0    6-8   237.0               Virginia   3333333.0\n",
      "320           Thabo Sefolosha           Atlanta Hawks    25.0       SF  32.0    6-7   220.0                    NaN   4000000.0\n",
      "321            Tiago Splitter           Atlanta Hawks    11.0        C  31.0   6-11   245.0                    NaN   9756250.0\n",
      "322            Walter Tavares           Atlanta Hawks    22.0        C  24.0    7-3   260.0                    NaN   1000000.0\n",
      "323               Jeff Teague           Atlanta Hawks     0.0       PG  27.0    6-2   186.0            Wake Forest   8000000.0\n",
      "324             Nicolas Batum       Charlotte Hornets     5.0       SG  27.0    6-8   200.0                    NaN  13125306.0\n",
      "325              Troy Daniels       Charlotte Hornets    30.0       SG  24.0    6-4   205.0  Virginia Commonwealth    947276.0\n",
      "326           Jorge Gutierrez       Charlotte Hornets    12.0       PG  27.0    6-3   189.0             California    189455.0\n",
      "327          Tyler Hansbrough       Charlotte Hornets    50.0       PF  30.0    6-9   250.0         North Carolina    947276.0\n",
      "328            Aaron Harrison       Charlotte Hornets     9.0       SG  21.0    6-6   210.0               Kentucky    525093.0\n",
      "329             Spencer Hawes       Charlotte Hornets     0.0       PF  28.0    7-1   245.0             Washington   6110034.0\n",
      "330              Al Jefferson       Charlotte Hornets    25.0        C  31.0   6-10   289.0                    NaN  13500000.0\n",
      "331        Frank Kaminsky III       Charlotte Hornets    44.0        C  23.0    7-0   240.0              Wisconsin   2612520.0\n",
      "332    Michael Kidd-Gilchrist       Charlotte Hornets    14.0       SF  22.0    6-7   232.0               Kentucky   6331404.0\n",
      "333               Jeremy Lamb       Charlotte Hornets     3.0       SG  24.0    6-5   185.0            Connecticut   3034356.0\n",
      "334              Courtney Lee       Charlotte Hornets     1.0       SG  30.0    6-5   200.0       Western Kentucky   5675000.0\n",
      "335                Jeremy Lin       Charlotte Hornets     7.0       PG  27.0    6-3   200.0                Harvard   2139000.0\n",
      "336              Kemba Walker       Charlotte Hornets    15.0       PG  26.0    6-1   184.0            Connecticut  12000000.0\n",
      "337           Marvin Williams       Charlotte Hornets     2.0       PF  29.0    6-9   237.0         North Carolina   7000000.0\n",
      "338               Cody Zeller       Charlotte Hornets    40.0        C  23.0    7-0   240.0                Indiana   4204200.0\n",
      "339                Chris Bosh              Miami Heat     1.0       PF  32.0   6-11   235.0           Georgia Tech  22192730.0\n",
      "340                 Luol Deng              Miami Heat     9.0       SF  31.0    6-9   220.0                   Duke  10151612.0\n",
      "341              Goran Dragic              Miami Heat     7.0       PG  30.0    6-3   190.0                    NaN  14783000.0\n",
      "342              Gerald Green              Miami Heat    14.0       SF  30.0    6-7   205.0                    NaN    947276.0\n",
      "343             Udonis Haslem              Miami Heat    40.0       PF  36.0    6-8   235.0                Florida   2854940.0\n",
      "344               Joe Johnson              Miami Heat     2.0       SF  34.0    6-7   240.0               Arkansas    261894.0\n",
      "345             Tyler Johnson              Miami Heat     8.0       SG  24.0    6-4   186.0           Fresno State    845059.0\n",
      "346            Josh McRoberts              Miami Heat     4.0       PF  29.0   6-10   240.0                   Duke   5543725.0\n",
      "347           Josh Richardson              Miami Heat     0.0       SG  22.0    6-6   200.0              Tennessee    525093.0\n",
      "348         Amar'e Stoudemire              Miami Heat     5.0       PF  33.0   6-10   245.0                    NaN    947276.0\n",
      "349               Dwyane Wade              Miami Heat     3.0       SG  34.0    6-4   220.0              Marquette  20000000.0\n",
      "350             Briante Weber              Miami Heat    12.0       PG  23.0    6-2   165.0  Virginia Commonwealth         NaN\n",
      "351          Hassan Whiteside              Miami Heat    21.0        C  26.0    7-0   265.0               Marshall    981348.0\n",
      "352           Justise Winslow              Miami Heat    20.0       SF  20.0    6-7   225.0                   Duke   2481720.0\n",
      "353             Dorell Wright              Miami Heat    11.0       SF  30.0    6-9   205.0                    NaN         NaN\n",
      "354            Dewayne Dedmon           Orlando Magic     3.0        C  26.0    7-0   245.0                    USC    947276.0\n",
      "355             Evan Fournier           Orlando Magic    10.0       SG  23.0    6-7   205.0                    NaN   2288205.0\n",
      "356              Aaron Gordon           Orlando Magic     0.0       PF  20.0    6-9   220.0                Arizona   4171680.0\n",
      "357             Mario Hezonja           Orlando Magic    23.0       SG  21.0    6-8   218.0                    NaN   3741480.0\n",
      "358            Ersan Ilyasova           Orlando Magic     7.0       PF  29.0   6-10   235.0                    NaN   7900000.0\n",
      "359          Brandon Jennings           Orlando Magic    55.0       PG  26.0    6-1   169.0                    NaN   8344497.0\n",
      "360              Devyn Marble           Orlando Magic    11.0       SF  23.0    6-6   200.0                   Iowa    845059.0\n",
      "361            Shabazz Napier           Orlando Magic    13.0       PG  24.0    6-1   175.0            Connecticut   1294440.0\n",
      "362          Andrew Nicholson           Orlando Magic    44.0       PF  26.0    6-9   250.0        St. Bonaventure   2380593.0\n",
      "363            Victor Oladipo           Orlando Magic     5.0       SG  24.0    6-4   210.0                Indiana   5192520.0\n",
      "364             Elfrid Payton           Orlando Magic     4.0       PG  22.0    6-4   185.0    Louisiana-Lafayette   2505720.0\n",
      "365               Jason Smith           Orlando Magic    14.0       PF  30.0    7-0   240.0         Colorado State   4300000.0\n",
      "366            Nikola Vucevic           Orlando Magic     9.0        C  25.0    7-0   260.0                    USC  11250000.0\n",
      "367               C.J. Watson           Orlando Magic    32.0       PG  32.0    6-2   175.0              Tennessee   5000000.0\n",
      "368             Alan Anderson      Washington Wizards     6.0       SG  33.0    6-6   220.0         Michigan State   4000000.0\n",
      "369              Bradley Beal      Washington Wizards     3.0       SG  22.0    6-5   207.0                Florida   5694674.0\n",
      "370              Jared Dudley      Washington Wizards     1.0       SF  30.0    6-7   225.0         Boston College   4375000.0\n",
      "371              Jarell Eddie      Washington Wizards     8.0       SG  24.0    6-7   218.0          Virginia Tech    561716.0\n",
      "372               Drew Gooden      Washington Wizards    90.0       PF  34.0   6-10   250.0                 Kansas   3300000.0\n",
      "373             Marcin Gortat      Washington Wizards    13.0        C  32.0   6-11   240.0                    NaN  11217391.0\n",
      "374                JJ Hickson      Washington Wizards    21.0        C  27.0    6-9   242.0   North Carolina State    273038.0\n",
      "375              Nene Hilario      Washington Wizards    42.0        C  33.0   6-11   250.0                    NaN  13000000.0\n",
      "376           Markieff Morris      Washington Wizards     5.0       PF  26.0   6-10   245.0                 Kansas   8000000.0\n",
      "377           Kelly Oubre Jr.      Washington Wizards    12.0       SF  20.0    6-7   205.0                 Kansas   1920240.0\n",
      "378           Otto Porter Jr.      Washington Wizards    22.0       SF  23.0    6-8   198.0             Georgetown   4662960.0\n",
      "379            Ramon Sessions      Washington Wizards     7.0       PG  30.0    6-3   190.0                 Nevada   2170465.0\n",
      "380            Garrett Temple      Washington Wizards    17.0       SG  30.0    6-6   195.0                    LSU   1100602.0\n",
      "381           Marcus Thornton      Washington Wizards    15.0       SF  29.0    6-4   205.0                    LSU    200600.0\n",
      "382                 John Wall      Washington Wizards     2.0       PG  25.0    6-4   195.0               Kentucky  15851950.0\n",
      "383            Darrell Arthur          Denver Nuggets     0.0       PF  28.0    6-9   235.0                 Kansas   2814000.0\n",
      "384             D.J. Augustin          Denver Nuggets    12.0       PG  28.0    6-0   183.0                  Texas   3000000.0\n",
      "385               Will Barton          Denver Nuggets     5.0       SF  25.0    6-6   175.0                Memphis   3533333.0\n",
      "386           Wilson Chandler          Denver Nuggets    21.0       SF  29.0    6-8   225.0                 DePaul  10449438.0\n",
      "387            Kenneth Faried          Denver Nuggets    35.0       PF  26.0    6-8   228.0         Morehead State  11235955.0\n",
      "388          Danilo Gallinari          Denver Nuggets     8.0       SF  27.0   6-10   225.0                    NaN  14000000.0\n",
      "389               Gary Harris          Denver Nuggets    14.0       SG  21.0    6-4   210.0         Michigan State   1584480.0\n",
      "390              Nikola Jokic          Denver Nuggets    15.0        C  21.0   6-10   250.0                    NaN   1300000.0\n",
      "391         Joffrey Lauvergne          Denver Nuggets    77.0        C  24.0   6-11   220.0                    NaN   1709719.0\n",
      "392               Mike Miller          Denver Nuggets     3.0       SG  36.0    6-8   218.0                Florida    947276.0\n",
      "393           Emmanuel Mudiay          Denver Nuggets     0.0       PG  20.0    6-5   200.0                    NaN   3102240.0\n",
      "394             Jameer Nelson          Denver Nuggets     1.0       PG  34.0    6-0   190.0         Saint Joseph's   4345000.0\n",
      "395              Jusuf Nurkic          Denver Nuggets    23.0        C  21.0    7-0   280.0                    NaN   1842000.0\n",
      "396            JaKarr Sampson          Denver Nuggets     9.0       SG  23.0    6-9   214.0             St. John's    258489.0\n",
      "397              Axel Toupane          Denver Nuggets     6.0       SG  23.0    6-7   210.0                    NaN         NaN\n",
      "398           Nemanja Bjelica  Minnesota Timberwolves    88.0       PF  28.0   6-10   240.0                    NaN   3950001.0\n",
      "399              Gorgui Dieng  Minnesota Timberwolves     5.0        C  26.0   6-11   241.0             Louisville   1474440.0\n",
      "400             Kevin Garnett  Minnesota Timberwolves    21.0       PF  40.0   6-11   240.0                    NaN   8500000.0\n",
      "401                Tyus Jones  Minnesota Timberwolves     1.0       PG  20.0    6-2   195.0                   Duke   1282080.0\n",
      "402               Zach LaVine  Minnesota Timberwolves     8.0       PG  21.0    6-5   189.0                   UCLA   2148360.0\n",
      "403          Shabazz Muhammad  Minnesota Timberwolves    15.0       SF  23.0    6-6   223.0                   UCLA   2056920.0\n",
      "404             Adreian Payne  Minnesota Timberwolves    33.0       PF  25.0   6-10   237.0         Michigan State   1938840.0\n",
      "405            Nikola Pekovic  Minnesota Timberwolves    14.0        C  30.0   6-11   307.0                    NaN  12100000.0\n",
      "406           Tayshaun Prince  Minnesota Timberwolves    12.0       SF  36.0    6-9   212.0               Kentucky    947276.0\n",
      "407               Ricky Rubio  Minnesota Timberwolves     9.0       PG  25.0    6-4   194.0                    NaN  12700000.0\n",
      "408              Damjan Rudez  Minnesota Timberwolves    10.0       SF  29.0    6-9   230.0                    NaN   1149500.0\n",
      "409                Greg Smith  Minnesota Timberwolves     4.0       PF  25.0   6-10   250.0           Fresno State         NaN\n",
      "410        Karl-Anthony Towns  Minnesota Timberwolves    32.0        C  20.0    7-0   244.0               Kentucky   5703600.0\n",
      "411            Andrew Wiggins  Minnesota Timberwolves    22.0       SG  21.0    6-8   199.0                 Kansas   5758680.0\n",
      "412              Steven Adams   Oklahoma City Thunder    12.0        C  22.0    7-0   255.0             Pittsburgh   2279040.0\n",
      "413             Nick Collison   Oklahoma City Thunder     4.0       PF  35.0   6-10   255.0                 Kansas   3750000.0\n",
      "414              Kevin Durant   Oklahoma City Thunder    35.0       SF  27.0    6-9   240.0                  Texas  20158622.0\n",
      "415                Randy Foye   Oklahoma City Thunder     6.0       SG  32.0    6-4   213.0              Villanova   3135000.0\n",
      "416              Josh Huestis   Oklahoma City Thunder    34.0       SF  24.0    6-7   230.0               Stanford   1140240.0\n",
      "417               Serge Ibaka   Oklahoma City Thunder     9.0       PF  26.0   6-10   245.0                    NaN  12250000.0\n",
      "418               Enes Kanter   Oklahoma City Thunder    11.0        C  24.0   6-11   245.0               Kentucky  16407500.0\n",
      "419              Mitch McGary   Oklahoma City Thunder    33.0       PF  24.0   6-10   255.0               Michigan   1463040.0\n",
      "420             Nazr Mohammed   Oklahoma City Thunder    13.0        C  38.0   6-10   250.0               Kentucky    222888.0\n",
      "421            Anthony Morrow   Oklahoma City Thunder     2.0       SG  30.0    6-5   210.0           Georgia Tech   3344000.0\n",
      "422             Cameron Payne   Oklahoma City Thunder    22.0       PG  21.0    6-3   185.0           Murray State   2021520.0\n",
      "423            Andre Roberson   Oklahoma City Thunder    21.0       SG  24.0    6-7   210.0               Colorado   1210800.0\n",
      "424              Kyle Singler   Oklahoma City Thunder     5.0       SF  28.0    6-8   228.0                   Duke   4500000.0\n",
      "425              Dion Waiters   Oklahoma City Thunder     3.0       SG  24.0    6-4   220.0               Syracuse   5138430.0\n",
      "426         Russell Westbrook   Oklahoma City Thunder     0.0       PG  27.0    6-3   200.0                   UCLA  16744218.0\n",
      "427           Cliff Alexander  Portland Trail Blazers    34.0       PF  20.0    6-8   240.0                 Kansas    525093.0\n",
      "428           Al-Farouq Aminu  Portland Trail Blazers     8.0       SF  25.0    6-9   215.0            Wake Forest   8042895.0\n",
      "429           Pat Connaughton  Portland Trail Blazers     5.0       SG  23.0    6-5   206.0             Notre Dame    625093.0\n",
      "430              Allen Crabbe  Portland Trail Blazers    23.0       SG  24.0    6-6   210.0             California    947276.0\n",
      "431                  Ed Davis  Portland Trail Blazers    17.0        C  27.0   6-10   240.0         North Carolina   6980802.0\n",
      "432          Maurice Harkless  Portland Trail Blazers     4.0       SF  23.0    6-9   215.0             St. John's   2894059.0\n",
      "433          Gerald Henderson  Portland Trail Blazers     9.0       SG  28.0    6-5   215.0                   Duke   6000000.0\n",
      "434               Chris Kaman  Portland Trail Blazers    35.0        C  34.0    7-0   265.0       Central Michigan   5016000.0\n",
      "435            Meyers Leonard  Portland Trail Blazers    11.0       PF  24.0    7-1   245.0               Illinois   3075880.0\n",
      "436            Damian Lillard  Portland Trail Blazers     0.0       PG  25.0    6-3   195.0            Weber State   4236287.0\n",
      "437             C.J. McCollum  Portland Trail Blazers     3.0       SG  24.0    6-4   200.0                 Lehigh   2525160.0\n",
      "438              Luis Montero  Portland Trail Blazers    44.0       SG  23.0    6-7   185.0         Westchester CC    525093.0\n",
      "439             Mason Plumlee  Portland Trail Blazers    24.0        C  26.0   6-11   235.0                   Duke   1415520.0\n",
      "440             Brian Roberts  Portland Trail Blazers     2.0       PG  30.0    6-1   173.0                 Dayton   2854940.0\n",
      "441               Noah Vonleh  Portland Trail Blazers    21.0       PF  20.0    6-9   240.0                Indiana   2637720.0\n",
      "442             Trevor Booker               Utah Jazz    33.0       PF  28.0    6-8   228.0                Clemson   4775000.0\n",
      "443                Trey Burke               Utah Jazz     3.0       PG  23.0    6-1   191.0               Michigan   2658240.0\n",
      "444                Alec Burks               Utah Jazz    10.0       SG  24.0    6-6   214.0               Colorado   9463484.0\n",
      "445                Dante Exum               Utah Jazz    11.0       PG  20.0    6-6   190.0                    NaN   3777720.0\n",
      "446            Derrick Favors               Utah Jazz    15.0       PF  24.0   6-10   265.0           Georgia Tech  12000000.0\n",
      "447               Rudy Gobert               Utah Jazz    27.0        C  23.0    7-1   245.0                    NaN   1175880.0\n",
      "448            Gordon Hayward               Utah Jazz    20.0       SF  26.0    6-8   226.0                 Butler  15409570.0\n",
      "449               Rodney Hood               Utah Jazz     5.0       SG  23.0    6-8   206.0                   Duke   1348440.0\n",
      "450                Joe Ingles               Utah Jazz     2.0       SF  28.0    6-8   226.0                    NaN   2050000.0\n",
      "451             Chris Johnson               Utah Jazz    23.0       SF  26.0    6-6   206.0                 Dayton    981348.0\n",
      "452                Trey Lyles               Utah Jazz    41.0       PF  20.0   6-10   234.0               Kentucky   2239800.0\n",
      "453              Shelvin Mack               Utah Jazz     8.0       PG  26.0    6-3   203.0                 Butler   2433333.0\n",
      "454                 Raul Neto               Utah Jazz    25.0       PG  24.0    6-1   179.0                    NaN    900000.0\n",
      "455              Tibor Pleiss               Utah Jazz    21.0        C  26.0    7-3   256.0                    NaN   2900000.0\n",
      "456               Jeff Withey               Utah Jazz    24.0        C  26.0    7-0   231.0                 Kansas    947276.0\n",
      "457                       NaN                     NaN     NaN      NaN   NaN    NaN     NaN                    NaN         NaN\n"
     ]
    }
   ],
   "source": [
    "import pandas as pd\n",
    "\n",
    "df = pd.read_csv(\"./file/nba.csv\")\n",
    "print(df.to_string())"
   ]
  },
  {
   "cell_type": "markdown",
   "id": "37039936-57a4-4bdf-831d-b745275123f1",
   "metadata": {},
   "source": [
    "## to_csv()方法将DataFrame存储为csv文件"
   ]
  },
  {
   "cell_type": "code",
   "execution_count": 17,
   "id": "aeeaa2f1-c6ae-43f3-be73-328f536c22ad",
   "metadata": {
    "execution": {
     "iopub.execute_input": "2023-03-01T00:39:47.416848Z",
     "iopub.status.busy": "2023-03-01T00:39:47.416545Z",
     "iopub.status.idle": "2023-03-01T00:39:47.445796Z",
     "shell.execute_reply": "2023-03-01T00:39:47.444860Z",
     "shell.execute_reply.started": "2023-03-01T00:39:47.416819Z"
    },
    "tags": []
   },
   "outputs": [
    {
     "name": "stdout",
     "output_type": "stream",
     "text": [
      "     name            site  age\n",
      "0  Google  www.google.com   12\n",
      "1   Baidu   www.baidu.com   34\n",
      "2    Bing    www.bing.com   56\n"
     ]
    }
   ],
   "source": [
    "name = [\"Google\", \"Baidu\", \"Bing\"]\n",
    "site = [\"www.google.com\", \"www.baidu.com\", \"www.bing.com\"]\n",
    "age = [12, 34, 56]\n",
    "\n",
    "# 字典\n",
    "dict1 = {\"name\": name, \"site\": site, \"age\": age}\n",
    "\n",
    "df = pd.DataFrame(dict1)\n",
    "print(df)\n",
    "\n",
    "# 保存dataframe\n",
    "df.to_csv(\"./file/site.csv\")"
   ]
  },
  {
   "cell_type": "markdown",
   "id": "c5ceaff4-68eb-49bd-8464-a68997ab4bea",
   "metadata": {},
   "source": [
    "## 数据处理"
   ]
  },
  {
   "cell_type": "markdown",
   "id": "5ff54a69-065a-4d54-888a-40f318d089ed",
   "metadata": {},
   "source": [
    "### head()\n",
    "\n",
    "head(n)方法用于读取前面的n行，如果不填参数n，默认返回5行"
   ]
  },
  {
   "cell_type": "code",
   "execution_count": 18,
   "id": "457e016d-1cea-4994-bf60-89b14343687a",
   "metadata": {
    "execution": {
     "iopub.execute_input": "2023-03-01T00:39:47.447644Z",
     "iopub.status.busy": "2023-03-01T00:39:47.447287Z",
     "iopub.status.idle": "2023-03-01T00:39:47.460517Z",
     "shell.execute_reply": "2023-03-01T00:39:47.459820Z",
     "shell.execute_reply.started": "2023-03-01T00:39:47.447610Z"
    },
    "tags": []
   },
   "outputs": [
    {
     "name": "stdout",
     "output_type": "stream",
     "text": [
      "            Name            Team  Number Position   Age Height  Weight  \\\n",
      "0  Avery Bradley  Boston Celtics     0.0       PG  25.0    6-2   180.0   \n",
      "1    Jae Crowder  Boston Celtics    99.0       SF  25.0    6-6   235.0   \n",
      "2   John Holland  Boston Celtics    30.0       SG  27.0    6-5   205.0   \n",
      "3    R.J. Hunter  Boston Celtics    28.0       SG  22.0    6-5   185.0   \n",
      "4  Jonas Jerebko  Boston Celtics     8.0       PF  29.0   6-10   231.0   \n",
      "\n",
      "             College     Salary  \n",
      "0              Texas  7730337.0  \n",
      "1          Marquette  6796117.0  \n",
      "2  Boston University        NaN  \n",
      "3      Georgia State  1148640.0  \n",
      "4                NaN  5000000.0  \n"
     ]
    }
   ],
   "source": [
    "import pandas as pd\n",
    "\n",
    "df = pd.read_csv(\"./file/nba.csv\")\n",
    "print(df.head())"
   ]
  },
  {
   "cell_type": "code",
   "execution_count": 19,
   "id": "65cfe092-b405-4f74-8d9b-34ac38ea8dda",
   "metadata": {
    "execution": {
     "iopub.execute_input": "2023-03-01T00:39:47.463429Z",
     "iopub.status.busy": "2023-03-01T00:39:47.462733Z",
     "iopub.status.idle": "2023-03-01T00:39:47.472100Z",
     "shell.execute_reply": "2023-03-01T00:39:47.471279Z",
     "shell.execute_reply.started": "2023-03-01T00:39:47.463404Z"
    },
    "scrolled": true,
    "tags": []
   },
   "outputs": [
    {
     "name": "stdout",
     "output_type": "stream",
     "text": [
      "            Name            Team  Number Position   Age Height  Weight  \\\n",
      "0  Avery Bradley  Boston Celtics     0.0       PG  25.0    6-2   180.0   \n",
      "1    Jae Crowder  Boston Celtics    99.0       SF  25.0    6-6   235.0   \n",
      "2   John Holland  Boston Celtics    30.0       SG  27.0    6-5   205.0   \n",
      "3    R.J. Hunter  Boston Celtics    28.0       SG  22.0    6-5   185.0   \n",
      "4  Jonas Jerebko  Boston Celtics     8.0       PF  29.0   6-10   231.0   \n",
      "5   Amir Johnson  Boston Celtics    90.0       PF  29.0    6-9   240.0   \n",
      "6  Jordan Mickey  Boston Celtics    55.0       PF  21.0    6-8   235.0   \n",
      "7   Kelly Olynyk  Boston Celtics    41.0        C  25.0    7-0   238.0   \n",
      "8   Terry Rozier  Boston Celtics    12.0       PG  22.0    6-2   190.0   \n",
      "9   Marcus Smart  Boston Celtics    36.0       PG  22.0    6-4   220.0   \n",
      "\n",
      "             College      Salary  \n",
      "0              Texas   7730337.0  \n",
      "1          Marquette   6796117.0  \n",
      "2  Boston University         NaN  \n",
      "3      Georgia State   1148640.0  \n",
      "4                NaN   5000000.0  \n",
      "5                NaN  12000000.0  \n",
      "6                LSU   1170960.0  \n",
      "7            Gonzaga   2165160.0  \n",
      "8         Louisville   1824360.0  \n",
      "9     Oklahoma State   3431040.0  \n"
     ]
    }
   ],
   "source": [
    "print(df.head(10))"
   ]
  },
  {
   "cell_type": "markdown",
   "id": "1af0392f-b5a8-4025-831b-db176cbdc9d6",
   "metadata": {},
   "source": [
    "### tail()\n",
    "\n",
    "tail(n) 读取尾部n行，如果不填，默认读取尾部5行，空行各个字段的值默认返回NaN"
   ]
  },
  {
   "cell_type": "code",
   "execution_count": 20,
   "id": "82f1c8ec-dc20-4d83-9132-addc13b84ec0",
   "metadata": {
    "execution": {
     "iopub.execute_input": "2023-03-01T00:39:47.473756Z",
     "iopub.status.busy": "2023-03-01T00:39:47.473366Z",
     "iopub.status.idle": "2023-03-01T00:39:47.484298Z",
     "shell.execute_reply": "2023-03-01T00:39:47.483473Z",
     "shell.execute_reply.started": "2023-03-01T00:39:47.473710Z"
    }
   },
   "outputs": [
    {
     "name": "stdout",
     "output_type": "stream",
     "text": [
      "             Name       Team  Number Position   Age Height  Weight College  \\\n",
      "453  Shelvin Mack  Utah Jazz     8.0       PG  26.0    6-3   203.0  Butler   \n",
      "454     Raul Neto  Utah Jazz    25.0       PG  24.0    6-1   179.0     NaN   \n",
      "455  Tibor Pleiss  Utah Jazz    21.0        C  26.0    7-3   256.0     NaN   \n",
      "456   Jeff Withey  Utah Jazz    24.0        C  26.0    7-0   231.0  Kansas   \n",
      "457           NaN        NaN     NaN      NaN   NaN    NaN     NaN     NaN   \n",
      "\n",
      "        Salary  \n",
      "453  2433333.0  \n",
      "454   900000.0  \n",
      "455  2900000.0  \n",
      "456   947276.0  \n",
      "457        NaN  \n"
     ]
    }
   ],
   "source": [
    "print(df.tail())"
   ]
  },
  {
   "cell_type": "code",
   "execution_count": 21,
   "id": "c1d6fcc0-3544-43cb-9e66-0c9e68d69a24",
   "metadata": {
    "execution": {
     "iopub.execute_input": "2023-03-01T00:39:47.485870Z",
     "iopub.status.busy": "2023-03-01T00:39:47.485378Z",
     "iopub.status.idle": "2023-03-01T00:39:47.496217Z",
     "shell.execute_reply": "2023-03-01T00:39:47.495395Z",
     "shell.execute_reply.started": "2023-03-01T00:39:47.485839Z"
    }
   },
   "outputs": [
    {
     "name": "stdout",
     "output_type": "stream",
     "text": [
      "              Name       Team  Number Position   Age Height  Weight   College  \\\n",
      "451  Chris Johnson  Utah Jazz    23.0       SF  26.0    6-6   206.0    Dayton   \n",
      "452     Trey Lyles  Utah Jazz    41.0       PF  20.0   6-10   234.0  Kentucky   \n",
      "453   Shelvin Mack  Utah Jazz     8.0       PG  26.0    6-3   203.0    Butler   \n",
      "454      Raul Neto  Utah Jazz    25.0       PG  24.0    6-1   179.0       NaN   \n",
      "455   Tibor Pleiss  Utah Jazz    21.0        C  26.0    7-3   256.0       NaN   \n",
      "456    Jeff Withey  Utah Jazz    24.0        C  26.0    7-0   231.0    Kansas   \n",
      "457            NaN        NaN     NaN      NaN   NaN    NaN     NaN       NaN   \n",
      "\n",
      "        Salary  \n",
      "451   981348.0  \n",
      "452  2239800.0  \n",
      "453  2433333.0  \n",
      "454   900000.0  \n",
      "455  2900000.0  \n",
      "456   947276.0  \n",
      "457        NaN  \n"
     ]
    }
   ],
   "source": [
    "print(df.tail(7))"
   ]
  },
  {
   "cell_type": "markdown",
   "id": "1f37dc04-f694-4f4d-9f76-248d95d08d67",
   "metadata": {},
   "source": [
    "### info()\n",
    "\n",
    "info()返回表格的一些基本信息"
   ]
  },
  {
   "cell_type": "code",
   "execution_count": 22,
   "id": "5df92655-b628-44ab-a676-7cceb3e6e1cd",
   "metadata": {
    "execution": {
     "iopub.execute_input": "2023-03-01T00:39:47.502363Z",
     "iopub.status.busy": "2023-03-01T00:39:47.502137Z",
     "iopub.status.idle": "2023-03-01T00:39:47.516976Z",
     "shell.execute_reply": "2023-03-01T00:39:47.516150Z",
     "shell.execute_reply.started": "2023-03-01T00:39:47.502342Z"
    },
    "tags": []
   },
   "outputs": [
    {
     "name": "stdout",
     "output_type": "stream",
     "text": [
      "<class 'pandas.core.frame.DataFrame'>\n",
      "RangeIndex: 458 entries, 0 to 457\n",
      "Data columns (total 9 columns):\n",
      " #   Column    Non-Null Count  Dtype  \n",
      "---  ------    --------------  -----  \n",
      " 0   Name      457 non-null    object \n",
      " 1   Team      457 non-null    object \n",
      " 2   Number    457 non-null    float64\n",
      " 3   Position  457 non-null    object \n",
      " 4   Age       457 non-null    float64\n",
      " 5   Height    457 non-null    object \n",
      " 6   Weight    457 non-null    float64\n",
      " 7   College   373 non-null    object \n",
      " 8   Salary    446 non-null    float64\n",
      "dtypes: float64(4), object(5)\n",
      "memory usage: 32.3+ KB\n",
      "None\n"
     ]
    }
   ],
   "source": [
    "print(df.info())"
   ]
  },
  {
   "cell_type": "markdown",
   "id": "8596b53e-47bf-48bb-935c-31f9534d436b",
   "metadata": {},
   "source": [
    "# Pandas Json\n",
    "\n",
    "JSON(JavaScript Object Notation,JavaScript对象表示法)，是存储和交换文本信息的语法，类型XML。"
   ]
  },
  {
   "cell_type": "code",
   "execution_count": 23,
   "id": "32237edd-abf9-4e59-b161-80eed44a908d",
   "metadata": {
    "execution": {
     "iopub.execute_input": "2023-03-01T00:39:47.518864Z",
     "iopub.status.busy": "2023-03-01T00:39:47.518296Z",
     "iopub.status.idle": "2023-03-01T00:39:47.535539Z",
     "shell.execute_reply": "2023-03-01T00:39:47.534713Z",
     "shell.execute_reply.started": "2023-03-01T00:39:47.518833Z"
    }
   },
   "outputs": [
    {
     "name": "stdout",
     "output_type": "stream",
     "text": [
      "     id    name             url  likes\n",
      "0  A001    菜鸟教程  www.runoob.com     61\n",
      "1  A002  Google  www.google.com    124\n",
      "2  A003      淘宝  www.taobao.com     45\n"
     ]
    }
   ],
   "source": [
    "import pandas as pd\n",
    "\n",
    "df = pd.read_json(\"./file/sites.json\")\n",
    "\n",
    "# to_string()用于返回DataFrame类型的数据\n",
    "print(df.to_string())"
   ]
  },
  {
   "cell_type": "code",
   "execution_count": 24,
   "id": "d9e0e9a2-f7c5-4446-870a-f2bd1f8e8cac",
   "metadata": {
    "execution": {
     "iopub.execute_input": "2023-03-01T00:39:47.537263Z",
     "iopub.status.busy": "2023-03-01T00:39:47.536960Z",
     "iopub.status.idle": "2023-03-01T00:39:47.545342Z",
     "shell.execute_reply": "2023-03-01T00:39:47.544541Z",
     "shell.execute_reply.started": "2023-03-01T00:39:47.537233Z"
    }
   },
   "outputs": [
    {
     "name": "stdout",
     "output_type": "stream",
     "text": [
      "     id    name             url  likes\n",
      "0  A001    菜鸟教程  www.runoob.com     61\n",
      "1  A002  Google  www.google.com    124\n",
      "2  A003      淘宝  www.taobao.com     45\n"
     ]
    }
   ],
   "source": [
    "# to_string()用于返回DataFrame类型的数据，也可以直接处理json类型的数据\n",
    "\n",
    "data = [\n",
    "    {\"id\": \"A001\", \"name\": \"菜鸟教程\", \"url\": \"www.runoob.com\", \"likes\": 61},\n",
    "    {\"id\": \"A002\", \"name\": \"Google\", \"url\": \"www.google.com\", \"likes\": 124},\n",
    "    {\"id\": \"A003\", \"name\": \"淘宝\", \"url\": \"www.taobao.com\", \"likes\": 45},\n",
    "]\n",
    "df = pd.DataFrame(data)\n",
    "print(df)"
   ]
  },
  {
   "cell_type": "code",
   "execution_count": 25,
   "id": "d844c381-8fc4-4f23-8e26-b3c99b890ede",
   "metadata": {
    "execution": {
     "iopub.execute_input": "2023-03-01T00:39:47.547096Z",
     "iopub.status.busy": "2023-03-01T00:39:47.546759Z",
     "iopub.status.idle": "2023-03-01T00:39:47.559037Z",
     "shell.execute_reply": "2023-03-01T00:39:47.558095Z",
     "shell.execute_reply.started": "2023-03-01T00:39:47.547066Z"
    }
   },
   "outputs": [
    {
     "name": "stdout",
     "output_type": "stream",
     "text": [
      "       col1 col2\n",
      "row1    1.0    x\n",
      "row2    2.0    y\n",
      "row3    3.0  NaN\n",
      "row33   NaN    z\n"
     ]
    }
   ],
   "source": [
    "# JSON对象与Python字典具有相同的格式，可以直接将Python字典转化为DataFrame数据\n",
    "s = {\n",
    "    \"col1\": {\"row1\": 1, \"row2\": 2, \"row3\": 3},\n",
    "    \"col2\": {\"row1\": \"x\", \"row2\": \"y\", \"row33\": \"z\"},\n",
    "}\n",
    "\n",
    "# 读取JSON转化为DataFrame\n",
    "print(pd.DataFrame(s))"
   ]
  },
  {
   "cell_type": "code",
   "execution_count": 26,
   "id": "4d58f9bf-555a-4c94-b4ae-eee4a9891939",
   "metadata": {
    "execution": {
     "iopub.execute_input": "2023-03-01T00:39:47.562238Z",
     "iopub.status.busy": "2023-03-01T00:39:47.560026Z",
     "iopub.status.idle": "2023-03-01T00:39:47.672447Z",
     "shell.execute_reply": "2023-03-01T00:39:47.671582Z",
     "shell.execute_reply.started": "2023-03-01T00:39:47.562207Z"
    }
   },
   "outputs": [
    {
     "name": "stdout",
     "output_type": "stream",
     "text": [
      "     id    name             url  likes\n",
      "0  A001    菜鸟教程  www.runoob.com     61\n",
      "1  A002  Google  www.google.com    124\n",
      "2  A003      淘宝  www.taobao.com     45\n"
     ]
    }
   ],
   "source": [
    "# 从URL中读取JSON数据\n",
    "url = \"https://static.runoob.com/download/sites.json\"\n",
    "print(pd.read_json(url))"
   ]
  },
  {
   "cell_type": "markdown",
   "id": "74ab51c1-4597-4940-90a9-883c5c635af1",
   "metadata": {},
   "source": [
    "## 内嵌的JSON数据"
   ]
  },
  {
   "cell_type": "code",
   "execution_count": 27,
   "id": "daca2a0b-8684-4e15-8a84-26f97c4444b6",
   "metadata": {
    "execution": {
     "iopub.execute_input": "2023-03-01T00:39:47.674261Z",
     "iopub.status.busy": "2023-03-01T00:39:47.673922Z",
     "iopub.status.idle": "2023-03-01T00:39:47.686074Z",
     "shell.execute_reply": "2023-03-01T00:39:47.685214Z",
     "shell.execute_reply.started": "2023-03-01T00:39:47.674228Z"
    }
   },
   "outputs": [
    {
     "name": "stdout",
     "output_type": "stream",
     "text": [
      "          school_name   class  \\\n",
      "0  ABC primary school  Year 1   \n",
      "1  ABC primary school  Year 1   \n",
      "2  ABC primary school  Year 1   \n",
      "\n",
      "                                            students  \n",
      "0  {'id': 'A001', 'name': 'Tom', 'math': 60, 'phy...  \n",
      "1  {'id': 'A002', 'name': 'James', 'math': 89, 'p...  \n",
      "2  {'id': 'A003', 'name': 'Jenny', 'math': 79, 'p...  \n"
     ]
    }
   ],
   "source": [
    "df = pd.read_json(\"./file/nested_list.json\")\n",
    "print(df)"
   ]
  },
  {
   "cell_type": "code",
   "execution_count": 28,
   "id": "ae30bb14-a195-4fe8-b1b0-cabcc7ee0948",
   "metadata": {
    "execution": {
     "iopub.execute_input": "2023-03-01T00:39:47.687740Z",
     "iopub.status.busy": "2023-03-01T00:39:47.687443Z",
     "iopub.status.idle": "2023-03-01T00:39:47.696120Z",
     "shell.execute_reply": "2023-03-01T00:39:47.695325Z",
     "shell.execute_reply.started": "2023-03-01T00:39:47.687708Z"
    },
    "tags": []
   },
   "outputs": [
    {
     "name": "stdout",
     "output_type": "stream",
     "text": [
      "     id   name  math  physics  chemistry\n",
      "0  A001    Tom    60       66         61\n",
      "1  A002  James    89       76         51\n",
      "2  A003  Jenny    79       90         78\n"
     ]
    }
   ],
   "source": [
    "# 使用json_normalize()方法将内嵌的数据完整的解析处理\n",
    "import json\n",
    "\n",
    "with open(\"./file/nested_list.json\") as f:\n",
    "    data = json.loads(f.read())\n",
    "\n",
    "# 展平数据\n",
    "df = pd.json_normalize(data, record_path=[\"students\"])\n",
    "print(df)\n",
    "\n",
    "# data = json.loads(f.read())使用Python JSON模块载入数据\n",
    "# json_normalize()使用了参数recoard_path并设置为['students']用于展开内嵌的JSON数据students,"
   ]
  },
  {
   "cell_type": "code",
   "execution_count": 29,
   "id": "de990ea4-ad55-4a0c-b1bd-3b339ee56369",
   "metadata": {
    "execution": {
     "iopub.execute_input": "2023-03-01T00:39:47.698097Z",
     "iopub.status.busy": "2023-03-01T00:39:47.697693Z",
     "iopub.status.idle": "2023-03-01T00:39:47.707342Z",
     "shell.execute_reply": "2023-03-01T00:39:47.706460Z",
     "shell.execute_reply.started": "2023-03-01T00:39:47.698065Z"
    },
    "tags": []
   },
   "outputs": [
    {
     "name": "stdout",
     "output_type": "stream",
     "text": [
      "     id   name  math  physics  chemistry         school_name   class\n",
      "0  A001    Tom    60       66         61  ABC primary school  Year 1\n",
      "1  A002  James    89       76         51  ABC primary school  Year 1\n",
      "2  A003  Jenny    79       90         78  ABC primary school  Year 1\n"
     ]
    }
   ],
   "source": [
    "# # json_normalize()使用了参数recoard_path并设置为['students']用于展开内嵌的JSON数据students，显示结果还没有包含school_name和class元素，如果需要展示出来，可以使用meta参数来显示这些元数据\n",
    "\n",
    "df = pd.json_normalize(data, record_path=[\"students\"], meta=[\"school_name\", \"class\"])\n",
    "print(df)"
   ]
  },
  {
   "cell_type": "markdown",
   "id": "355df72d-7443-41f1-b539-34b79747d71a",
   "metadata": {},
   "source": [
    "## 复杂JSON数据"
   ]
  },
  {
   "cell_type": "code",
   "execution_count": 30,
   "id": "8361371d-e80f-470c-83a8-521606cd5643",
   "metadata": {
    "execution": {
     "iopub.execute_input": "2023-03-01T00:39:47.709030Z",
     "iopub.status.busy": "2023-03-01T00:39:47.708502Z",
     "iopub.status.idle": "2023-03-01T00:39:47.719538Z",
     "shell.execute_reply": "2023-03-01T00:39:47.718790Z",
     "shell.execute_reply.started": "2023-03-01T00:39:47.708998Z"
    },
    "tags": []
   },
   "outputs": [
    {
     "name": "stdout",
     "output_type": "stream",
     "text": [
      "     id   name  math  physics  chemistry   class info.president  \\\n",
      "0  A001    Tom    60       66         61  Year 1    John Kasich   \n",
      "1  A002  James    89       76         51  Year 1    John Kasich   \n",
      "2  A003  Jenny    79       90         78  Year 1    John Kasich   \n",
      "\n",
      "  info.contacts.tel  \n",
      "0         123456789  \n",
      "1         123456789  \n",
      "2         123456789  \n"
     ]
    }
   ],
   "source": [
    "import json\n",
    "\n",
    "import pandas as pd\n",
    "\n",
    "# 使用Python Json模块载入数据\n",
    "with open(\"./file/nested_mix.json\", \"r\") as f:\n",
    "    data = json.loads(f.read())\n",
    "\n",
    "df = pd.json_normalize(\n",
    "    data,\n",
    "    record_path=[\"students\"],\n",
    "    meta=[\"class\", [\"info\", \"president\"], [\"info\", \"contacts\", \"tel\"]],\n",
    ")\n",
    "\n",
    "print(df)"
   ]
  },
  {
   "cell_type": "code",
   "execution_count": 31,
   "id": "134dc677-3e0a-4324-b777-f1ede974a71b",
   "metadata": {
    "execution": {
     "iopub.execute_input": "2023-03-01T00:39:47.721203Z",
     "iopub.status.busy": "2023-03-01T00:39:47.720705Z",
     "iopub.status.idle": "2023-03-01T00:39:47.724421Z",
     "shell.execute_reply": "2023-03-01T00:39:47.723615Z",
     "shell.execute_reply.started": "2023-03-01T00:39:47.721172Z"
    },
    "tags": []
   },
   "outputs": [],
   "source": [
    "# 读取内嵌数据中的一组数据\n",
    "# 使用glom模块来处理数据嵌套，glom模块允许我们使用 . 来访问内嵌对象的属性（使用pip install glom安装）"
   ]
  },
  {
   "cell_type": "code",
   "execution_count": 32,
   "id": "99923470-a534-46a1-be8a-7eb08ee63d93",
   "metadata": {
    "execution": {
     "iopub.execute_input": "2023-03-01T00:39:47.726123Z",
     "iopub.status.busy": "2023-03-01T00:39:47.725626Z",
     "iopub.status.idle": "2023-03-01T00:39:47.830989Z",
     "shell.execute_reply": "2023-03-01T00:39:47.830067Z",
     "shell.execute_reply.started": "2023-03-01T00:39:47.726092Z"
    },
    "tags": []
   },
   "outputs": [
    {
     "name": "stdout",
     "output_type": "stream",
     "text": [
      "0    60\n",
      "1    89\n",
      "2    79\n",
      "Name: students, dtype: int64\n"
     ]
    }
   ],
   "source": [
    "import pandas as pd\n",
    "from glom import glom\n",
    "\n",
    "df = pd.read_json(\"./file/nested_deep.json\")\n",
    "data = df[\"students\"].apply(lambda row: glom(row, \"grade.math\"))\n",
    "print(data)"
   ]
  },
  {
   "cell_type": "code",
   "execution_count": 33,
   "id": "7ff4733e-f0e1-46b6-b138-002e6ec81f92",
   "metadata": {
    "execution": {
     "iopub.execute_input": "2023-03-01T00:39:47.832771Z",
     "iopub.status.busy": "2023-03-01T00:39:47.832283Z",
     "iopub.status.idle": "2023-03-01T00:39:47.843073Z",
     "shell.execute_reply": "2023-03-01T00:39:47.842270Z",
     "shell.execute_reply.started": "2023-03-01T00:39:47.832736Z"
    },
    "tags": []
   },
   "outputs": [
    {
     "name": "stdout",
     "output_type": "stream",
     "text": [
      "     id   name  grade.math  grade.physics  grade.chemistry  \\\n",
      "0  A001    Tom          60             66               61   \n",
      "1  A002  James          89             76               51   \n",
      "2  A003  Jenny          79             90               78   \n",
      "\n",
      "            school_name   class  \n",
      "0  local primary school  Year 1  \n",
      "1  local primary school  Year 1  \n",
      "2  local primary school  Year 1  \n"
     ]
    }
   ],
   "source": [
    "with open(\"./file/nested_deep.json\") as f:\n",
    "    data = json.loads(f.read())\n",
    "print(pd.json_normalize(data, record_path=[\"students\"], meta=[\"school_name\", \"class\"]))"
   ]
  },
  {
   "cell_type": "markdown",
   "id": "ad79ab1c-631e-4325-b4fa-7fa2f68e5567",
   "metadata": {},
   "source": [
    "# Pandas数据清洗\n",
    "\n",
    "数据清洗是针对一些没用的数据进行处理的过程，很多数据集存在数据缺失、格式错误、错误数据或重复数据的情况，如果要使数据分析更加准确，就需要处理\n",
    "\n",
    "常见的空数据有：\n",
    "\n",
    "+ n/a\n",
    "+ NA\n",
    "+ -\n",
    "+ na"
   ]
  },
  {
   "cell_type": "markdown",
   "id": "5e1fc26d-19c8-4b73-81aa-b3ed60be7970",
   "metadata": {},
   "source": [
    "## Pandas清洗空值\n",
    "\n",
    "如果要删除包含空字段的行，可以使用dropna()方法\n",
    "\n",
    "DataFrame.dropna(axix=0,how='any',thresh=None,subset=None,inplace=False)\n",
    "\n",
    "+ axis：默认为0，表示逢空值剔除整行，如果axis=1表示逢空值去掉整列\n",
    "+ how：默认为'any'，如果一行（或一列）里任何一个数据有出现NA就去掉整行，如果设置how='all'一行（或一列）都是NA才去掉这整行（整列）\n",
    "+ thresh：设置需要多少非空值的数据才可以保留下来\n",
    "+ subset：设置想要检查的列，如果是多个列，可以使用列名的list作为参数\n",
    "+ inplace：如果设置为True，将计算得到的值直接覆盖之前的值并返回为None，修改的是源数据"
   ]
  },
  {
   "cell_type": "code",
   "execution_count": 34,
   "id": "0f555cfe-d214-47bc-9567-fbbcd8a68865",
   "metadata": {
    "execution": {
     "iopub.execute_input": "2023-03-01T00:39:47.844694Z",
     "iopub.status.busy": "2023-03-01T00:39:47.844349Z",
     "iopub.status.idle": "2023-03-01T00:39:47.856368Z",
     "shell.execute_reply": "2023-03-01T00:39:47.855519Z",
     "shell.execute_reply.started": "2023-03-01T00:39:47.844663Z"
    },
    "tags": []
   },
   "outputs": [
    {
     "name": "stdout",
     "output_type": "stream",
     "text": [
      "           PID  ST_NUM     ST_NAME OWN_OCCUPIED NUM_BEDROOMS NUM_BATH SQ_FT\n",
      "0  100001000.0   104.0      PUTNAM            Y            3        1  1000\n",
      "1  100002000.0   197.0   LEXINGTON            N            3      1.5    --\n",
      "2  100003000.0     NaN   LEXINGTON            N          NaN        1   850\n",
      "3  100004000.0   201.0    BERKELEY           12            1      NaN   700\n",
      "4          NaN   203.0    BERKELEY            Y            3        2  1600\n",
      "5  100006000.0   207.0    BERKELEY            Y          NaN        1   800\n",
      "6  100007000.0     NaN  WASHINGTON          NaN            2   HURLEY   950\n",
      "7  100008000.0   213.0     TREMONT            Y            1        1   NaN\n",
      "8  100009000.0   215.0     TREMONT            Y           na        2  1800\n"
     ]
    }
   ],
   "source": [
    "# 通过isnull()判断各个单元格是否为空\n",
    "import pandas as pd\n",
    "\n",
    "df = pd.read_csv(\"./file/property-data.csv\")\n",
    "\n",
    "print(df.to_string())"
   ]
  },
  {
   "cell_type": "code",
   "execution_count": 35,
   "id": "84dddb32-7586-4d9a-b9b0-a5f39550eb8c",
   "metadata": {
    "execution": {
     "iopub.execute_input": "2023-03-01T00:39:47.857903Z",
     "iopub.status.busy": "2023-03-01T00:39:47.857481Z",
     "iopub.status.idle": "2023-03-01T00:39:47.863265Z",
     "shell.execute_reply": "2023-03-01T00:39:47.862411Z",
     "shell.execute_reply.started": "2023-03-01T00:39:47.857872Z"
    }
   },
   "outputs": [
    {
     "name": "stdout",
     "output_type": "stream",
     "text": [
      "0      3\n",
      "1      3\n",
      "2    NaN\n",
      "3      1\n",
      "4      3\n",
      "5    NaN\n",
      "6      2\n",
      "7      1\n",
      "8     na\n",
      "Name: NUM_BEDROOMS, dtype: object\n"
     ]
    }
   ],
   "source": [
    "print(df[\"NUM_BEDROOMS\"])"
   ]
  },
  {
   "cell_type": "code",
   "execution_count": 36,
   "id": "54a1abca-02b2-40b3-aed7-72c1ebb0e8d4",
   "metadata": {
    "execution": {
     "iopub.execute_input": "2023-03-01T00:39:47.864891Z",
     "iopub.status.busy": "2023-03-01T00:39:47.864421Z",
     "iopub.status.idle": "2023-03-01T00:39:47.870593Z",
     "shell.execute_reply": "2023-03-01T00:39:47.869777Z",
     "shell.execute_reply.started": "2023-03-01T00:39:47.864857Z"
    }
   },
   "outputs": [
    {
     "name": "stdout",
     "output_type": "stream",
     "text": [
      "0    False\n",
      "1    False\n",
      "2     True\n",
      "3    False\n",
      "4    False\n",
      "5     True\n",
      "6    False\n",
      "7    False\n",
      "8    False\n",
      "Name: NUM_BEDROOMS, dtype: bool\n"
     ]
    }
   ],
   "source": [
    "print(df[\"NUM_BEDROOMS\"].isnull())"
   ]
  },
  {
   "cell_type": "code",
   "execution_count": 37,
   "id": "507cbbed-66d1-421f-aec1-f88ed3ae04d9",
   "metadata": {
    "execution": {
     "iopub.execute_input": "2023-03-01T00:39:47.872727Z",
     "iopub.status.busy": "2023-03-01T00:39:47.871826Z",
     "iopub.status.idle": "2023-03-01T00:39:47.881943Z",
     "shell.execute_reply": "2023-03-01T00:39:47.881131Z",
     "shell.execute_reply.started": "2023-03-01T00:39:47.872697Z"
    },
    "tags": []
   },
   "outputs": [
    {
     "name": "stdout",
     "output_type": "stream",
     "text": [
      "0    3.0\n",
      "1    3.0\n",
      "2    NaN\n",
      "3    1.0\n",
      "4    3.0\n",
      "5    NaN\n",
      "6    2.0\n",
      "7    1.0\n",
      "8    NaN\n",
      "Name: NUM_BEDROOMS, dtype: float64\n"
     ]
    }
   ],
   "source": [
    "# 以上例子中我们看到Pandas把n/a和NA当做空数据，na不是空数据，不符合我们的要求，可以自定义指定空数据类型：\n",
    "\n",
    "missing_values = [\"n/a\", \"na\", \"--\"]\n",
    "df = pd.read_csv(\"./file/property-data.csv\", na_values=missing_values)\n",
    "print(df[\"NUM_BEDROOMS\"])"
   ]
  },
  {
   "cell_type": "code",
   "execution_count": 38,
   "id": "41faf068-3147-4dbf-8fa4-89f28a0fd184",
   "metadata": {
    "execution": {
     "iopub.execute_input": "2023-03-01T00:39:47.883787Z",
     "iopub.status.busy": "2023-03-01T00:39:47.883019Z",
     "iopub.status.idle": "2023-03-01T00:39:47.888913Z",
     "shell.execute_reply": "2023-03-01T00:39:47.888117Z",
     "shell.execute_reply.started": "2023-03-01T00:39:47.883756Z"
    },
    "tags": []
   },
   "outputs": [
    {
     "name": "stdout",
     "output_type": "stream",
     "text": [
      "0    False\n",
      "1    False\n",
      "2     True\n",
      "3    False\n",
      "4    False\n",
      "5     True\n",
      "6    False\n",
      "7    False\n",
      "8     True\n",
      "Name: NUM_BEDROOMS, dtype: bool\n"
     ]
    }
   ],
   "source": [
    "print(df[\"NUM_BEDROOMS\"].isnull())"
   ]
  },
  {
   "cell_type": "code",
   "execution_count": 39,
   "id": "b68dbdc3-c88c-4ade-b258-f7a3648fe9e3",
   "metadata": {
    "execution": {
     "iopub.execute_input": "2023-03-01T00:39:47.890719Z",
     "iopub.status.busy": "2023-03-01T00:39:47.889952Z",
     "iopub.status.idle": "2023-03-01T00:39:47.910620Z",
     "shell.execute_reply": "2023-03-01T00:39:47.909791Z",
     "shell.execute_reply.started": "2023-03-01T00:39:47.890687Z"
    }
   },
   "outputs": [
    {
     "name": "stdout",
     "output_type": "stream",
     "text": [
      "           PID  ST_NUM    ST_NAME OWN_OCCUPIED NUM_BEDROOMS NUM_BATH SQ_FT\n",
      "0  100001000.0   104.0     PUTNAM            Y            3        1  1000\n",
      "1  100002000.0   197.0  LEXINGTON            N            3      1.5    --\n",
      "8  100009000.0   215.0    TREMONT            Y           na        2  1800\n"
     ]
    }
   ],
   "source": [
    "# 删除包含了空数据的行(默认情况下，dropna()方法返回一个新的DateFrame，不会修改源数据；如果要修改源数据DataFrame，可以使用inplace=True参数)\n",
    "import pandas as pd\n",
    "\n",
    "df = pd.read_csv(\"./file/property-data.csv\")\n",
    "\n",
    "df1 = df.dropna()\n",
    "# 修改源数据\n",
    "# df1 = df.dropna(inplace=True)\n",
    "\n",
    "print(df1.to_string())"
   ]
  },
  {
   "cell_type": "code",
   "execution_count": 40,
   "id": "62cb809d-6ab9-4727-b51d-a615606ed82d",
   "metadata": {
    "execution": {
     "iopub.execute_input": "2023-03-01T00:39:47.912509Z",
     "iopub.status.busy": "2023-03-01T00:39:47.911746Z",
     "iopub.status.idle": "2023-03-01T00:39:47.924607Z",
     "shell.execute_reply": "2023-03-01T00:39:47.923783Z",
     "shell.execute_reply.started": "2023-03-01T00:39:47.912478Z"
    },
    "tags": []
   },
   "outputs": [
    {
     "name": "stdout",
     "output_type": "stream",
     "text": [
      "           PID  ST_NUM    ST_NAME OWN_OCCUPIED NUM_BEDROOMS NUM_BATH SQ_FT\n",
      "0  100001000.0   104.0     PUTNAM            Y            3        1  1000\n",
      "1  100002000.0   197.0  LEXINGTON            N            3      1.5    --\n",
      "3  100004000.0   201.0   BERKELEY           12            1      NaN   700\n",
      "4          NaN   203.0   BERKELEY            Y            3        2  1600\n",
      "5  100006000.0   207.0   BERKELEY            Y          NaN        1   800\n",
      "7  100008000.0   213.0    TREMONT            Y            1        1   NaN\n",
      "8  100009000.0   215.0    TREMONT            Y           na        2  1800\n"
     ]
    }
   ],
   "source": [
    "# 移除ST_NUM列中字段值为空的行：\n",
    "df = pd.read_csv(\"./file/property-data.csv\")\n",
    "df2 = df.dropna(subset=\"ST_NUM\")\n",
    "print(df2.to_string())"
   ]
  },
  {
   "cell_type": "code",
   "execution_count": 41,
   "id": "501d7774-59d6-4b57-8c59-cca89538801e",
   "metadata": {
    "execution": {
     "iopub.execute_input": "2023-03-01T00:39:47.926611Z",
     "iopub.status.busy": "2023-03-01T00:39:47.925799Z",
     "iopub.status.idle": "2023-03-01T00:39:47.941101Z",
     "shell.execute_reply": "2023-03-01T00:39:47.940239Z",
     "shell.execute_reply.started": "2023-03-01T00:39:47.926579Z"
    },
    "tags": []
   },
   "outputs": [
    {
     "name": "stdout",
     "output_type": "stream",
     "text": [
      "           PID  ST_NUM     ST_NAME OWN_OCCUPIED NUM_BEDROOMS NUM_BATH SQ_FT\n",
      "0  100001000.0   104.0      PUTNAM            Y            3        1  1000\n",
      "1  100002000.0   197.0   LEXINGTON            N            3      1.5    --\n",
      "2  100003000.0     NaN   LEXINGTON            N          NaN        1   850\n",
      "3  100004000.0   201.0    BERKELEY           12            1      NaN   700\n",
      "4          NaN   203.0    BERKELEY            Y            3        2  1600\n",
      "5  100006000.0   207.0    BERKELEY            Y          NaN        1   800\n",
      "6  100007000.0     NaN  WASHINGTON          NaN            2   HURLEY   950\n",
      "7  100008000.0   213.0     TREMONT            Y            1        1   NaN\n",
      "8  100009000.0   215.0     TREMONT            Y           na        2  1800\n",
      "           PID   ST_NUM     ST_NAME OWN_OCCUPIED NUM_BEDROOMS NUM_BATH  SQ_FT\n",
      "0  100001000.0    104.0      PUTNAM            Y            3        1   1000\n",
      "1  100002000.0    197.0   LEXINGTON            N            3      1.5     --\n",
      "2  100003000.0  12345.0   LEXINGTON            N        12345        1    850\n",
      "3  100004000.0    201.0    BERKELEY           12            1    12345    700\n",
      "4      12345.0    203.0    BERKELEY            Y            3        2   1600\n",
      "5  100006000.0    207.0    BERKELEY            Y        12345        1    800\n",
      "6  100007000.0  12345.0  WASHINGTON        12345            2   HURLEY    950\n",
      "7  100008000.0    213.0     TREMONT            Y            1        1  12345\n",
      "8  100009000.0    215.0     TREMONT            Y           na        2   1800\n"
     ]
    }
   ],
   "source": [
    "# 使用fillna()方法来替换空字段\n",
    "\n",
    "df = pd.read_csv(\"./file/property-data.csv\")\n",
    "print(df.to_string())\n",
    "df3 = df.fillna(12345)\n",
    "print(df3.to_string())"
   ]
  },
  {
   "cell_type": "code",
   "execution_count": 42,
   "id": "8bcf4f87-675b-4bc5-8d3a-0695a2d06daa",
   "metadata": {
    "execution": {
     "iopub.execute_input": "2023-03-01T00:39:47.942610Z",
     "iopub.status.busy": "2023-03-01T00:39:47.942186Z",
     "iopub.status.idle": "2023-03-01T00:39:47.951253Z",
     "shell.execute_reply": "2023-03-01T00:39:47.950444Z",
     "shell.execute_reply.started": "2023-03-01T00:39:47.942579Z"
    },
    "tags": []
   },
   "outputs": [
    {
     "name": "stdout",
     "output_type": "stream",
     "text": [
      "0    100001000.0\n",
      "1    100002000.0\n",
      "2    100003000.0\n",
      "3    100004000.0\n",
      "4       654321.0\n",
      "5    100006000.0\n",
      "6    100007000.0\n",
      "7    100008000.0\n",
      "8    100009000.0\n"
     ]
    }
   ],
   "source": [
    "# 指定某一列来替换数据\n",
    "df = pd.read_csv(\"./file/property-data.csv\")\n",
    "df4 = df[\"PID\"].fillna(654321)\n",
    "print(df4.to_string())"
   ]
  },
  {
   "cell_type": "markdown",
   "id": "e29c82ec-de2c-4a75-bbd9-dfb32f6fbbd1",
   "metadata": {},
   "source": [
    "## 数据替换\n",
    "\n",
    "替换空单元格的常用方法是计算列的均值、中位数或众数\n",
    "\n",
    "Pandas使用mean()、median()和mode()方法计算列的均值（所有值加起来的平均值）、中位数（排序后排在中间的数）和众数（出现频率最高的数）"
   ]
  },
  {
   "cell_type": "markdown",
   "id": "56ffa5d2-56b7-48cf-adc8-168ccc73556a",
   "metadata": {},
   "source": [
    "### mean()方法计算列的均值并替换空单元格"
   ]
  },
  {
   "cell_type": "code",
   "execution_count": 43,
   "id": "968d521a-f840-4c44-9ded-8f2e1ef4a363",
   "metadata": {
    "execution": {
     "iopub.execute_input": "2023-03-01T00:39:47.952958Z",
     "iopub.status.busy": "2023-03-01T00:39:47.952223Z",
     "iopub.status.idle": "2023-03-01T00:39:47.963462Z",
     "shell.execute_reply": "2023-03-01T00:39:47.962710Z",
     "shell.execute_reply.started": "2023-03-01T00:39:47.952925Z"
    },
    "tags": []
   },
   "outputs": [
    {
     "name": "stdout",
     "output_type": "stream",
     "text": [
      "           PID  ST_NUM     ST_NAME OWN_OCCUPIED NUM_BEDROOMS NUM_BATH SQ_FT\n",
      "0  100001000.0   104.0      PUTNAM            Y            3        1  1000\n",
      "1  100002000.0   197.0   LEXINGTON            N            3      1.5    --\n",
      "2  100003000.0     NaN   LEXINGTON            N          NaN        1   850\n",
      "3  100004000.0   201.0    BERKELEY           12            1      NaN   700\n",
      "4          NaN   203.0    BERKELEY            Y            3        2  1600\n",
      "5  100006000.0   207.0    BERKELEY            Y          NaN        1   800\n",
      "6  100007000.0     NaN  WASHINGTON          NaN            2   HURLEY   950\n",
      "7  100008000.0   213.0     TREMONT            Y            1        1   NaN\n",
      "8  100009000.0   215.0     TREMONT            Y           na        2  1800\n"
     ]
    }
   ],
   "source": [
    "import pandas as pd\n",
    "\n",
    "df = pd.read_csv(\"./file/property-data.csv\")\n",
    "print(df.to_string())"
   ]
  },
  {
   "cell_type": "code",
   "execution_count": 44,
   "id": "5dbbc627-7234-4266-bbf0-889bdfd60d65",
   "metadata": {
    "execution": {
     "iopub.execute_input": "2023-03-01T00:39:47.964967Z",
     "iopub.status.busy": "2023-03-01T00:39:47.964532Z",
     "iopub.status.idle": "2023-03-01T00:39:47.971054Z",
     "shell.execute_reply": "2023-03-01T00:39:47.970245Z",
     "shell.execute_reply.started": "2023-03-01T00:39:47.964933Z"
    }
   },
   "outputs": [
    {
     "name": "stdout",
     "output_type": "stream",
     "text": [
      "0    104.000000\n",
      "1    197.000000\n",
      "2    191.428571\n",
      "3    201.000000\n",
      "4    203.000000\n",
      "5    207.000000\n",
      "6    191.428571\n",
      "7    213.000000\n",
      "8    215.000000\n"
     ]
    }
   ],
   "source": [
    "x = df[\"ST_NUM\"].mean()\n",
    "df1 = df[\"ST_NUM\"].fillna(x)\n",
    "print(df1.to_string())"
   ]
  },
  {
   "cell_type": "markdown",
   "id": "17def6d2-a30d-49e9-969a-bc86db3ef314",
   "metadata": {},
   "source": [
    "### mode()方法计算列的众数并替换空单元格"
   ]
  },
  {
   "cell_type": "code",
   "execution_count": 45,
   "id": "a47df046-babc-4bee-afaa-e980b395b601",
   "metadata": {
    "execution": {
     "iopub.execute_input": "2023-03-01T00:39:47.972776Z",
     "iopub.status.busy": "2023-03-01T00:39:47.972039Z",
     "iopub.status.idle": "2023-03-01T00:39:47.979805Z",
     "shell.execute_reply": "2023-03-01T00:39:47.978977Z",
     "shell.execute_reply.started": "2023-03-01T00:39:47.972745Z"
    }
   },
   "outputs": [
    {
     "name": "stdout",
     "output_type": "stream",
     "text": [
      "0    104.0\n",
      "1    197.0\n",
      "2    201.0\n",
      "3    201.0\n",
      "4    203.0\n",
      "5    207.0\n",
      "6    215.0\n",
      "7    213.0\n",
      "8    215.0\n"
     ]
    }
   ],
   "source": [
    "x = df[\"ST_NUM\"].mode()\n",
    "df1 = df[\"ST_NUM\"].fillna(x)\n",
    "print(df1.to_string())"
   ]
  },
  {
   "cell_type": "markdown",
   "id": "c136de6b-830c-4ada-90f9-cbb692a906d2",
   "metadata": {},
   "source": [
    "## Pandas清洗格式错误数据"
   ]
  },
  {
   "cell_type": "code",
   "execution_count": 46,
   "id": "51668b6f-d0d5-47b4-b511-c5d039fd4755",
   "metadata": {
    "execution": {
     "iopub.execute_input": "2023-03-01T00:39:47.981408Z",
     "iopub.status.busy": "2023-03-01T00:39:47.980925Z",
     "iopub.status.idle": "2023-03-01T00:39:47.991157Z",
     "shell.execute_reply": "2023-03-01T00:39:47.990291Z",
     "shell.execute_reply.started": "2023-03-01T00:39:47.981378Z"
    },
    "tags": []
   },
   "outputs": [
    {
     "name": "stdout",
     "output_type": "stream",
     "text": [
      "            Date  duration\n",
      "day1  2020/12/01        12\n",
      "day2  2021/11/12        34\n",
      "day3    20311026        56\n",
      "           Date  duration\n",
      "day1 2020-12-01        12\n",
      "day2 2021-11-12        34\n",
      "day3 2031-10-26        56\n"
     ]
    }
   ],
   "source": [
    "# 格式化日期\n",
    "import pandas as pd\n",
    "\n",
    "# 第三个日期格式错误\n",
    "data = {\"Date\": [\"2020/12/01\", \"2021/11/12\", \"20311026\"], \"duration\": [12, 34, 56]}\n",
    "\n",
    "df = pd.DataFrame(data, index=[\"day1\", \"day2\", \"day3\"])\n",
    "print(df.to_string())\n",
    "df[\"Date\"] = pd.to_datetime(df[\"Date\"])\n",
    "print(df.to_string())"
   ]
  },
  {
   "cell_type": "markdown",
   "id": "552b8ca5-71e0-4668-84dc-2792c70cbecc",
   "metadata": {},
   "source": [
    "## Pandas清洗错误数据"
   ]
  },
  {
   "cell_type": "code",
   "execution_count": 47,
   "id": "71920a27-8cc8-4099-b4da-0c229942ac83",
   "metadata": {
    "execution": {
     "iopub.execute_input": "2023-03-01T00:39:47.992959Z",
     "iopub.status.busy": "2023-03-01T00:39:47.992171Z",
     "iopub.status.idle": "2023-03-01T00:39:48.003658Z",
     "shell.execute_reply": "2023-03-01T00:39:48.002617Z",
     "shell.execute_reply.started": "2023-03-01T00:39:47.992929Z"
    },
    "tags": []
   },
   "outputs": [
    {
     "name": "stdout",
     "output_type": "stream",
     "text": [
      "     name  age\n",
      "0  Google  122\n",
      "1   Baidu   34\n",
      "2   Amzon   30\n",
      "3      QQ  123\n",
      "4  WeChat  567\n",
      "     name    age\n",
      "0  Google  175.2\n",
      "1   Baidu   34.0\n",
      "2   Amzon   30.0\n",
      "3      QQ  175.2\n",
      "4  WeChat  175.2\n"
     ]
    }
   ],
   "source": [
    "# 对错误的数据进行替换和移除，以下会替换错误年龄的数据\n",
    "import pandas as pd\n",
    "\n",
    "person = {\n",
    "    \"name\": [\"Google\", \"Baidu\", \"Amzon\", \"QQ\", \"WeChat\"],\n",
    "    \"age\": [122, 34, 23, 123, 567],\n",
    "}\n",
    "\n",
    "df = pd.DataFrame(person)\n",
    "# 修改数据\n",
    "df.loc[2, \"age\"] = 30\n",
    "print(df)\n",
    "\n",
    "mean = df[\"age\"].mean()\n",
    "for i in df.index:\n",
    "    if df.loc[i, \"age\"] > 100:\n",
    "        df.loc[i, \"age\"] = mean\n",
    "print(df)"
   ]
  },
  {
   "cell_type": "code",
   "execution_count": 48,
   "id": "32dbd5a9-8987-4ae7-9391-1937f3b533b0",
   "metadata": {
    "execution": {
     "iopub.execute_input": "2023-03-01T00:39:48.005283Z",
     "iopub.status.busy": "2023-03-01T00:39:48.004976Z",
     "iopub.status.idle": "2023-03-01T00:39:48.022450Z",
     "shell.execute_reply": "2023-03-01T00:39:48.021668Z",
     "shell.execute_reply.started": "2023-03-01T00:39:48.005250Z"
    },
    "tags": []
   },
   "outputs": [
    {
     "name": "stdout",
     "output_type": "stream",
     "text": [
      "    name  age\n",
      "1  Baidu   34\n",
      "2  Amzon   23\n"
     ]
    }
   ],
   "source": [
    "# 将错误数据行删除\n",
    "import pandas as pd\n",
    "\n",
    "person = {\n",
    "    \"name\": [\"Google\", \"Baidu\", \"Amzon\", \"QQ\", \"WeChat\"],\n",
    "    \"age\": [122, 34, 23, 123, 567],\n",
    "}\n",
    "\n",
    "df = pd.DataFrame(person)\n",
    "\n",
    "for i in df.index:\n",
    "    if df.loc[i, \"age\"] > 100:\n",
    "        df.drop(i, inplace=True)\n",
    "print(df)"
   ]
  },
  {
   "cell_type": "markdown",
   "id": "bbb4c645-4db5-4f54-a70d-f982a4d5fbef",
   "metadata": {},
   "source": [
    "## Pandas清洗重复数据\n",
    "\n",
    "如果要清洗重复数据，可以使用duplicated()和drop_duplicates()方法\n",
    "\n",
    "如果对应的数据是重复的，duplicated()会返回True,否则会返回false"
   ]
  },
  {
   "cell_type": "code",
   "execution_count": 49,
   "id": "8097ad1b-d65f-472b-8475-85625fa59ece",
   "metadata": {
    "execution": {
     "iopub.execute_input": "2023-03-01T00:39:48.028301Z",
     "iopub.status.busy": "2023-03-01T00:39:48.025405Z",
     "iopub.status.idle": "2023-03-01T00:39:48.037964Z",
     "shell.execute_reply": "2023-03-01T00:39:48.037213Z",
     "shell.execute_reply.started": "2023-03-01T00:39:48.028275Z"
    },
    "tags": []
   },
   "outputs": [
    {
     "name": "stdout",
     "output_type": "stream",
     "text": [
      "     name  age\n",
      "0  Google  122\n",
      "1   Baidu   34\n",
      "2   Amzon   23\n",
      "3      QQ  123\n",
      "4  WeChat  567\n",
      "\n",
      "0    False\n",
      "1    False\n",
      "2    False\n",
      "3    False\n",
      "4    False\n",
      "dtype: bool\n"
     ]
    }
   ],
   "source": [
    "import pandas as pd\n",
    "\n",
    "person = {\n",
    "    \"name\": [\"Google\", \"Baidu\", \"Amzon\", \"QQ\", \"WeChat\"],\n",
    "    \"age\": [122, 34, 23, 123, 567],\n",
    "}\n",
    "\n",
    "df = pd.DataFrame(person)\n",
    "\n",
    "print(df.to_string())\n",
    "print()\n",
    "# 查看是否有重复数据\n",
    "print(df.duplicated())"
   ]
  },
  {
   "cell_type": "code",
   "execution_count": 50,
   "id": "069722e4-170d-4d7a-b307-5603896377d0",
   "metadata": {
    "execution": {
     "iopub.execute_input": "2023-03-01T00:39:48.042258Z",
     "iopub.status.busy": "2023-03-01T00:39:48.039135Z",
     "iopub.status.idle": "2023-03-01T00:39:48.049803Z",
     "shell.execute_reply": "2023-03-01T00:39:48.048985Z",
     "shell.execute_reply.started": "2023-03-01T00:39:48.042225Z"
    },
    "tags": []
   },
   "outputs": [
    {
     "name": "stdout",
     "output_type": "stream",
     "text": [
      "     name  age\n",
      "0  Google  122\n",
      "1      QQ   34\n",
      "2   Amzon   23\n",
      "3      QQ   34\n",
      "4  WeChat  567\n",
      "\n",
      "     name  age\n",
      "0  Google  122\n",
      "1      QQ   34\n",
      "2   Amzon   23\n",
      "4  WeChat  567\n"
     ]
    }
   ],
   "source": [
    "person = {\n",
    "    \"name\": [\"Google\", \"QQ\", \"Amzon\", \"QQ\", \"WeChat\"],\n",
    "    \"age\": [122, 34, 23, 34, 567],\n",
    "}\n",
    "\n",
    "df = pd.DataFrame(person)\n",
    "\n",
    "print(df.to_string())\n",
    "print()\n",
    "# 删除重复数据\n",
    "print(df.drop_duplicates())"
   ]
  },
  {
   "cell_type": "code",
   "execution_count": null,
   "id": "10b31a3e-e093-4b93-9a6e-764b1ac95300",
   "metadata": {},
   "outputs": [],
   "source": []
  }
 ],
 "metadata": {
  "kernelspec": {
   "display_name": "Python 3 (ipykernel)",
   "language": "python",
   "name": "python3"
  },
  "language_info": {
   "codemirror_mode": {
    "name": "ipython",
    "version": 3
   },
   "file_extension": ".py",
   "mimetype": "text/x-python",
   "name": "python",
   "nbconvert_exporter": "python",
   "pygments_lexer": "ipython3",
   "version": "3.8.10"
  },
  "toc-autonumbering": true
 },
 "nbformat": 4,
 "nbformat_minor": 5
}
