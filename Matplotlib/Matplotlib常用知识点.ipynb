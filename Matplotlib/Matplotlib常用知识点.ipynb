{
 "cells": [
  {
   "cell_type": "markdown",
   "id": "8c41963c-b583-457b-abf6-b3898aa23a09",
   "metadata": {},
   "source": [
    "# Linux中JupyterLab的matplotlib设置中文\n",
    "\n",
    "> https://blog.csdn.net/GouGe_CSDN/article/details/105382920\n",
    "\n",
    "1. 下载SimHei.ttf文件"
   ]
  },
  {
   "cell_type": "markdown",
   "id": "1e1d4681-ac58-457e-914c-9855a1051f49",
   "metadata": {},
   "source": [
    "2. 找到matplotlib的文件文字"
   ]
  },
  {
   "cell_type": "code",
   "execution_count": 1,
   "id": "9be955fc-db56-441a-adaa-25d675e049f5",
   "metadata": {
    "execution": {
     "iopub.execute_input": "2023-02-28T05:40:51.973333Z",
     "iopub.status.busy": "2023-02-28T05:40:51.972949Z",
     "iopub.status.idle": "2023-02-28T05:40:52.179931Z",
     "shell.execute_reply": "2023-02-28T05:40:52.179191Z",
     "shell.execute_reply.started": "2023-02-28T05:40:51.973301Z"
    }
   },
   "outputs": [
    {
     "data": {
      "text/plain": [
       "'/usr/local/lib/python3.8/dist-packages/matplotlib/mpl-data/matplotlibrc'"
      ]
     },
     "execution_count": 1,
     "metadata": {},
     "output_type": "execute_result"
    }
   ],
   "source": [
    "import matplotlib\n",
    "matplotlib.matplotlib_fname()"
   ]
  },
  {
   "cell_type": "markdown",
   "id": "2fc956e6-30ff-4b46-a580-64a47ef26740",
   "metadata": {},
   "source": [
    "3. 进入上述文件夹下/usr/local/lib/python3.8/dist-packages/matplotlib/mpl-data/fonts/ttf/，将第一步下载的SimHei.ttf文件导入进去"
   ]
  },
  {
   "cell_type": "markdown",
   "id": "f8b87056-8e51-46c3-aba6-6b9bcf78ef2e",
   "metadata": {},
   "source": [
    "4. 进入/usr/local/lib/python3.8/dist-packages/matplotlib/mpl-data目录，修改该目录下的matplotlibrc文件，搜索定位到font.family。取消font.family、font.serif、font.sans-serif的注释，并在font.serif和font.sans-serif后添加SimHei，保存"
   ]
  },
  {
   "cell_type": "markdown",
   "id": "d9b01e9c-4f82-422f-947d-7e4af7fe9b5a",
   "metadata": {},
   "source": [
    "5. 进入到~/.cache目录，删除该目录下的matplotlib文件夹"
   ]
  },
  {
   "cell_type": "code",
   "execution_count": null,
   "id": "6f65bff7-73ae-4fe4-aeb9-13bf97acafe2",
   "metadata": {},
   "outputs": [],
   "source": [
    "import matplotlib\n",
    "matplotlib.get_cachedir()\n",
    "\n",
    "# cd ~/.cache\n",
    "# rm -rf matplotlib"
   ]
  },
  {
   "cell_type": "markdown",
   "id": "26dcd2c8-04cd-4d65-b69f-3ef6d4cce464",
   "metadata": {},
   "source": [
    "6. 重新打开jupyter，可以输入如下代码，查看是否导入SimHei字体"
   ]
  },
  {
   "cell_type": "code",
   "execution_count": null,
   "id": "089b0efa-4306-4f85-9b34-5cbae77fde04",
   "metadata": {},
   "outputs": [],
   "source": [
    "from matplotlib import font_manager\n",
    "a = sorted([f.name for f in font_manager.fontManager.ttflist])\n",
    "for i in a:\n",
    "    print(i)"
   ]
  },
  {
   "cell_type": "markdown",
   "id": "7ff0f082-17aa-4c8b-b4df-6d394578809f",
   "metadata": {},
   "source": [
    "7. 在导入matplotlib包之后加一句"
   ]
  },
  {
   "cell_type": "code",
   "execution_count": null,
   "id": "94e3fd91-f18f-4524-82b1-c127165d2aeb",
   "metadata": {},
   "outputs": [],
   "source": [
    "plt.rcParams['font.sans-serif']=['SimHei']"
   ]
  },
  {
   "cell_type": "markdown",
   "id": "088c7535",
   "metadata": {},
   "source": [
    "# ZIP"
   ]
  },
  {
   "cell_type": "code",
   "execution_count": 1,
   "id": "e97a9002",
   "metadata": {
    "ExecuteTime": {
     "end_time": "2022-10-16T02:00:46.345071Z",
     "start_time": "2022-10-16T02:00:46.341076Z"
    }
   },
   "outputs": [],
   "source": [
    "a=[1,2,3,4,5]\n",
    "b=['a','b','c','d','e']"
   ]
  },
  {
   "cell_type": "markdown",
   "id": "f9b9a5a3",
   "metadata": {},
   "source": [
    "# 压缩"
   ]
  },
  {
   "cell_type": "code",
   "execution_count": 2,
   "id": "892cbd72",
   "metadata": {
    "ExecuteTime": {
     "end_time": "2022-10-16T02:00:46.352109Z",
     "start_time": "2022-10-16T02:00:46.346614Z"
    }
   },
   "outputs": [
    {
     "name": "stdout",
     "output_type": "stream",
     "text": [
      "<zip object at 0x7f5568622bc0>\n",
      "[(1, 'a'), (2, 'b'), (3, 'c'), (4, 'd'), (5, 'e')]\n",
      "<class 'zip'>\n"
     ]
    }
   ],
   "source": [
    "# 压缩\n",
    "zip1=zip(a,b)\n",
    "print(zip1)\n",
    "print(list(zip1))\n",
    "print(type(zip1))"
   ]
  },
  {
   "cell_type": "markdown",
   "id": "3b86356c",
   "metadata": {},
   "source": [
    "# 解压缩"
   ]
  },
  {
   "cell_type": "code",
   "execution_count": 3,
   "id": "7a5f9ae4",
   "metadata": {
    "ExecuteTime": {
     "end_time": "2022-10-16T02:00:46.358018Z",
     "start_time": "2022-10-16T02:00:46.354243Z"
    }
   },
   "outputs": [
    {
     "name": "stdout",
     "output_type": "stream",
     "text": [
      "[(1, 2, 3, 4, 5), ('a', 'b', 'c', 'd', 'e')]\n"
     ]
    }
   ],
   "source": [
    "zip1=zip(a,b)\n",
    "\n",
    "print(list(zip(*zip1)))"
   ]
  }
 ],
 "metadata": {
  "kernelspec": {
   "display_name": "Python 3 (ipykernel)",
   "language": "python",
   "name": "python3"
  },
  "language_info": {
   "codemirror_mode": {
    "name": "ipython",
    "version": 3
   },
   "file_extension": ".py",
   "mimetype": "text/x-python",
   "name": "python",
   "nbconvert_exporter": "python",
   "pygments_lexer": "ipython3",
   "version": "3.8.10"
  },
  "toc": {
   "base_numbering": 1,
   "nav_menu": {},
   "number_sections": true,
   "sideBar": true,
   "skip_h1_title": false,
   "title_cell": "Table of Contents",
   "title_sidebar": "Contents",
   "toc_cell": false,
   "toc_position": {},
   "toc_section_display": true,
   "toc_window_display": false
  },
  "varInspector": {
   "cols": {
    "lenName": 16,
    "lenType": 16,
    "lenVar": 40
   },
   "kernels_config": {
    "python": {
     "delete_cmd_postfix": "",
     "delete_cmd_prefix": "del ",
     "library": "var_list.py",
     "varRefreshCmd": "print(var_dic_list())"
    },
    "r": {
     "delete_cmd_postfix": ") ",
     "delete_cmd_prefix": "rm(",
     "library": "var_list.r",
     "varRefreshCmd": "cat(var_dic_list()) "
    }
   },
   "types_to_exclude": [
    "module",
    "function",
    "builtin_function_or_method",
    "instance",
    "_Feature"
   ],
   "window_display": false
  }
 },
 "nbformat": 4,
 "nbformat_minor": 5
}
