{
 "cells": [
  {
   "cell_type": "markdown",
   "id": "1f5cf73f",
   "metadata": {},
   "source": [
    "# 基本盒图\n",
    "\n",
    "sym='*'设置离群点形状\n",
    "\n",
    "vert=True 设置为竖向展示\n",
    "\n",
    "ax.boxplot(tang_data,notch=False,sym='*',vert=True)"
   ]
  },
  {
   "cell_type": "code",
   "execution_count": 1,
   "id": "0bef375b",
   "metadata": {
    "ExecuteTime": {
     "end_time": "2022-10-16T06:59:07.833858Z",
     "start_time": "2022-10-16T06:59:07.827889Z"
    }
   },
   "outputs": [],
   "source": [
    "%matplotlib inline\n",
    "import matplotlib.pyplot as plt\n",
    "import numpy as np"
   ]
  },
  {
   "cell_type": "code",
   "execution_count": 6,
   "id": "ae74cf86",
   "metadata": {
    "ExecuteTime": {
     "end_time": "2022-10-16T07:08:20.140321Z",
     "start_time": "2022-10-16T07:08:20.136524Z"
    }
   },
   "outputs": [],
   "source": [
    "tang_data = [np.random.normal(0, std, 100) for std in range(1, 4)]"
   ]
  },
  {
   "cell_type": "code",
   "execution_count": 7,
   "id": "4a0f76f2",
   "metadata": {
    "ExecuteTime": {
     "end_time": "2022-10-16T07:08:20.803038Z",
     "start_time": "2022-10-16T07:08:20.686083Z"
    }
   },
   "outputs": [
    {
     "ename": "TypeError",
     "evalue": "Axis.set_ticks() takes 2 positional arguments but 3 were given",
     "output_type": "error",
     "traceback": [
      "\u001b[0;31m---------------------------------------------------------------------------\u001b[0m",
      "\u001b[0;31mTypeError\u001b[0m                                 Traceback (most recent call last)",
      "Cell \u001b[0;32mIn [7], line 5\u001b[0m\n\u001b[1;32m      2\u001b[0m ax\u001b[38;5;241m.\u001b[39mboxplot(tang_data, notch\u001b[38;5;241m=\u001b[39m\u001b[38;5;28;01mFalse\u001b[39;00m, sym\u001b[38;5;241m=\u001b[39m\u001b[38;5;124m\"\u001b[39m\u001b[38;5;124m*\u001b[39m\u001b[38;5;124m\"\u001b[39m, vert\u001b[38;5;241m=\u001b[39m\u001b[38;5;28;01mTrue\u001b[39;00m)\n\u001b[1;32m      4\u001b[0m \u001b[38;5;66;03m# 刻度值替换为指定字符\u001b[39;00m\n\u001b[0;32m----> 5\u001b[0m \u001b[43max\u001b[49m\u001b[38;5;241;43m.\u001b[39;49m\u001b[43mset_xticks\u001b[49m\u001b[43m(\u001b[49m\u001b[43m[\u001b[49m\u001b[43my\u001b[49m\u001b[43m \u001b[49m\u001b[38;5;241;43m+\u001b[39;49m\u001b[43m \u001b[49m\u001b[38;5;241;43m1\u001b[39;49m\u001b[43m \u001b[49m\u001b[38;5;28;43;01mfor\u001b[39;49;00m\u001b[43m \u001b[49m\u001b[43my\u001b[49m\u001b[43m \u001b[49m\u001b[38;5;129;43;01min\u001b[39;49;00m\u001b[43m \u001b[49m\u001b[38;5;28;43mrange\u001b[39;49m\u001b[43m(\u001b[49m\u001b[38;5;28;43mlen\u001b[39;49m\u001b[43m(\u001b[49m\u001b[43mtang_data\u001b[49m\u001b[43m)\u001b[49m\u001b[43m)\u001b[49m\u001b[43m]\u001b[49m\u001b[43m,\u001b[49m\u001b[43m \u001b[49m\u001b[43m[\u001b[49m\u001b[38;5;124;43m\"\u001b[39;49m\u001b[38;5;124;43mx1\u001b[39;49m\u001b[38;5;124;43m\"\u001b[39;49m\u001b[43m,\u001b[49m\u001b[43m \u001b[49m\u001b[38;5;124;43m\"\u001b[39;49m\u001b[38;5;124;43mx2\u001b[39;49m\u001b[38;5;124;43m\"\u001b[39;49m\u001b[43m,\u001b[49m\u001b[43m \u001b[49m\u001b[38;5;124;43m\"\u001b[39;49m\u001b[38;5;124;43mx3\u001b[39;49m\u001b[38;5;124;43m\"\u001b[39;49m\u001b[43m]\u001b[49m\u001b[43m)\u001b[49m\n\u001b[1;32m      6\u001b[0m ax\u001b[38;5;241m.\u001b[39mset_xlabel(\u001b[38;5;124m\"\u001b[39m\u001b[38;5;124mX label\u001b[39m\u001b[38;5;124m\"\u001b[39m)\n\u001b[1;32m      7\u001b[0m ax\u001b[38;5;241m.\u001b[39mset_title(\u001b[38;5;124m\"\u001b[39m\u001b[38;5;124mTitle\u001b[39m\u001b[38;5;124m\"\u001b[39m)\n",
      "File \u001b[0;32m~/.conda/envs/JupyterNotebook/lib/python3.10/site-packages/matplotlib/axes/_base.py:73\u001b[0m, in \u001b[0;36m_axis_method_wrapper.__set_name__.<locals>.wrapper\u001b[0;34m(self, *args, **kwargs)\u001b[0m\n\u001b[1;32m     72\u001b[0m \u001b[38;5;28;01mdef\u001b[39;00m \u001b[38;5;21mwrapper\u001b[39m(\u001b[38;5;28mself\u001b[39m, \u001b[38;5;241m*\u001b[39margs, \u001b[38;5;241m*\u001b[39m\u001b[38;5;241m*\u001b[39mkwargs):\n\u001b[0;32m---> 73\u001b[0m     \u001b[38;5;28;01mreturn\u001b[39;00m \u001b[43mget_method\u001b[49m\u001b[43m(\u001b[49m\u001b[38;5;28;43mself\u001b[39;49m\u001b[43m)\u001b[49m\u001b[43m(\u001b[49m\u001b[38;5;241;43m*\u001b[39;49m\u001b[43margs\u001b[49m\u001b[43m,\u001b[49m\u001b[43m \u001b[49m\u001b[38;5;241;43m*\u001b[39;49m\u001b[38;5;241;43m*\u001b[39;49m\u001b[43mkwargs\u001b[49m\u001b[43m)\u001b[49m\n",
      "\u001b[0;31mTypeError\u001b[0m: Axis.set_ticks() takes 2 positional arguments but 3 were given"
     ]
    },
    {
     "data": {
      "image/png": "[encoded data removed]",
      "text/plain": [
       "<Figure size 800x600 with 1 Axes>"
      ]
     },
     "metadata": {},
     "output_type": "display_data"
    }
   ],
   "source": [
    "fig, ax = plt.subplots(figsize=(8, 6))\n",
    "ax.boxplot(tang_data, notch=False, sym=\"*\", vert=True)\n",
    "\n",
    "# 刻度值替换为指定字符\n",
    "ax.set_xticks([y + 1 for y in range(len(tang_data))], [\"x1\", \"x2\", \"x3\"])\n",
    "ax.set_xlabel(\"X label\")\n",
    "ax.set_title(\"Title\")"
   ]
  },
  {
   "cell_type": "markdown",
   "id": "6baeb885",
   "metadata": {},
   "source": [
    "# 设置线条颜色"
   ]
  },
  {
   "cell_type": "code",
   "execution_count": null,
   "id": "772a1c37",
   "metadata": {
    "ExecuteTime": {
     "end_time": "2022-10-16T07:13:27.341999Z",
     "start_time": "2022-10-16T07:13:27.222155Z"
    }
   },
   "outputs": [],
   "source": [
    "fig, ax = plt.subplots(figsize=(8, 6))\n",
    "bplot = ax.boxplot(tang_data, notch=False, sym=\"*\", vert=True)\n",
    "print(bplot)\n",
    "# 刻度值替换为指定字符\n",
    "ax.set_xticks([y + 1 for y in range(len(tang_data))], [\"x1\", \"x2\", \"x3\"])\n",
    "ax.set_xlabel(\"X label\")\n",
    "ax.set_title(\"Title\")\n",
    "\n",
    "for components in bplot.keys():\n",
    "    for line in bplot[components]:\n",
    "        line.set_color(\"black\")"
   ]
  },
  {
   "cell_type": "markdown",
   "id": "0ca98c33",
   "metadata": {},
   "source": [
    "# 横向画图\n",
    "\n",
    "**vert=False**代表横向\n",
    "\n",
    "bplot = ax.boxplot(tang_data,notch=False,sym='*', vert=False)"
   ]
  },
  {
   "cell_type": "code",
   "execution_count": null,
   "id": "eabf2af3",
   "metadata": {
    "ExecuteTime": {
     "end_time": "2022-10-16T07:18:59.464117Z",
     "start_time": "2022-10-16T07:18:59.346076Z"
    }
   },
   "outputs": [],
   "source": [
    "fig, ax = plt.subplots(figsize=(8, 6))\n",
    "bplot = ax.boxplot(tang_data, notch=False, sym=\"*\", vert=False)\n",
    "print(bplot)\n",
    "# 刻度值替换为指定字符\n",
    "ax.set_yticks([y + 1 for y in range(len(tang_data))], [\"x1\", \"x2\", \"x3\"])\n",
    "ax.set_ylabel(\"Y label\")\n",
    "ax.set_title(\"Title\")"
   ]
  },
  {
   "cell_type": "markdown",
   "id": "0375ee0b",
   "metadata": {},
   "source": [
    "# 小提琴图violinplot"
   ]
  },
  {
   "cell_type": "code",
   "execution_count": null,
   "id": "4b503866",
   "metadata": {
    "ExecuteTime": {
     "end_time": "2022-10-16T10:14:07.748280Z",
     "start_time": "2022-10-16T10:14:07.542539Z"
    }
   },
   "outputs": [],
   "source": [
    "fig, axes = plt.subplots(1, 2, figsize=(12, 5))\n",
    "tang_data = [np.random.normal(0, std, 100) for std in range(6, 10)]\n",
    "axes[0].violinplot(tang_data, showmeans=False, showmedians=True)\n",
    "axes[0].set_title(\"violin plot\")\n",
    "\n",
    "axes[1].boxplot(tang_data)\n",
    "axes[1].set_title(\"box plot\")\n",
    "\n",
    "for ax in axes:\n",
    "    ax.yaxis.grid(True)\n",
    "    ax.set_xticks([y + 1 for y in range(len(tang_data))], [\"a\", \"b\", \"c\", \"d\"])"
   ]
  },
  {
   "cell_type": "code",
   "execution_count": null,
   "id": "549b8063",
   "metadata": {},
   "outputs": [],
   "source": []
  }
 ],
 "metadata": {
  "kernelspec": {
   "display_name": "Python 3 (ipykernel)",
   "language": "python",
   "name": "python3"
  },
  "language_info": {
   "codemirror_mode": {
    "name": "ipython",
    "version": 3
   },
   "file_extension": ".py",
   "mimetype": "text/x-python",
   "name": "python",
   "nbconvert_exporter": "python",
   "pygments_lexer": "ipython3",
   "version": "3.10.6"
  },
  "toc": {
   "base_numbering": 1,
   "nav_menu": {},
   "number_sections": true,
   "sideBar": true,
   "skip_h1_title": false,
   "title_cell": "Table of Contents",
   "title_sidebar": "Contents",
   "toc_cell": false,
   "toc_position": {},
   "toc_section_display": true,
   "toc_window_display": false
  }
 },
 "nbformat": 4,
 "nbformat_minor": 5
}
