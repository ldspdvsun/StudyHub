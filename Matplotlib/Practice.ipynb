{
 "cells": [
  {
   "cell_type": "code",
   "execution_count": 1,
   "id": "02969aff",
   "metadata": {
    "ExecuteTime": {
     "end_time": "2022-10-16T00:58:18.849347Z",
     "start_time": "2022-10-16T00:58:17.814591Z"
    }
   },
   "outputs": [
    {
     "ename": "ModuleNotFoundError",
     "evalue": "No module named 'xlrd'",
     "output_type": "error",
     "traceback": [
      "\u001b[0;31m---------------------------------------------------------------------------\u001b[0m",
      "\u001b[0;31mModuleNotFoundError\u001b[0m                       Traceback (most recent call last)",
      "Input \u001b[0;32mIn [1]\u001b[0m, in \u001b[0;36m<cell line: 2>\u001b[0;34m()\u001b[0m\n\u001b[1;32m      1\u001b[0m \u001b[38;5;28;01mimport\u001b[39;00m \u001b[38;5;21;01mmatplotlib\u001b[39;00m\u001b[38;5;21;01m.\u001b[39;00m\u001b[38;5;21;01mpyplot\u001b[39;00m \u001b[38;5;28;01mas\u001b[39;00m \u001b[38;5;21;01mplt\u001b[39;00m\n\u001b[0;32m----> 2\u001b[0m \u001b[38;5;28;01mimport\u001b[39;00m \u001b[38;5;21;01mxlrd\u001b[39;00m\n\u001b[1;32m      3\u001b[0m \u001b[38;5;28;01mfrom\u001b[39;00m \u001b[38;5;21;01mmatplotlib\u001b[39;00m \u001b[38;5;28;01mimport\u001b[39;00m ticker\n\u001b[1;32m      4\u001b[0m \u001b[38;5;66;03m# plt.rcParams['font.family']='SimHei'\u001b[39;00m\n",
      "\u001b[0;31mModuleNotFoundError\u001b[0m: No module named 'xlrd'"
     ]
    }
   ],
   "source": [
    "import matplotlib.pyplot as plt\n",
    "import xlrd\n",
    "from matplotlib import ticker\n",
    "# plt.rcParams['font.family']='SimHei'\n",
    "\n",
    "worksheet = xlrd.open_workbook(r'./file/油松刺槐6789月液流速率图.xlsx')\n",
    "\n",
    "Pinus_tabuliformis=worksheet.sheet_by_index(0)\n",
    "Robinia_pseudoacacia=worksheet.sheet_by_index(1)\n",
    "Pinus_tabuliformis_Robinia_pseudoacacia_x=Pinus_tabuliformis.col_values(4)[1:Pinus_tabuliformis.nrows]\n",
    "# 创建x轴标签使用\n",
    "Pinus_tabuliformis_Robinia_pseudoacacia_x2=Pinus_tabuliformis.col_values(2)[1:Pinus_tabuliformis.nrows]\n",
    "Pinus_tabuliformis_y=Pinus_tabuliformis.col_values(3)[1:Pinus_tabuliformis.nrows]\n",
    "Robinia_pseudoacacia_y=Robinia_pseudoacacia.col_values(3)[1:Robinia_pseudoacacia.nrows]\n",
    "\n",
    "plt.xticks(rotation=90)\n",
    "plt.plot(Pinus_tabuliformis_Robinia_pseudoacacia_x, Pinus_tabuliformis_y, 'p-', color='r', label=\"Pinus_tabuliformis\")\n",
    "plt.plot(Pinus_tabuliformis_Robinia_pseudoacacia_x, Robinia_pseudoacacia_y, '*:', color='b', label=\"Robinia_pseudoacacia\")\n",
    "plt.xticks(list(range(0,96)),Pinus_tabuliformis_Robinia_pseudoacacia_x2)\n",
    "plt.gca().xaxis.set_major_locator(ticker.MultipleLocator(12))\n",
    "plt.xlabel(\"TIME\")#横坐标名字\n",
    "plt.ylabel(\"sap velocity(cm/h)\")#纵坐标名字\n",
    "plt.legend(loc=\"upper right\")# 标签位置\n",
    "plt.grid(True, linestyle='--', alpha=0.5)\n",
    "plt.savefig(\"f1.jpg\",dpi=900)\n",
    "\n",
    "plt.show()"
   ]
  },
  {
   "cell_type": "code",
   "execution_count": 3,
   "id": "c7685a9f",
   "metadata": {
    "ExecuteTime": {
     "end_time": "2022-10-16T00:59:00.191579Z",
     "start_time": "2022-10-16T00:58:58.070772Z"
    }
   },
   "outputs": [
    {
     "name": "stdout",
     "output_type": "stream",
     "text": [
      "Collecting xlrd==1.2.0\n",
      "  Downloading xlrd-1.2.0-py2.py3-none-any.whl (103 kB)\n",
      "\u001b[2K     \u001b[90m━━━━━━━━━━━━━━━━━━━━━━━━━━━━━━━━━━━━━\u001b[0m \u001b[32m103.3/103.3 kB\u001b[0m \u001b[31m918.3 kB/s\u001b[0m eta \u001b[36m0:00:00\u001b[0ma \u001b[36m0:00:01\u001b[0m\n",
      "\u001b[?25hInstalling collected packages: xlrd\n",
      "Successfully installed xlrd-1.2.0\n",
      "Note: you may need to restart the kernel to use updated packages.\n"
     ]
    }
   ],
   "source": [
    "pip install xlrd==1.2.0"
   ]
  },
  {
   "cell_type": "code",
   "execution_count": null,
   "id": "8141518f",
   "metadata": {
    "ExecuteTime": {
     "end_time": "2022-10-16T00:58:18.851687Z",
     "start_time": "2022-10-16T00:58:18.851674Z"
    }
   },
   "outputs": [],
   "source": [
    "import matplotlib.pyplot as plt\n",
    "import xlrd\n",
    "from matplotlib import ticker\n",
    "import numpy as np\n",
    "%matplotlib inline\n",
    "# plt.rcParams['font.family'] = 'SimHei'\n",
    "\n",
    "worksheet = xlrd.open_workbook(r'./file/油松刺槐6789月液流速率图.xlsx')\n",
    "\n",
    "Pinus_tabuliformis = worksheet.sheet_by_index(0)\n",
    "Robinia_pseudoacacia = worksheet.sheet_by_index(1)\n",
    "Pinus_tabuliformis_Robinia_pseudoacacia_x = Pinus_tabuliformis.col_values(4)[\n",
    "    1:Pinus_tabuliformis.nrows]\n",
    "\n",
    "# 创建x轴标签使用\n",
    "Pinus_tabuliformis_Robinia_pseudoacacia_x2 = Pinus_tabuliformis.col_values(2)[\n",
    "    1:Pinus_tabuliformis.nrows]\n",
    "Pinus_tabuliformis_y = Pinus_tabuliformis.col_values(\n",
    "    3)[1:Pinus_tabuliformis.nrows]\n",
    "Robinia_pseudoacacia_y = Robinia_pseudoacacia.col_values(\n",
    "    3)[1:Robinia_pseudoacacia.nrows]\n",
    "\n",
    "\n",
    "fig, ax = plt.subplots(figsize=(14, 17))\n",
    "ax.plot(Pinus_tabuliformis_Robinia_pseudoacacia_x,\n",
    "        Pinus_tabuliformis_y, label='Pinus_tabuliformis', color='red', linestyle='--', marker='o')\n",
    "ax.plot(Pinus_tabuliformis_Robinia_pseudoacacia_x,\n",
    "        Robinia_pseudoacacia_y, label='Robinia_pseudoacacia', color='blue', linestyle=':', marker='*')\n",
    "ax.legend(['Pinus_tabuliformis', 'Robinia_pseudoacacia'])\n",
    "ax.grid(which='both', axis='both')\n",
    "\n",
    "ax.xaxis.set_ticks(\n",
    "    np.arange(0, 96), Pinus_tabuliformis_Robinia_pseudoacacia_x2)\n",
    "#start, end = ax.get_xlim()\n",
    "# print(start)\n",
    "# print(end)\n",
    "ax.xaxis.set_ticks(np.arange(0, 96, 12))\n",
    "ax.xaxis.set_tick_params(rotation=45)"
   ]
  },
  {
   "cell_type": "code",
   "execution_count": 6,
   "id": "82b61e7f",
   "metadata": {
    "ExecuteTime": {
     "end_time": "2022-10-22T13:12:41.668500Z",
     "start_time": "2022-10-22T13:12:40.590491Z"
    }
   },
   "outputs": [
    {
     "data": {
      "image/png": "[encoded data removed]",
      "text/plain": [
       "<Figure size 640x480 with 1 Axes>"
      ]
     },
     "metadata": {},
     "output_type": "display_data"
    },
    {
     "data": {
      "text/plain": [
       "<Figure size 640x480 with 0 Axes>"
      ]
     },
     "metadata": {},
     "output_type": "display_data"
    }
   ],
   "source": [
    "def linear_plot():\n",
    "    import numpy as np\n",
    "    import matplotlib.pyplot as plt\n",
    "    \"\"\"\n",
    "    参数:无\n",
    "    \n",
    "    返回:\n",
    "    w -- 自变量系数, 保留两位小数\n",
    "    b -- 截距项, 保留两位小数\n",
    "    fig -- matplotlib 绘图对象\n",
    "    \"\"\"\n",
    "\n",
    "    data = [[5.06, 5.79], [4.92, 6.61], [4.67, 5.48], [4.54, 6.11], [4.26, 6.39],\n",
    "            [4.07, 4.81], [4.01, 4.16], [4.01, 5.55], [3.66, 5.05], [3.43, 4.34],\n",
    "            [3.12, 3.24], [3.02, 4.80], [2.87, 4.01], [2.64, 3.17], [2.48, 1.61],\n",
    "            [2.48, 2.62], [2.02, 2.50], [1.95, 3.59], [1.79, 1.49], [1.54, 2.10], ]\n",
    "    \n",
    "    ### TODO: 线性拟合计算参数 ###\n",
    "    SumXiYi = 0\n",
    "    SumXi = 0\n",
    "    SumYi = 0\n",
    "    SumXi2 = 0\n",
    "    PointX = []\n",
    "    PointY = []\n",
    "    for item in range(len(data)):\n",
    "        XiYi = data[item][0] * data[item][1]\n",
    "        SumXiYi += XiYi\n",
    "        SumXi += data[item][0]\n",
    "        SumYi += data[item][1]\n",
    "        SumXi2 += data[item][0] * data[item][0]\n",
    "        PointX.append(data[item][0])\n",
    "        PointY.append(data[item][1])\n",
    "    \n",
    "    \n",
    "    w = (len(data) * SumXiYi - SumXi * SumYi) / (len(data) * SumXi2 - SumXi * SumXi)\n",
    "    b = (SumXi2 * SumYi - SumXiYi * SumXi) / (len(data) * SumXi2 - SumXi * SumXi)\n",
    "    w = round(w,2)\n",
    "    b = round(b,2)\n",
    "    \n",
    "    X = np.arange(0.5, 6, 0.01)\n",
    "    Y = w * X + b\n",
    "\n",
    "    plt.plot(X, Y, color='red')\n",
    "    plt.scatter(PointX, PointY,  color='blue') # 散点图\n",
    "\n",
    "    fig = plt.figure() # 务必保留此行，设置绘图对象\n",
    "    \n",
    "    ### TODO: 按题目要求绘图 ### \n",
    "    fig.show()\n",
    "    \n",
    "    return w, b, fig # 务必按此顺序返回\n",
    "\n",
    "if __name__==\"__main__\":\n",
    "    linear_plot()\n",
    "\n"
   ]
  },
  {
   "cell_type": "code",
   "execution_count": null,
   "id": "e13ee8f9",
   "metadata": {},
   "outputs": [],
   "source": []
  }
 ],
 "metadata": {
  "kernelspec": {
   "display_name": "Python 3 (ipykernel)",
   "language": "python",
   "name": "python3"
  },
  "language_info": {
   "codemirror_mode": {
    "name": "ipython",
    "version": 3
   },
   "file_extension": ".py",
   "mimetype": "text/x-python",
   "name": "python",
   "nbconvert_exporter": "python",
   "pygments_lexer": "ipython3",
   "version": "3.10.6"
  },
  "toc": {
   "base_numbering": 1,
   "nav_menu": {},
   "number_sections": true,
   "sideBar": true,
   "skip_h1_title": false,
   "title_cell": "Table of Contents",
   "title_sidebar": "Contents",
   "toc_cell": false,
   "toc_position": {},
   "toc_section_display": true,
   "toc_window_display": true
  }
 },
 "nbformat": 4,
 "nbformat_minor": 5
}
